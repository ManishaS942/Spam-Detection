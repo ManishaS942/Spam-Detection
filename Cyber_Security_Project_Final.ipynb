{
  "nbformat": 4,
  "nbformat_minor": 0,
  "metadata": {
    "colab": {
      "name": "Copy of cybersecurity",
      "provenance": [],
      "collapsed_sections": []
    },
    "kernelspec": {
      "name": "python3",
      "display_name": "Python 3"
    }
  },
  "cells": [
    {
      "cell_type": "markdown",
      "metadata": {
        "id": "5CXmFBTgdzgk"
      },
      "source": [
        "# Project Name : A comprehensive study of spam detection in e-mails\n",
        "\n",
        "---\n",
        "\n",
        "**Submitted By :**\n",
        "\n",
        "Pankaj Kumar Gautam(202IT018)\n",
        "\n",
        "Manisha Sharma(202IT025)\n",
        "\n",
        "---\n",
        "\n",
        "**Under Guidance of :**\n",
        "\n",
        "Dr. Jaidhar C.D.\n",
        "\n",
        "\n"
      ]
    },
    {
      "cell_type": "markdown",
      "metadata": {
        "id": "_eOAncQiPGPR"
      },
      "source": [
        "### Necessary imports"
      ]
    },
    {
      "cell_type": "code",
      "metadata": {
        "id": "1NFOQtP__GWH",
        "colab": {
          "base_uri": "https://localhost:8080/"
        },
        "outputId": "6c9ef7f8-de75-4096-ce6e-fae405ed8b08"
      },
      "source": [
        "!pip -q install pyswarms\n",
        "!pip -q install pyriad"
      ],
      "execution_count": 1,
      "outputs": [
        {
          "output_type": "stream",
          "text": [
            "\u001b[?25l\r\u001b[K     |███▏                            | 10kB 19.7MB/s eta 0:00:01\r\u001b[K     |██████▎                         | 20kB 22.4MB/s eta 0:00:01\r\u001b[K     |█████████▍                      | 30kB 18.9MB/s eta 0:00:01\r\u001b[K     |████████████▋                   | 40kB 16.1MB/s eta 0:00:01\r\u001b[K     |███████████████▊                | 51kB 8.3MB/s eta 0:00:01\r\u001b[K     |██████████████████▉             | 61kB 8.0MB/s eta 0:00:01\r\u001b[K     |██████████████████████          | 71kB 8.1MB/s eta 0:00:01\r\u001b[K     |█████████████████████████▏      | 81kB 8.9MB/s eta 0:00:01\r\u001b[K     |████████████████████████████▎   | 92kB 9.6MB/s eta 0:00:01\r\u001b[K     |███████████████████████████████▌| 102kB 7.5MB/s eta 0:00:01\r\u001b[K     |████████████████████████████████| 112kB 7.5MB/s \n",
            "\u001b[?25h"
          ],
          "name": "stdout"
        }
      ]
    },
    {
      "cell_type": "code",
      "metadata": {
        "id": "TRTQHGQg3dqR"
      },
      "source": [
        "import math\n",
        "import pandas as pd\n",
        "import numpy as np\n",
        "\n",
        "from sklearn import preprocessing\n",
        "from sklearn.preprocessing import StandardScaler\n",
        "from sklearn.model_selection import train_test_split\n",
        "from sklearn.neighbors import KNeighborsClassifier\n",
        "from sklearn.cluster import KMeans\n",
        "from sklearn.ensemble import RandomForestRegressor\n",
        "from sklearn.metrics import confusion_matrix, classification_report, silhouette_score\n",
        "\n",
        "import pyswarms as ps\n",
        "\n",
        "from scipy.spatial.distance import cdist\n",
        "import matplotlib.pyplot as plt\n",
        "import seaborn as sns\n",
        "\n",
        "%load_ext autoreload\n",
        "%autoreload 2\n",
        "%matplotlib inline"
      ],
      "execution_count": 2,
      "outputs": []
    },
    {
      "cell_type": "markdown",
      "metadata": {
        "id": "3Md8Rsxo7aGl"
      },
      "source": [
        "### Dowloading the dataset from the uci repository as mentined in the paper."
      ]
    },
    {
      "cell_type": "code",
      "metadata": {
        "id": "OFPjn3Qh18TB"
      },
      "source": [
        "!wget -q https://archive.ics.uci.edu/ml/machine-learning-databases/spambase/spambase.zip\n",
        "!unzip -o -q spambase.zip"
      ],
      "execution_count": 3,
      "outputs": []
    },
    {
      "cell_type": "markdown",
      "metadata": {
        "id": "b-2Hlp-a-fN9"
      },
      "source": [
        "### Dataset : Spambase dataset from the UCI Machine Learning Repository\n",
        "https://archive.ics.uci.edu/ml/datasets/spambase"
      ]
    },
    {
      "cell_type": "markdown",
      "metadata": {
        "id": "MlQTzcgz88NG"
      },
      "source": [
        "\n",
        "### Description of the Dataset Attributes\n",
        "\n",
        "\n",
        "- **word_freq_WORD**: percentage of words in the e-mail that match *WORD*\n",
        "- **char_freq_CHAR**: percentage of characters in the e-mail that match *CHAR*\n",
        "- **capital_run_length_average**: average length of continous sequences of capital letters\n",
        "- **capital_run_length_longest**: length of longest continous sequence of capital letters\n",
        "- **capital_run_length_total**: total number of capital letters in the e-mail\n",
        "- **spam**: denotes whether the e-mail was considered spam (1) or not (0)"
      ]
    },
    {
      "cell_type": "markdown",
      "metadata": {
        "id": "A22XlMQV7r3L"
      },
      "source": [
        "### Making a pandas dataframe from the downloaded data files"
      ]
    },
    {
      "cell_type": "code",
      "metadata": {
        "id": "2ScWflQ26BiD"
      },
      "source": [
        "names = [\"word_freq_make\", \"word_freq_address\", \"word_freq_all\", \"word_freq_3d\", \"word_freq_our\", \"word_freq_over\", \"word_freq_remove\", \"word_freq_internet\", \"word_freq_order\", \"word_freq_mail\", \"word_freq_receive\", \"word_freq_will\", \"word_freq_people\", \"word_freq_report\", \"word_freq_addresses\", \"word_freq_free\", \"word_freq_business\", \"word_freq_email\", \"word_freq_you\", \"word_freq_credit\", \"word_freq_your\", \"word_freq_font\", \"word_freq_000\", \"word_freq_money\", \"word_freq_hp\", \"word_freq_hpl\", \"word_freq_george\", \"word_freq_650\", \"word_freq_lab\", \"word_freq_labs\", \"word_freq_telnet\", \"word_freq_857\", \"word_freq_data\", \"word_freq_415\", \"word_freq_85\", \"word_freq_technology\", \"word_freq_1999\", \"word_freq_parts\", \"word_freq_pm\", \"word_freq_direct\", \"word_freq_cs\", \"word_freq_meeting\", \"word_freq_original\", \"word_freq_project\", \"word_freq_re\", \"word_freq_edu\", \"word_freq_table\", \"word_freq_conference\", \"char_freq_;\", \"char_freq_(\", \"char_freq_[\", \"char_freq_!\", \"char_freq_$\", \"char_freq_#\", \"capital_run_length_average\", \"capital_run_length_longest\", \"capital_run_length_total\", \"spam\"]"
      ],
      "execution_count": 4,
      "outputs": []
    },
    {
      "cell_type": "code",
      "metadata": {
        "id": "zOCt8N3s43hz"
      },
      "source": [
        "df = pd.read_csv(\"spambase.data\", names=names)"
      ],
      "execution_count": 5,
      "outputs": []
    },
    {
      "cell_type": "markdown",
      "metadata": {
        "id": "lk3TAFo1vkQP"
      },
      "source": [
        "### Output of the data"
      ]
    },
    {
      "cell_type": "code",
      "metadata": {
        "id": "Lh02ZuAadS7y",
        "colab": {
          "base_uri": "https://localhost:8080/",
          "height": 439
        },
        "outputId": "5d90315d-1a34-4981-da04-a1dc55ab8917"
      },
      "source": [
        "df"
      ],
      "execution_count": 6,
      "outputs": [
        {
          "output_type": "execute_result",
          "data": {
            "text/html": [
              "<div>\n",
              "<style scoped>\n",
              "    .dataframe tbody tr th:only-of-type {\n",
              "        vertical-align: middle;\n",
              "    }\n",
              "\n",
              "    .dataframe tbody tr th {\n",
              "        vertical-align: top;\n",
              "    }\n",
              "\n",
              "    .dataframe thead th {\n",
              "        text-align: right;\n",
              "    }\n",
              "</style>\n",
              "<table border=\"1\" class=\"dataframe\">\n",
              "  <thead>\n",
              "    <tr style=\"text-align: right;\">\n",
              "      <th></th>\n",
              "      <th>word_freq_make</th>\n",
              "      <th>word_freq_address</th>\n",
              "      <th>word_freq_all</th>\n",
              "      <th>word_freq_3d</th>\n",
              "      <th>word_freq_our</th>\n",
              "      <th>word_freq_over</th>\n",
              "      <th>word_freq_remove</th>\n",
              "      <th>word_freq_internet</th>\n",
              "      <th>word_freq_order</th>\n",
              "      <th>word_freq_mail</th>\n",
              "      <th>word_freq_receive</th>\n",
              "      <th>word_freq_will</th>\n",
              "      <th>word_freq_people</th>\n",
              "      <th>word_freq_report</th>\n",
              "      <th>word_freq_addresses</th>\n",
              "      <th>word_freq_free</th>\n",
              "      <th>word_freq_business</th>\n",
              "      <th>word_freq_email</th>\n",
              "      <th>word_freq_you</th>\n",
              "      <th>word_freq_credit</th>\n",
              "      <th>word_freq_your</th>\n",
              "      <th>word_freq_font</th>\n",
              "      <th>word_freq_000</th>\n",
              "      <th>word_freq_money</th>\n",
              "      <th>word_freq_hp</th>\n",
              "      <th>word_freq_hpl</th>\n",
              "      <th>word_freq_george</th>\n",
              "      <th>word_freq_650</th>\n",
              "      <th>word_freq_lab</th>\n",
              "      <th>word_freq_labs</th>\n",
              "      <th>word_freq_telnet</th>\n",
              "      <th>word_freq_857</th>\n",
              "      <th>word_freq_data</th>\n",
              "      <th>word_freq_415</th>\n",
              "      <th>word_freq_85</th>\n",
              "      <th>word_freq_technology</th>\n",
              "      <th>word_freq_1999</th>\n",
              "      <th>word_freq_parts</th>\n",
              "      <th>word_freq_pm</th>\n",
              "      <th>word_freq_direct</th>\n",
              "      <th>word_freq_cs</th>\n",
              "      <th>word_freq_meeting</th>\n",
              "      <th>word_freq_original</th>\n",
              "      <th>word_freq_project</th>\n",
              "      <th>word_freq_re</th>\n",
              "      <th>word_freq_edu</th>\n",
              "      <th>word_freq_table</th>\n",
              "      <th>word_freq_conference</th>\n",
              "      <th>char_freq_;</th>\n",
              "      <th>char_freq_(</th>\n",
              "      <th>char_freq_[</th>\n",
              "      <th>char_freq_!</th>\n",
              "      <th>char_freq_$</th>\n",
              "      <th>char_freq_#</th>\n",
              "      <th>capital_run_length_average</th>\n",
              "      <th>capital_run_length_longest</th>\n",
              "      <th>capital_run_length_total</th>\n",
              "      <th>spam</th>\n",
              "    </tr>\n",
              "  </thead>\n",
              "  <tbody>\n",
              "    <tr>\n",
              "      <th>0</th>\n",
              "      <td>0.00</td>\n",
              "      <td>0.64</td>\n",
              "      <td>0.64</td>\n",
              "      <td>0.0</td>\n",
              "      <td>0.32</td>\n",
              "      <td>0.00</td>\n",
              "      <td>0.00</td>\n",
              "      <td>0.00</td>\n",
              "      <td>0.00</td>\n",
              "      <td>0.00</td>\n",
              "      <td>0.00</td>\n",
              "      <td>0.64</td>\n",
              "      <td>0.00</td>\n",
              "      <td>0.00</td>\n",
              "      <td>0.00</td>\n",
              "      <td>0.32</td>\n",
              "      <td>0.00</td>\n",
              "      <td>1.29</td>\n",
              "      <td>1.93</td>\n",
              "      <td>0.00</td>\n",
              "      <td>0.96</td>\n",
              "      <td>0.0</td>\n",
              "      <td>0.00</td>\n",
              "      <td>0.00</td>\n",
              "      <td>0.0</td>\n",
              "      <td>0.0</td>\n",
              "      <td>0.0</td>\n",
              "      <td>0.0</td>\n",
              "      <td>0.0</td>\n",
              "      <td>0.0</td>\n",
              "      <td>0.0</td>\n",
              "      <td>0.0</td>\n",
              "      <td>0.0</td>\n",
              "      <td>0.0</td>\n",
              "      <td>0.0</td>\n",
              "      <td>0.0</td>\n",
              "      <td>0.00</td>\n",
              "      <td>0.0</td>\n",
              "      <td>0.0</td>\n",
              "      <td>0.00</td>\n",
              "      <td>0.0</td>\n",
              "      <td>0.0</td>\n",
              "      <td>0.00</td>\n",
              "      <td>0.00</td>\n",
              "      <td>0.00</td>\n",
              "      <td>0.00</td>\n",
              "      <td>0.0</td>\n",
              "      <td>0.0</td>\n",
              "      <td>0.000</td>\n",
              "      <td>0.000</td>\n",
              "      <td>0.0</td>\n",
              "      <td>0.778</td>\n",
              "      <td>0.000</td>\n",
              "      <td>0.000</td>\n",
              "      <td>3.756</td>\n",
              "      <td>61</td>\n",
              "      <td>278</td>\n",
              "      <td>1</td>\n",
              "    </tr>\n",
              "    <tr>\n",
              "      <th>1</th>\n",
              "      <td>0.21</td>\n",
              "      <td>0.28</td>\n",
              "      <td>0.50</td>\n",
              "      <td>0.0</td>\n",
              "      <td>0.14</td>\n",
              "      <td>0.28</td>\n",
              "      <td>0.21</td>\n",
              "      <td>0.07</td>\n",
              "      <td>0.00</td>\n",
              "      <td>0.94</td>\n",
              "      <td>0.21</td>\n",
              "      <td>0.79</td>\n",
              "      <td>0.65</td>\n",
              "      <td>0.21</td>\n",
              "      <td>0.14</td>\n",
              "      <td>0.14</td>\n",
              "      <td>0.07</td>\n",
              "      <td>0.28</td>\n",
              "      <td>3.47</td>\n",
              "      <td>0.00</td>\n",
              "      <td>1.59</td>\n",
              "      <td>0.0</td>\n",
              "      <td>0.43</td>\n",
              "      <td>0.43</td>\n",
              "      <td>0.0</td>\n",
              "      <td>0.0</td>\n",
              "      <td>0.0</td>\n",
              "      <td>0.0</td>\n",
              "      <td>0.0</td>\n",
              "      <td>0.0</td>\n",
              "      <td>0.0</td>\n",
              "      <td>0.0</td>\n",
              "      <td>0.0</td>\n",
              "      <td>0.0</td>\n",
              "      <td>0.0</td>\n",
              "      <td>0.0</td>\n",
              "      <td>0.07</td>\n",
              "      <td>0.0</td>\n",
              "      <td>0.0</td>\n",
              "      <td>0.00</td>\n",
              "      <td>0.0</td>\n",
              "      <td>0.0</td>\n",
              "      <td>0.00</td>\n",
              "      <td>0.00</td>\n",
              "      <td>0.00</td>\n",
              "      <td>0.00</td>\n",
              "      <td>0.0</td>\n",
              "      <td>0.0</td>\n",
              "      <td>0.000</td>\n",
              "      <td>0.132</td>\n",
              "      <td>0.0</td>\n",
              "      <td>0.372</td>\n",
              "      <td>0.180</td>\n",
              "      <td>0.048</td>\n",
              "      <td>5.114</td>\n",
              "      <td>101</td>\n",
              "      <td>1028</td>\n",
              "      <td>1</td>\n",
              "    </tr>\n",
              "    <tr>\n",
              "      <th>2</th>\n",
              "      <td>0.06</td>\n",
              "      <td>0.00</td>\n",
              "      <td>0.71</td>\n",
              "      <td>0.0</td>\n",
              "      <td>1.23</td>\n",
              "      <td>0.19</td>\n",
              "      <td>0.19</td>\n",
              "      <td>0.12</td>\n",
              "      <td>0.64</td>\n",
              "      <td>0.25</td>\n",
              "      <td>0.38</td>\n",
              "      <td>0.45</td>\n",
              "      <td>0.12</td>\n",
              "      <td>0.00</td>\n",
              "      <td>1.75</td>\n",
              "      <td>0.06</td>\n",
              "      <td>0.06</td>\n",
              "      <td>1.03</td>\n",
              "      <td>1.36</td>\n",
              "      <td>0.32</td>\n",
              "      <td>0.51</td>\n",
              "      <td>0.0</td>\n",
              "      <td>1.16</td>\n",
              "      <td>0.06</td>\n",
              "      <td>0.0</td>\n",
              "      <td>0.0</td>\n",
              "      <td>0.0</td>\n",
              "      <td>0.0</td>\n",
              "      <td>0.0</td>\n",
              "      <td>0.0</td>\n",
              "      <td>0.0</td>\n",
              "      <td>0.0</td>\n",
              "      <td>0.0</td>\n",
              "      <td>0.0</td>\n",
              "      <td>0.0</td>\n",
              "      <td>0.0</td>\n",
              "      <td>0.00</td>\n",
              "      <td>0.0</td>\n",
              "      <td>0.0</td>\n",
              "      <td>0.06</td>\n",
              "      <td>0.0</td>\n",
              "      <td>0.0</td>\n",
              "      <td>0.12</td>\n",
              "      <td>0.00</td>\n",
              "      <td>0.06</td>\n",
              "      <td>0.06</td>\n",
              "      <td>0.0</td>\n",
              "      <td>0.0</td>\n",
              "      <td>0.010</td>\n",
              "      <td>0.143</td>\n",
              "      <td>0.0</td>\n",
              "      <td>0.276</td>\n",
              "      <td>0.184</td>\n",
              "      <td>0.010</td>\n",
              "      <td>9.821</td>\n",
              "      <td>485</td>\n",
              "      <td>2259</td>\n",
              "      <td>1</td>\n",
              "    </tr>\n",
              "    <tr>\n",
              "      <th>3</th>\n",
              "      <td>0.00</td>\n",
              "      <td>0.00</td>\n",
              "      <td>0.00</td>\n",
              "      <td>0.0</td>\n",
              "      <td>0.63</td>\n",
              "      <td>0.00</td>\n",
              "      <td>0.31</td>\n",
              "      <td>0.63</td>\n",
              "      <td>0.31</td>\n",
              "      <td>0.63</td>\n",
              "      <td>0.31</td>\n",
              "      <td>0.31</td>\n",
              "      <td>0.31</td>\n",
              "      <td>0.00</td>\n",
              "      <td>0.00</td>\n",
              "      <td>0.31</td>\n",
              "      <td>0.00</td>\n",
              "      <td>0.00</td>\n",
              "      <td>3.18</td>\n",
              "      <td>0.00</td>\n",
              "      <td>0.31</td>\n",
              "      <td>0.0</td>\n",
              "      <td>0.00</td>\n",
              "      <td>0.00</td>\n",
              "      <td>0.0</td>\n",
              "      <td>0.0</td>\n",
              "      <td>0.0</td>\n",
              "      <td>0.0</td>\n",
              "      <td>0.0</td>\n",
              "      <td>0.0</td>\n",
              "      <td>0.0</td>\n",
              "      <td>0.0</td>\n",
              "      <td>0.0</td>\n",
              "      <td>0.0</td>\n",
              "      <td>0.0</td>\n",
              "      <td>0.0</td>\n",
              "      <td>0.00</td>\n",
              "      <td>0.0</td>\n",
              "      <td>0.0</td>\n",
              "      <td>0.00</td>\n",
              "      <td>0.0</td>\n",
              "      <td>0.0</td>\n",
              "      <td>0.00</td>\n",
              "      <td>0.00</td>\n",
              "      <td>0.00</td>\n",
              "      <td>0.00</td>\n",
              "      <td>0.0</td>\n",
              "      <td>0.0</td>\n",
              "      <td>0.000</td>\n",
              "      <td>0.137</td>\n",
              "      <td>0.0</td>\n",
              "      <td>0.137</td>\n",
              "      <td>0.000</td>\n",
              "      <td>0.000</td>\n",
              "      <td>3.537</td>\n",
              "      <td>40</td>\n",
              "      <td>191</td>\n",
              "      <td>1</td>\n",
              "    </tr>\n",
              "    <tr>\n",
              "      <th>4</th>\n",
              "      <td>0.00</td>\n",
              "      <td>0.00</td>\n",
              "      <td>0.00</td>\n",
              "      <td>0.0</td>\n",
              "      <td>0.63</td>\n",
              "      <td>0.00</td>\n",
              "      <td>0.31</td>\n",
              "      <td>0.63</td>\n",
              "      <td>0.31</td>\n",
              "      <td>0.63</td>\n",
              "      <td>0.31</td>\n",
              "      <td>0.31</td>\n",
              "      <td>0.31</td>\n",
              "      <td>0.00</td>\n",
              "      <td>0.00</td>\n",
              "      <td>0.31</td>\n",
              "      <td>0.00</td>\n",
              "      <td>0.00</td>\n",
              "      <td>3.18</td>\n",
              "      <td>0.00</td>\n",
              "      <td>0.31</td>\n",
              "      <td>0.0</td>\n",
              "      <td>0.00</td>\n",
              "      <td>0.00</td>\n",
              "      <td>0.0</td>\n",
              "      <td>0.0</td>\n",
              "      <td>0.0</td>\n",
              "      <td>0.0</td>\n",
              "      <td>0.0</td>\n",
              "      <td>0.0</td>\n",
              "      <td>0.0</td>\n",
              "      <td>0.0</td>\n",
              "      <td>0.0</td>\n",
              "      <td>0.0</td>\n",
              "      <td>0.0</td>\n",
              "      <td>0.0</td>\n",
              "      <td>0.00</td>\n",
              "      <td>0.0</td>\n",
              "      <td>0.0</td>\n",
              "      <td>0.00</td>\n",
              "      <td>0.0</td>\n",
              "      <td>0.0</td>\n",
              "      <td>0.00</td>\n",
              "      <td>0.00</td>\n",
              "      <td>0.00</td>\n",
              "      <td>0.00</td>\n",
              "      <td>0.0</td>\n",
              "      <td>0.0</td>\n",
              "      <td>0.000</td>\n",
              "      <td>0.135</td>\n",
              "      <td>0.0</td>\n",
              "      <td>0.135</td>\n",
              "      <td>0.000</td>\n",
              "      <td>0.000</td>\n",
              "      <td>3.537</td>\n",
              "      <td>40</td>\n",
              "      <td>191</td>\n",
              "      <td>1</td>\n",
              "    </tr>\n",
              "    <tr>\n",
              "      <th>...</th>\n",
              "      <td>...</td>\n",
              "      <td>...</td>\n",
              "      <td>...</td>\n",
              "      <td>...</td>\n",
              "      <td>...</td>\n",
              "      <td>...</td>\n",
              "      <td>...</td>\n",
              "      <td>...</td>\n",
              "      <td>...</td>\n",
              "      <td>...</td>\n",
              "      <td>...</td>\n",
              "      <td>...</td>\n",
              "      <td>...</td>\n",
              "      <td>...</td>\n",
              "      <td>...</td>\n",
              "      <td>...</td>\n",
              "      <td>...</td>\n",
              "      <td>...</td>\n",
              "      <td>...</td>\n",
              "      <td>...</td>\n",
              "      <td>...</td>\n",
              "      <td>...</td>\n",
              "      <td>...</td>\n",
              "      <td>...</td>\n",
              "      <td>...</td>\n",
              "      <td>...</td>\n",
              "      <td>...</td>\n",
              "      <td>...</td>\n",
              "      <td>...</td>\n",
              "      <td>...</td>\n",
              "      <td>...</td>\n",
              "      <td>...</td>\n",
              "      <td>...</td>\n",
              "      <td>...</td>\n",
              "      <td>...</td>\n",
              "      <td>...</td>\n",
              "      <td>...</td>\n",
              "      <td>...</td>\n",
              "      <td>...</td>\n",
              "      <td>...</td>\n",
              "      <td>...</td>\n",
              "      <td>...</td>\n",
              "      <td>...</td>\n",
              "      <td>...</td>\n",
              "      <td>...</td>\n",
              "      <td>...</td>\n",
              "      <td>...</td>\n",
              "      <td>...</td>\n",
              "      <td>...</td>\n",
              "      <td>...</td>\n",
              "      <td>...</td>\n",
              "      <td>...</td>\n",
              "      <td>...</td>\n",
              "      <td>...</td>\n",
              "      <td>...</td>\n",
              "      <td>...</td>\n",
              "      <td>...</td>\n",
              "      <td>...</td>\n",
              "    </tr>\n",
              "    <tr>\n",
              "      <th>4596</th>\n",
              "      <td>0.31</td>\n",
              "      <td>0.00</td>\n",
              "      <td>0.62</td>\n",
              "      <td>0.0</td>\n",
              "      <td>0.00</td>\n",
              "      <td>0.31</td>\n",
              "      <td>0.00</td>\n",
              "      <td>0.00</td>\n",
              "      <td>0.00</td>\n",
              "      <td>0.00</td>\n",
              "      <td>0.00</td>\n",
              "      <td>1.88</td>\n",
              "      <td>0.00</td>\n",
              "      <td>0.00</td>\n",
              "      <td>0.00</td>\n",
              "      <td>0.00</td>\n",
              "      <td>0.00</td>\n",
              "      <td>0.00</td>\n",
              "      <td>0.62</td>\n",
              "      <td>0.00</td>\n",
              "      <td>0.00</td>\n",
              "      <td>0.0</td>\n",
              "      <td>0.00</td>\n",
              "      <td>0.00</td>\n",
              "      <td>0.0</td>\n",
              "      <td>0.0</td>\n",
              "      <td>0.0</td>\n",
              "      <td>0.0</td>\n",
              "      <td>0.0</td>\n",
              "      <td>0.0</td>\n",
              "      <td>0.0</td>\n",
              "      <td>0.0</td>\n",
              "      <td>0.0</td>\n",
              "      <td>0.0</td>\n",
              "      <td>0.0</td>\n",
              "      <td>0.0</td>\n",
              "      <td>0.00</td>\n",
              "      <td>0.0</td>\n",
              "      <td>0.0</td>\n",
              "      <td>0.00</td>\n",
              "      <td>0.0</td>\n",
              "      <td>0.0</td>\n",
              "      <td>0.00</td>\n",
              "      <td>0.31</td>\n",
              "      <td>0.31</td>\n",
              "      <td>0.31</td>\n",
              "      <td>0.0</td>\n",
              "      <td>0.0</td>\n",
              "      <td>0.000</td>\n",
              "      <td>0.232</td>\n",
              "      <td>0.0</td>\n",
              "      <td>0.000</td>\n",
              "      <td>0.000</td>\n",
              "      <td>0.000</td>\n",
              "      <td>1.142</td>\n",
              "      <td>3</td>\n",
              "      <td>88</td>\n",
              "      <td>0</td>\n",
              "    </tr>\n",
              "    <tr>\n",
              "      <th>4597</th>\n",
              "      <td>0.00</td>\n",
              "      <td>0.00</td>\n",
              "      <td>0.00</td>\n",
              "      <td>0.0</td>\n",
              "      <td>0.00</td>\n",
              "      <td>0.00</td>\n",
              "      <td>0.00</td>\n",
              "      <td>0.00</td>\n",
              "      <td>0.00</td>\n",
              "      <td>0.00</td>\n",
              "      <td>0.00</td>\n",
              "      <td>0.00</td>\n",
              "      <td>0.00</td>\n",
              "      <td>0.00</td>\n",
              "      <td>0.00</td>\n",
              "      <td>0.00</td>\n",
              "      <td>0.00</td>\n",
              "      <td>0.00</td>\n",
              "      <td>6.00</td>\n",
              "      <td>0.00</td>\n",
              "      <td>2.00</td>\n",
              "      <td>0.0</td>\n",
              "      <td>0.00</td>\n",
              "      <td>0.00</td>\n",
              "      <td>0.0</td>\n",
              "      <td>0.0</td>\n",
              "      <td>0.0</td>\n",
              "      <td>0.0</td>\n",
              "      <td>0.0</td>\n",
              "      <td>0.0</td>\n",
              "      <td>0.0</td>\n",
              "      <td>0.0</td>\n",
              "      <td>0.0</td>\n",
              "      <td>0.0</td>\n",
              "      <td>0.0</td>\n",
              "      <td>0.0</td>\n",
              "      <td>0.00</td>\n",
              "      <td>0.0</td>\n",
              "      <td>0.0</td>\n",
              "      <td>0.00</td>\n",
              "      <td>0.0</td>\n",
              "      <td>0.0</td>\n",
              "      <td>0.00</td>\n",
              "      <td>0.00</td>\n",
              "      <td>0.00</td>\n",
              "      <td>2.00</td>\n",
              "      <td>0.0</td>\n",
              "      <td>0.0</td>\n",
              "      <td>0.000</td>\n",
              "      <td>0.000</td>\n",
              "      <td>0.0</td>\n",
              "      <td>0.353</td>\n",
              "      <td>0.000</td>\n",
              "      <td>0.000</td>\n",
              "      <td>1.555</td>\n",
              "      <td>4</td>\n",
              "      <td>14</td>\n",
              "      <td>0</td>\n",
              "    </tr>\n",
              "    <tr>\n",
              "      <th>4598</th>\n",
              "      <td>0.30</td>\n",
              "      <td>0.00</td>\n",
              "      <td>0.30</td>\n",
              "      <td>0.0</td>\n",
              "      <td>0.00</td>\n",
              "      <td>0.00</td>\n",
              "      <td>0.00</td>\n",
              "      <td>0.00</td>\n",
              "      <td>0.00</td>\n",
              "      <td>0.00</td>\n",
              "      <td>0.00</td>\n",
              "      <td>1.80</td>\n",
              "      <td>0.30</td>\n",
              "      <td>0.00</td>\n",
              "      <td>0.00</td>\n",
              "      <td>0.00</td>\n",
              "      <td>0.00</td>\n",
              "      <td>0.90</td>\n",
              "      <td>1.50</td>\n",
              "      <td>0.00</td>\n",
              "      <td>0.30</td>\n",
              "      <td>0.0</td>\n",
              "      <td>0.00</td>\n",
              "      <td>0.00</td>\n",
              "      <td>0.0</td>\n",
              "      <td>0.0</td>\n",
              "      <td>0.0</td>\n",
              "      <td>0.0</td>\n",
              "      <td>0.0</td>\n",
              "      <td>0.0</td>\n",
              "      <td>0.0</td>\n",
              "      <td>0.0</td>\n",
              "      <td>0.0</td>\n",
              "      <td>0.0</td>\n",
              "      <td>0.0</td>\n",
              "      <td>0.0</td>\n",
              "      <td>0.00</td>\n",
              "      <td>0.0</td>\n",
              "      <td>0.0</td>\n",
              "      <td>0.00</td>\n",
              "      <td>0.0</td>\n",
              "      <td>0.0</td>\n",
              "      <td>0.00</td>\n",
              "      <td>0.00</td>\n",
              "      <td>0.00</td>\n",
              "      <td>1.20</td>\n",
              "      <td>0.0</td>\n",
              "      <td>0.0</td>\n",
              "      <td>0.102</td>\n",
              "      <td>0.718</td>\n",
              "      <td>0.0</td>\n",
              "      <td>0.000</td>\n",
              "      <td>0.000</td>\n",
              "      <td>0.000</td>\n",
              "      <td>1.404</td>\n",
              "      <td>6</td>\n",
              "      <td>118</td>\n",
              "      <td>0</td>\n",
              "    </tr>\n",
              "    <tr>\n",
              "      <th>4599</th>\n",
              "      <td>0.96</td>\n",
              "      <td>0.00</td>\n",
              "      <td>0.00</td>\n",
              "      <td>0.0</td>\n",
              "      <td>0.32</td>\n",
              "      <td>0.00</td>\n",
              "      <td>0.00</td>\n",
              "      <td>0.00</td>\n",
              "      <td>0.00</td>\n",
              "      <td>0.00</td>\n",
              "      <td>0.00</td>\n",
              "      <td>0.32</td>\n",
              "      <td>0.00</td>\n",
              "      <td>0.00</td>\n",
              "      <td>0.00</td>\n",
              "      <td>0.00</td>\n",
              "      <td>0.00</td>\n",
              "      <td>0.00</td>\n",
              "      <td>1.93</td>\n",
              "      <td>0.00</td>\n",
              "      <td>0.32</td>\n",
              "      <td>0.0</td>\n",
              "      <td>0.00</td>\n",
              "      <td>0.00</td>\n",
              "      <td>0.0</td>\n",
              "      <td>0.0</td>\n",
              "      <td>0.0</td>\n",
              "      <td>0.0</td>\n",
              "      <td>0.0</td>\n",
              "      <td>0.0</td>\n",
              "      <td>0.0</td>\n",
              "      <td>0.0</td>\n",
              "      <td>0.0</td>\n",
              "      <td>0.0</td>\n",
              "      <td>0.0</td>\n",
              "      <td>0.0</td>\n",
              "      <td>0.00</td>\n",
              "      <td>0.0</td>\n",
              "      <td>0.0</td>\n",
              "      <td>0.00</td>\n",
              "      <td>0.0</td>\n",
              "      <td>0.0</td>\n",
              "      <td>0.00</td>\n",
              "      <td>0.32</td>\n",
              "      <td>0.00</td>\n",
              "      <td>0.32</td>\n",
              "      <td>0.0</td>\n",
              "      <td>0.0</td>\n",
              "      <td>0.000</td>\n",
              "      <td>0.057</td>\n",
              "      <td>0.0</td>\n",
              "      <td>0.000</td>\n",
              "      <td>0.000</td>\n",
              "      <td>0.000</td>\n",
              "      <td>1.147</td>\n",
              "      <td>5</td>\n",
              "      <td>78</td>\n",
              "      <td>0</td>\n",
              "    </tr>\n",
              "    <tr>\n",
              "      <th>4600</th>\n",
              "      <td>0.00</td>\n",
              "      <td>0.00</td>\n",
              "      <td>0.65</td>\n",
              "      <td>0.0</td>\n",
              "      <td>0.00</td>\n",
              "      <td>0.00</td>\n",
              "      <td>0.00</td>\n",
              "      <td>0.00</td>\n",
              "      <td>0.00</td>\n",
              "      <td>0.00</td>\n",
              "      <td>0.00</td>\n",
              "      <td>0.00</td>\n",
              "      <td>0.65</td>\n",
              "      <td>0.00</td>\n",
              "      <td>0.00</td>\n",
              "      <td>0.00</td>\n",
              "      <td>0.00</td>\n",
              "      <td>0.00</td>\n",
              "      <td>4.60</td>\n",
              "      <td>0.00</td>\n",
              "      <td>0.65</td>\n",
              "      <td>0.0</td>\n",
              "      <td>0.00</td>\n",
              "      <td>0.00</td>\n",
              "      <td>0.0</td>\n",
              "      <td>0.0</td>\n",
              "      <td>0.0</td>\n",
              "      <td>0.0</td>\n",
              "      <td>0.0</td>\n",
              "      <td>0.0</td>\n",
              "      <td>0.0</td>\n",
              "      <td>0.0</td>\n",
              "      <td>0.0</td>\n",
              "      <td>0.0</td>\n",
              "      <td>0.0</td>\n",
              "      <td>0.0</td>\n",
              "      <td>0.00</td>\n",
              "      <td>0.0</td>\n",
              "      <td>0.0</td>\n",
              "      <td>0.00</td>\n",
              "      <td>0.0</td>\n",
              "      <td>0.0</td>\n",
              "      <td>0.00</td>\n",
              "      <td>0.00</td>\n",
              "      <td>1.97</td>\n",
              "      <td>0.65</td>\n",
              "      <td>0.0</td>\n",
              "      <td>0.0</td>\n",
              "      <td>0.000</td>\n",
              "      <td>0.000</td>\n",
              "      <td>0.0</td>\n",
              "      <td>0.125</td>\n",
              "      <td>0.000</td>\n",
              "      <td>0.000</td>\n",
              "      <td>1.250</td>\n",
              "      <td>5</td>\n",
              "      <td>40</td>\n",
              "      <td>0</td>\n",
              "    </tr>\n",
              "  </tbody>\n",
              "</table>\n",
              "<p>4601 rows × 58 columns</p>\n",
              "</div>"
            ],
            "text/plain": [
              "      word_freq_make  word_freq_address  ...  capital_run_length_total  spam\n",
              "0               0.00               0.64  ...                       278     1\n",
              "1               0.21               0.28  ...                      1028     1\n",
              "2               0.06               0.00  ...                      2259     1\n",
              "3               0.00               0.00  ...                       191     1\n",
              "4               0.00               0.00  ...                       191     1\n",
              "...              ...                ...  ...                       ...   ...\n",
              "4596            0.31               0.00  ...                        88     0\n",
              "4597            0.00               0.00  ...                        14     0\n",
              "4598            0.30               0.00  ...                       118     0\n",
              "4599            0.96               0.00  ...                        78     0\n",
              "4600            0.00               0.00  ...                        40     0\n",
              "\n",
              "[4601 rows x 58 columns]"
            ]
          },
          "metadata": {
            "tags": []
          },
          "execution_count": 6
        }
      ]
    },
    {
      "cell_type": "code",
      "metadata": {
        "colab": {
          "base_uri": "https://localhost:8080/",
          "height": 162
        },
        "id": "IdyvJNpO5a1I",
        "outputId": "86053d92-8a8a-4a72-c7e7-a2010cc859f8"
      },
      "source": [
        "df.head(3)"
      ],
      "execution_count": 7,
      "outputs": [
        {
          "output_type": "execute_result",
          "data": {
            "text/html": [
              "<div>\n",
              "<style scoped>\n",
              "    .dataframe tbody tr th:only-of-type {\n",
              "        vertical-align: middle;\n",
              "    }\n",
              "\n",
              "    .dataframe tbody tr th {\n",
              "        vertical-align: top;\n",
              "    }\n",
              "\n",
              "    .dataframe thead th {\n",
              "        text-align: right;\n",
              "    }\n",
              "</style>\n",
              "<table border=\"1\" class=\"dataframe\">\n",
              "  <thead>\n",
              "    <tr style=\"text-align: right;\">\n",
              "      <th></th>\n",
              "      <th>word_freq_make</th>\n",
              "      <th>word_freq_address</th>\n",
              "      <th>word_freq_all</th>\n",
              "      <th>word_freq_3d</th>\n",
              "      <th>word_freq_our</th>\n",
              "      <th>word_freq_over</th>\n",
              "      <th>word_freq_remove</th>\n",
              "      <th>word_freq_internet</th>\n",
              "      <th>word_freq_order</th>\n",
              "      <th>word_freq_mail</th>\n",
              "      <th>word_freq_receive</th>\n",
              "      <th>word_freq_will</th>\n",
              "      <th>word_freq_people</th>\n",
              "      <th>word_freq_report</th>\n",
              "      <th>word_freq_addresses</th>\n",
              "      <th>word_freq_free</th>\n",
              "      <th>word_freq_business</th>\n",
              "      <th>word_freq_email</th>\n",
              "      <th>word_freq_you</th>\n",
              "      <th>word_freq_credit</th>\n",
              "      <th>word_freq_your</th>\n",
              "      <th>word_freq_font</th>\n",
              "      <th>word_freq_000</th>\n",
              "      <th>word_freq_money</th>\n",
              "      <th>word_freq_hp</th>\n",
              "      <th>word_freq_hpl</th>\n",
              "      <th>word_freq_george</th>\n",
              "      <th>word_freq_650</th>\n",
              "      <th>word_freq_lab</th>\n",
              "      <th>word_freq_labs</th>\n",
              "      <th>word_freq_telnet</th>\n",
              "      <th>word_freq_857</th>\n",
              "      <th>word_freq_data</th>\n",
              "      <th>word_freq_415</th>\n",
              "      <th>word_freq_85</th>\n",
              "      <th>word_freq_technology</th>\n",
              "      <th>word_freq_1999</th>\n",
              "      <th>word_freq_parts</th>\n",
              "      <th>word_freq_pm</th>\n",
              "      <th>word_freq_direct</th>\n",
              "      <th>word_freq_cs</th>\n",
              "      <th>word_freq_meeting</th>\n",
              "      <th>word_freq_original</th>\n",
              "      <th>word_freq_project</th>\n",
              "      <th>word_freq_re</th>\n",
              "      <th>word_freq_edu</th>\n",
              "      <th>word_freq_table</th>\n",
              "      <th>word_freq_conference</th>\n",
              "      <th>char_freq_;</th>\n",
              "      <th>char_freq_(</th>\n",
              "      <th>char_freq_[</th>\n",
              "      <th>char_freq_!</th>\n",
              "      <th>char_freq_$</th>\n",
              "      <th>char_freq_#</th>\n",
              "      <th>capital_run_length_average</th>\n",
              "      <th>capital_run_length_longest</th>\n",
              "      <th>capital_run_length_total</th>\n",
              "      <th>spam</th>\n",
              "    </tr>\n",
              "  </thead>\n",
              "  <tbody>\n",
              "    <tr>\n",
              "      <th>0</th>\n",
              "      <td>0.00</td>\n",
              "      <td>0.64</td>\n",
              "      <td>0.64</td>\n",
              "      <td>0.0</td>\n",
              "      <td>0.32</td>\n",
              "      <td>0.00</td>\n",
              "      <td>0.00</td>\n",
              "      <td>0.00</td>\n",
              "      <td>0.00</td>\n",
              "      <td>0.00</td>\n",
              "      <td>0.00</td>\n",
              "      <td>0.64</td>\n",
              "      <td>0.00</td>\n",
              "      <td>0.00</td>\n",
              "      <td>0.00</td>\n",
              "      <td>0.32</td>\n",
              "      <td>0.00</td>\n",
              "      <td>1.29</td>\n",
              "      <td>1.93</td>\n",
              "      <td>0.00</td>\n",
              "      <td>0.96</td>\n",
              "      <td>0.0</td>\n",
              "      <td>0.00</td>\n",
              "      <td>0.00</td>\n",
              "      <td>0.0</td>\n",
              "      <td>0.0</td>\n",
              "      <td>0.0</td>\n",
              "      <td>0.0</td>\n",
              "      <td>0.0</td>\n",
              "      <td>0.0</td>\n",
              "      <td>0.0</td>\n",
              "      <td>0.0</td>\n",
              "      <td>0.0</td>\n",
              "      <td>0.0</td>\n",
              "      <td>0.0</td>\n",
              "      <td>0.0</td>\n",
              "      <td>0.00</td>\n",
              "      <td>0.0</td>\n",
              "      <td>0.0</td>\n",
              "      <td>0.00</td>\n",
              "      <td>0.0</td>\n",
              "      <td>0.0</td>\n",
              "      <td>0.00</td>\n",
              "      <td>0.0</td>\n",
              "      <td>0.00</td>\n",
              "      <td>0.00</td>\n",
              "      <td>0.0</td>\n",
              "      <td>0.0</td>\n",
              "      <td>0.00</td>\n",
              "      <td>0.000</td>\n",
              "      <td>0.0</td>\n",
              "      <td>0.778</td>\n",
              "      <td>0.000</td>\n",
              "      <td>0.000</td>\n",
              "      <td>3.756</td>\n",
              "      <td>61</td>\n",
              "      <td>278</td>\n",
              "      <td>1</td>\n",
              "    </tr>\n",
              "    <tr>\n",
              "      <th>1</th>\n",
              "      <td>0.21</td>\n",
              "      <td>0.28</td>\n",
              "      <td>0.50</td>\n",
              "      <td>0.0</td>\n",
              "      <td>0.14</td>\n",
              "      <td>0.28</td>\n",
              "      <td>0.21</td>\n",
              "      <td>0.07</td>\n",
              "      <td>0.00</td>\n",
              "      <td>0.94</td>\n",
              "      <td>0.21</td>\n",
              "      <td>0.79</td>\n",
              "      <td>0.65</td>\n",
              "      <td>0.21</td>\n",
              "      <td>0.14</td>\n",
              "      <td>0.14</td>\n",
              "      <td>0.07</td>\n",
              "      <td>0.28</td>\n",
              "      <td>3.47</td>\n",
              "      <td>0.00</td>\n",
              "      <td>1.59</td>\n",
              "      <td>0.0</td>\n",
              "      <td>0.43</td>\n",
              "      <td>0.43</td>\n",
              "      <td>0.0</td>\n",
              "      <td>0.0</td>\n",
              "      <td>0.0</td>\n",
              "      <td>0.0</td>\n",
              "      <td>0.0</td>\n",
              "      <td>0.0</td>\n",
              "      <td>0.0</td>\n",
              "      <td>0.0</td>\n",
              "      <td>0.0</td>\n",
              "      <td>0.0</td>\n",
              "      <td>0.0</td>\n",
              "      <td>0.0</td>\n",
              "      <td>0.07</td>\n",
              "      <td>0.0</td>\n",
              "      <td>0.0</td>\n",
              "      <td>0.00</td>\n",
              "      <td>0.0</td>\n",
              "      <td>0.0</td>\n",
              "      <td>0.00</td>\n",
              "      <td>0.0</td>\n",
              "      <td>0.00</td>\n",
              "      <td>0.00</td>\n",
              "      <td>0.0</td>\n",
              "      <td>0.0</td>\n",
              "      <td>0.00</td>\n",
              "      <td>0.132</td>\n",
              "      <td>0.0</td>\n",
              "      <td>0.372</td>\n",
              "      <td>0.180</td>\n",
              "      <td>0.048</td>\n",
              "      <td>5.114</td>\n",
              "      <td>101</td>\n",
              "      <td>1028</td>\n",
              "      <td>1</td>\n",
              "    </tr>\n",
              "    <tr>\n",
              "      <th>2</th>\n",
              "      <td>0.06</td>\n",
              "      <td>0.00</td>\n",
              "      <td>0.71</td>\n",
              "      <td>0.0</td>\n",
              "      <td>1.23</td>\n",
              "      <td>0.19</td>\n",
              "      <td>0.19</td>\n",
              "      <td>0.12</td>\n",
              "      <td>0.64</td>\n",
              "      <td>0.25</td>\n",
              "      <td>0.38</td>\n",
              "      <td>0.45</td>\n",
              "      <td>0.12</td>\n",
              "      <td>0.00</td>\n",
              "      <td>1.75</td>\n",
              "      <td>0.06</td>\n",
              "      <td>0.06</td>\n",
              "      <td>1.03</td>\n",
              "      <td>1.36</td>\n",
              "      <td>0.32</td>\n",
              "      <td>0.51</td>\n",
              "      <td>0.0</td>\n",
              "      <td>1.16</td>\n",
              "      <td>0.06</td>\n",
              "      <td>0.0</td>\n",
              "      <td>0.0</td>\n",
              "      <td>0.0</td>\n",
              "      <td>0.0</td>\n",
              "      <td>0.0</td>\n",
              "      <td>0.0</td>\n",
              "      <td>0.0</td>\n",
              "      <td>0.0</td>\n",
              "      <td>0.0</td>\n",
              "      <td>0.0</td>\n",
              "      <td>0.0</td>\n",
              "      <td>0.0</td>\n",
              "      <td>0.00</td>\n",
              "      <td>0.0</td>\n",
              "      <td>0.0</td>\n",
              "      <td>0.06</td>\n",
              "      <td>0.0</td>\n",
              "      <td>0.0</td>\n",
              "      <td>0.12</td>\n",
              "      <td>0.0</td>\n",
              "      <td>0.06</td>\n",
              "      <td>0.06</td>\n",
              "      <td>0.0</td>\n",
              "      <td>0.0</td>\n",
              "      <td>0.01</td>\n",
              "      <td>0.143</td>\n",
              "      <td>0.0</td>\n",
              "      <td>0.276</td>\n",
              "      <td>0.184</td>\n",
              "      <td>0.010</td>\n",
              "      <td>9.821</td>\n",
              "      <td>485</td>\n",
              "      <td>2259</td>\n",
              "      <td>1</td>\n",
              "    </tr>\n",
              "  </tbody>\n",
              "</table>\n",
              "</div>"
            ],
            "text/plain": [
              "   word_freq_make  word_freq_address  ...  capital_run_length_total  spam\n",
              "0            0.00               0.64  ...                       278     1\n",
              "1            0.21               0.28  ...                      1028     1\n",
              "2            0.06               0.00  ...                      2259     1\n",
              "\n",
              "[3 rows x 58 columns]"
            ]
          },
          "metadata": {
            "tags": []
          },
          "execution_count": 7
        }
      ]
    },
    {
      "cell_type": "code",
      "metadata": {
        "colab": {
          "base_uri": "https://localhost:8080/",
          "height": 162
        },
        "id": "13JMWQ4t7_rd",
        "outputId": "fc184f1c-0e12-4c8c-8669-ea2342b28681"
      },
      "source": [
        "df.tail(3)"
      ],
      "execution_count": 8,
      "outputs": [
        {
          "output_type": "execute_result",
          "data": {
            "text/html": [
              "<div>\n",
              "<style scoped>\n",
              "    .dataframe tbody tr th:only-of-type {\n",
              "        vertical-align: middle;\n",
              "    }\n",
              "\n",
              "    .dataframe tbody tr th {\n",
              "        vertical-align: top;\n",
              "    }\n",
              "\n",
              "    .dataframe thead th {\n",
              "        text-align: right;\n",
              "    }\n",
              "</style>\n",
              "<table border=\"1\" class=\"dataframe\">\n",
              "  <thead>\n",
              "    <tr style=\"text-align: right;\">\n",
              "      <th></th>\n",
              "      <th>word_freq_make</th>\n",
              "      <th>word_freq_address</th>\n",
              "      <th>word_freq_all</th>\n",
              "      <th>word_freq_3d</th>\n",
              "      <th>word_freq_our</th>\n",
              "      <th>word_freq_over</th>\n",
              "      <th>word_freq_remove</th>\n",
              "      <th>word_freq_internet</th>\n",
              "      <th>word_freq_order</th>\n",
              "      <th>word_freq_mail</th>\n",
              "      <th>word_freq_receive</th>\n",
              "      <th>word_freq_will</th>\n",
              "      <th>word_freq_people</th>\n",
              "      <th>word_freq_report</th>\n",
              "      <th>word_freq_addresses</th>\n",
              "      <th>word_freq_free</th>\n",
              "      <th>word_freq_business</th>\n",
              "      <th>word_freq_email</th>\n",
              "      <th>word_freq_you</th>\n",
              "      <th>word_freq_credit</th>\n",
              "      <th>word_freq_your</th>\n",
              "      <th>word_freq_font</th>\n",
              "      <th>word_freq_000</th>\n",
              "      <th>word_freq_money</th>\n",
              "      <th>word_freq_hp</th>\n",
              "      <th>word_freq_hpl</th>\n",
              "      <th>word_freq_george</th>\n",
              "      <th>word_freq_650</th>\n",
              "      <th>word_freq_lab</th>\n",
              "      <th>word_freq_labs</th>\n",
              "      <th>word_freq_telnet</th>\n",
              "      <th>word_freq_857</th>\n",
              "      <th>word_freq_data</th>\n",
              "      <th>word_freq_415</th>\n",
              "      <th>word_freq_85</th>\n",
              "      <th>word_freq_technology</th>\n",
              "      <th>word_freq_1999</th>\n",
              "      <th>word_freq_parts</th>\n",
              "      <th>word_freq_pm</th>\n",
              "      <th>word_freq_direct</th>\n",
              "      <th>word_freq_cs</th>\n",
              "      <th>word_freq_meeting</th>\n",
              "      <th>word_freq_original</th>\n",
              "      <th>word_freq_project</th>\n",
              "      <th>word_freq_re</th>\n",
              "      <th>word_freq_edu</th>\n",
              "      <th>word_freq_table</th>\n",
              "      <th>word_freq_conference</th>\n",
              "      <th>char_freq_;</th>\n",
              "      <th>char_freq_(</th>\n",
              "      <th>char_freq_[</th>\n",
              "      <th>char_freq_!</th>\n",
              "      <th>char_freq_$</th>\n",
              "      <th>char_freq_#</th>\n",
              "      <th>capital_run_length_average</th>\n",
              "      <th>capital_run_length_longest</th>\n",
              "      <th>capital_run_length_total</th>\n",
              "      <th>spam</th>\n",
              "    </tr>\n",
              "  </thead>\n",
              "  <tbody>\n",
              "    <tr>\n",
              "      <th>4598</th>\n",
              "      <td>0.30</td>\n",
              "      <td>0.0</td>\n",
              "      <td>0.30</td>\n",
              "      <td>0.0</td>\n",
              "      <td>0.00</td>\n",
              "      <td>0.0</td>\n",
              "      <td>0.0</td>\n",
              "      <td>0.0</td>\n",
              "      <td>0.0</td>\n",
              "      <td>0.0</td>\n",
              "      <td>0.0</td>\n",
              "      <td>1.80</td>\n",
              "      <td>0.30</td>\n",
              "      <td>0.0</td>\n",
              "      <td>0.0</td>\n",
              "      <td>0.0</td>\n",
              "      <td>0.0</td>\n",
              "      <td>0.9</td>\n",
              "      <td>1.50</td>\n",
              "      <td>0.0</td>\n",
              "      <td>0.30</td>\n",
              "      <td>0.0</td>\n",
              "      <td>0.0</td>\n",
              "      <td>0.0</td>\n",
              "      <td>0.0</td>\n",
              "      <td>0.0</td>\n",
              "      <td>0.0</td>\n",
              "      <td>0.0</td>\n",
              "      <td>0.0</td>\n",
              "      <td>0.0</td>\n",
              "      <td>0.0</td>\n",
              "      <td>0.0</td>\n",
              "      <td>0.0</td>\n",
              "      <td>0.0</td>\n",
              "      <td>0.0</td>\n",
              "      <td>0.0</td>\n",
              "      <td>0.0</td>\n",
              "      <td>0.0</td>\n",
              "      <td>0.0</td>\n",
              "      <td>0.0</td>\n",
              "      <td>0.0</td>\n",
              "      <td>0.0</td>\n",
              "      <td>0.0</td>\n",
              "      <td>0.00</td>\n",
              "      <td>0.00</td>\n",
              "      <td>1.20</td>\n",
              "      <td>0.0</td>\n",
              "      <td>0.0</td>\n",
              "      <td>0.102</td>\n",
              "      <td>0.718</td>\n",
              "      <td>0.0</td>\n",
              "      <td>0.000</td>\n",
              "      <td>0.0</td>\n",
              "      <td>0.0</td>\n",
              "      <td>1.404</td>\n",
              "      <td>6</td>\n",
              "      <td>118</td>\n",
              "      <td>0</td>\n",
              "    </tr>\n",
              "    <tr>\n",
              "      <th>4599</th>\n",
              "      <td>0.96</td>\n",
              "      <td>0.0</td>\n",
              "      <td>0.00</td>\n",
              "      <td>0.0</td>\n",
              "      <td>0.32</td>\n",
              "      <td>0.0</td>\n",
              "      <td>0.0</td>\n",
              "      <td>0.0</td>\n",
              "      <td>0.0</td>\n",
              "      <td>0.0</td>\n",
              "      <td>0.0</td>\n",
              "      <td>0.32</td>\n",
              "      <td>0.00</td>\n",
              "      <td>0.0</td>\n",
              "      <td>0.0</td>\n",
              "      <td>0.0</td>\n",
              "      <td>0.0</td>\n",
              "      <td>0.0</td>\n",
              "      <td>1.93</td>\n",
              "      <td>0.0</td>\n",
              "      <td>0.32</td>\n",
              "      <td>0.0</td>\n",
              "      <td>0.0</td>\n",
              "      <td>0.0</td>\n",
              "      <td>0.0</td>\n",
              "      <td>0.0</td>\n",
              "      <td>0.0</td>\n",
              "      <td>0.0</td>\n",
              "      <td>0.0</td>\n",
              "      <td>0.0</td>\n",
              "      <td>0.0</td>\n",
              "      <td>0.0</td>\n",
              "      <td>0.0</td>\n",
              "      <td>0.0</td>\n",
              "      <td>0.0</td>\n",
              "      <td>0.0</td>\n",
              "      <td>0.0</td>\n",
              "      <td>0.0</td>\n",
              "      <td>0.0</td>\n",
              "      <td>0.0</td>\n",
              "      <td>0.0</td>\n",
              "      <td>0.0</td>\n",
              "      <td>0.0</td>\n",
              "      <td>0.32</td>\n",
              "      <td>0.00</td>\n",
              "      <td>0.32</td>\n",
              "      <td>0.0</td>\n",
              "      <td>0.0</td>\n",
              "      <td>0.000</td>\n",
              "      <td>0.057</td>\n",
              "      <td>0.0</td>\n",
              "      <td>0.000</td>\n",
              "      <td>0.0</td>\n",
              "      <td>0.0</td>\n",
              "      <td>1.147</td>\n",
              "      <td>5</td>\n",
              "      <td>78</td>\n",
              "      <td>0</td>\n",
              "    </tr>\n",
              "    <tr>\n",
              "      <th>4600</th>\n",
              "      <td>0.00</td>\n",
              "      <td>0.0</td>\n",
              "      <td>0.65</td>\n",
              "      <td>0.0</td>\n",
              "      <td>0.00</td>\n",
              "      <td>0.0</td>\n",
              "      <td>0.0</td>\n",
              "      <td>0.0</td>\n",
              "      <td>0.0</td>\n",
              "      <td>0.0</td>\n",
              "      <td>0.0</td>\n",
              "      <td>0.00</td>\n",
              "      <td>0.65</td>\n",
              "      <td>0.0</td>\n",
              "      <td>0.0</td>\n",
              "      <td>0.0</td>\n",
              "      <td>0.0</td>\n",
              "      <td>0.0</td>\n",
              "      <td>4.60</td>\n",
              "      <td>0.0</td>\n",
              "      <td>0.65</td>\n",
              "      <td>0.0</td>\n",
              "      <td>0.0</td>\n",
              "      <td>0.0</td>\n",
              "      <td>0.0</td>\n",
              "      <td>0.0</td>\n",
              "      <td>0.0</td>\n",
              "      <td>0.0</td>\n",
              "      <td>0.0</td>\n",
              "      <td>0.0</td>\n",
              "      <td>0.0</td>\n",
              "      <td>0.0</td>\n",
              "      <td>0.0</td>\n",
              "      <td>0.0</td>\n",
              "      <td>0.0</td>\n",
              "      <td>0.0</td>\n",
              "      <td>0.0</td>\n",
              "      <td>0.0</td>\n",
              "      <td>0.0</td>\n",
              "      <td>0.0</td>\n",
              "      <td>0.0</td>\n",
              "      <td>0.0</td>\n",
              "      <td>0.0</td>\n",
              "      <td>0.00</td>\n",
              "      <td>1.97</td>\n",
              "      <td>0.65</td>\n",
              "      <td>0.0</td>\n",
              "      <td>0.0</td>\n",
              "      <td>0.000</td>\n",
              "      <td>0.000</td>\n",
              "      <td>0.0</td>\n",
              "      <td>0.125</td>\n",
              "      <td>0.0</td>\n",
              "      <td>0.0</td>\n",
              "      <td>1.250</td>\n",
              "      <td>5</td>\n",
              "      <td>40</td>\n",
              "      <td>0</td>\n",
              "    </tr>\n",
              "  </tbody>\n",
              "</table>\n",
              "</div>"
            ],
            "text/plain": [
              "      word_freq_make  word_freq_address  ...  capital_run_length_total  spam\n",
              "4598            0.30                0.0  ...                       118     0\n",
              "4599            0.96                0.0  ...                        78     0\n",
              "4600            0.00                0.0  ...                        40     0\n",
              "\n",
              "[3 rows x 58 columns]"
            ]
          },
          "metadata": {
            "tags": []
          },
          "execution_count": 8
        }
      ]
    },
    {
      "cell_type": "code",
      "metadata": {
        "colab": {
          "base_uri": "https://localhost:8080/"
        },
        "id": "Z5rLnaYN9gcx",
        "outputId": "f008ac71-aedf-49a6-e640-8d67dadfef52"
      },
      "source": [
        "df.shape #number of rows and columns present in data"
      ],
      "execution_count": 9,
      "outputs": [
        {
          "output_type": "execute_result",
          "data": {
            "text/plain": [
              "(4601, 58)"
            ]
          },
          "metadata": {
            "tags": []
          },
          "execution_count": 9
        }
      ]
    },
    {
      "cell_type": "markdown",
      "metadata": {
        "id": "wMrDTwhGEMQO"
      },
      "source": [
        "### Checking for null values in the dataset"
      ]
    },
    {
      "cell_type": "code",
      "metadata": {
        "colab": {
          "base_uri": "https://localhost:8080/"
        },
        "id": "VVhMxJk3vylb",
        "outputId": "047a56fe-49cf-4e31-e65e-60ef64d5f8d9"
      },
      "source": [
        "df.isnull().sum()# counts number of null values for each attribute"
      ],
      "execution_count": 10,
      "outputs": [
        {
          "output_type": "execute_result",
          "data": {
            "text/plain": [
              "word_freq_make                0\n",
              "word_freq_address             0\n",
              "word_freq_all                 0\n",
              "word_freq_3d                  0\n",
              "word_freq_our                 0\n",
              "word_freq_over                0\n",
              "word_freq_remove              0\n",
              "word_freq_internet            0\n",
              "word_freq_order               0\n",
              "word_freq_mail                0\n",
              "word_freq_receive             0\n",
              "word_freq_will                0\n",
              "word_freq_people              0\n",
              "word_freq_report              0\n",
              "word_freq_addresses           0\n",
              "word_freq_free                0\n",
              "word_freq_business            0\n",
              "word_freq_email               0\n",
              "word_freq_you                 0\n",
              "word_freq_credit              0\n",
              "word_freq_your                0\n",
              "word_freq_font                0\n",
              "word_freq_000                 0\n",
              "word_freq_money               0\n",
              "word_freq_hp                  0\n",
              "word_freq_hpl                 0\n",
              "word_freq_george              0\n",
              "word_freq_650                 0\n",
              "word_freq_lab                 0\n",
              "word_freq_labs                0\n",
              "word_freq_telnet              0\n",
              "word_freq_857                 0\n",
              "word_freq_data                0\n",
              "word_freq_415                 0\n",
              "word_freq_85                  0\n",
              "word_freq_technology          0\n",
              "word_freq_1999                0\n",
              "word_freq_parts               0\n",
              "word_freq_pm                  0\n",
              "word_freq_direct              0\n",
              "word_freq_cs                  0\n",
              "word_freq_meeting             0\n",
              "word_freq_original            0\n",
              "word_freq_project             0\n",
              "word_freq_re                  0\n",
              "word_freq_edu                 0\n",
              "word_freq_table               0\n",
              "word_freq_conference          0\n",
              "char_freq_;                   0\n",
              "char_freq_(                   0\n",
              "char_freq_[                   0\n",
              "char_freq_!                   0\n",
              "char_freq_$                   0\n",
              "char_freq_#                   0\n",
              "capital_run_length_average    0\n",
              "capital_run_length_longest    0\n",
              "capital_run_length_total      0\n",
              "spam                          0\n",
              "dtype: int64"
            ]
          },
          "metadata": {
            "tags": []
          },
          "execution_count": 10
        }
      ]
    },
    {
      "cell_type": "code",
      "metadata": {
        "colab": {
          "base_uri": "https://localhost:8080/"
        },
        "id": "1AGC_CFbEBYB",
        "outputId": "a4d1f7eb-c30e-44e4-a3cd-5a4204837acd"
      },
      "source": [
        "df.isnull().any().sum()"
      ],
      "execution_count": 11,
      "outputs": [
        {
          "output_type": "execute_result",
          "data": {
            "text/plain": [
              "0"
            ]
          },
          "metadata": {
            "tags": []
          },
          "execution_count": 11
        }
      ]
    },
    {
      "cell_type": "markdown",
      "metadata": {
        "id": "8SiQ7HCrPTTF"
      },
      "source": [
        "> No null valued columns/attributes in our dataset."
      ]
    },
    {
      "cell_type": "markdown",
      "metadata": {
        "id": "tZ1ftbE1v5Ws"
      },
      "source": [
        "### Distribution of email labels/classes"
      ]
    },
    {
      "cell_type": "code",
      "metadata": {
        "colab": {
          "base_uri": "https://localhost:8080/"
        },
        "id": "aJJ7UZT-_F8S",
        "outputId": "be6d14da-71d9-45b7-9dab-856a22b0bde6"
      },
      "source": [
        "df['spam'].value_counts() # finding number of rows with spam label 0 and 1"
      ],
      "execution_count": 12,
      "outputs": [
        {
          "output_type": "execute_result",
          "data": {
            "text/plain": [
              "0    2788\n",
              "1    1813\n",
              "Name: spam, dtype: int64"
            ]
          },
          "metadata": {
            "tags": []
          },
          "execution_count": 12
        }
      ]
    },
    {
      "cell_type": "code",
      "metadata": {
        "colab": {
          "base_uri": "https://localhost:8080/",
          "height": 264
        },
        "id": "3akGrR4IAChK",
        "outputId": "d2bec824-7713-4a01-be0d-1d9bb53b8e46"
      },
      "source": [
        "# Pie chart for distribution of spam label\n",
        "labels = ['Legitimate(0)', 'Spam(1)']\n",
        "colors = ['green', 'orange']\n",
        "explode = (0, 0.1) \n",
        "plt.pie(df['spam'].value_counts(), explode=explode, colors=colors, startangle=90, autopct='%.2f%%', shadow=True)\n",
        "plt.title(\"Distribution of e-mails labels/class\")\n",
        "plt.legend(labels,title=\"E-mail class\", loc=\"lower right\", bbox_to_anchor=(1, 0, 0.5, 1))\n",
        "plt.show()"
      ],
      "execution_count": 13,
      "outputs": [
        {
          "output_type": "display_data",
          "data": {
            "image/png": "[encoded data removed]",
            "text/plain": [
              "<Figure size 432x288 with 1 Axes>"
            ]
          },
          "metadata": {
            "tags": []
          }
        }
      ]
    },
    {
      "cell_type": "markdown",
      "metadata": {
        "id": "M0wQxV5WHmZQ"
      },
      "source": [
        "### Normalisation"
      ]
    },
    {
      "cell_type": "code",
      "metadata": {
        "colab": {
          "base_uri": "https://localhost:8080/",
          "height": 317
        },
        "id": "jSnU_bSbD5lQ",
        "outputId": "43f21b09-39b4-4e22-ddc5-0bc1542e86d8"
      },
      "source": [
        "df.describe()"
      ],
      "execution_count": 14,
      "outputs": [
        {
          "output_type": "execute_result",
          "data": {
            "text/html": [
              "<div>\n",
              "<style scoped>\n",
              "    .dataframe tbody tr th:only-of-type {\n",
              "        vertical-align: middle;\n",
              "    }\n",
              "\n",
              "    .dataframe tbody tr th {\n",
              "        vertical-align: top;\n",
              "    }\n",
              "\n",
              "    .dataframe thead th {\n",
              "        text-align: right;\n",
              "    }\n",
              "</style>\n",
              "<table border=\"1\" class=\"dataframe\">\n",
              "  <thead>\n",
              "    <tr style=\"text-align: right;\">\n",
              "      <th></th>\n",
              "      <th>word_freq_make</th>\n",
              "      <th>word_freq_address</th>\n",
              "      <th>word_freq_all</th>\n",
              "      <th>word_freq_3d</th>\n",
              "      <th>word_freq_our</th>\n",
              "      <th>word_freq_over</th>\n",
              "      <th>word_freq_remove</th>\n",
              "      <th>word_freq_internet</th>\n",
              "      <th>word_freq_order</th>\n",
              "      <th>word_freq_mail</th>\n",
              "      <th>word_freq_receive</th>\n",
              "      <th>word_freq_will</th>\n",
              "      <th>word_freq_people</th>\n",
              "      <th>word_freq_report</th>\n",
              "      <th>word_freq_addresses</th>\n",
              "      <th>word_freq_free</th>\n",
              "      <th>word_freq_business</th>\n",
              "      <th>word_freq_email</th>\n",
              "      <th>word_freq_you</th>\n",
              "      <th>word_freq_credit</th>\n",
              "      <th>word_freq_your</th>\n",
              "      <th>word_freq_font</th>\n",
              "      <th>word_freq_000</th>\n",
              "      <th>word_freq_money</th>\n",
              "      <th>word_freq_hp</th>\n",
              "      <th>word_freq_hpl</th>\n",
              "      <th>word_freq_george</th>\n",
              "      <th>word_freq_650</th>\n",
              "      <th>word_freq_lab</th>\n",
              "      <th>word_freq_labs</th>\n",
              "      <th>word_freq_telnet</th>\n",
              "      <th>word_freq_857</th>\n",
              "      <th>word_freq_data</th>\n",
              "      <th>word_freq_415</th>\n",
              "      <th>word_freq_85</th>\n",
              "      <th>word_freq_technology</th>\n",
              "      <th>word_freq_1999</th>\n",
              "      <th>word_freq_parts</th>\n",
              "      <th>word_freq_pm</th>\n",
              "      <th>word_freq_direct</th>\n",
              "      <th>word_freq_cs</th>\n",
              "      <th>word_freq_meeting</th>\n",
              "      <th>word_freq_original</th>\n",
              "      <th>word_freq_project</th>\n",
              "      <th>word_freq_re</th>\n",
              "      <th>word_freq_edu</th>\n",
              "      <th>word_freq_table</th>\n",
              "      <th>word_freq_conference</th>\n",
              "      <th>char_freq_;</th>\n",
              "      <th>char_freq_(</th>\n",
              "      <th>char_freq_[</th>\n",
              "      <th>char_freq_!</th>\n",
              "      <th>char_freq_$</th>\n",
              "      <th>char_freq_#</th>\n",
              "      <th>capital_run_length_average</th>\n",
              "      <th>capital_run_length_longest</th>\n",
              "      <th>capital_run_length_total</th>\n",
              "      <th>spam</th>\n",
              "    </tr>\n",
              "  </thead>\n",
              "  <tbody>\n",
              "    <tr>\n",
              "      <th>count</th>\n",
              "      <td>4601.000000</td>\n",
              "      <td>4601.000000</td>\n",
              "      <td>4601.000000</td>\n",
              "      <td>4601.000000</td>\n",
              "      <td>4601.000000</td>\n",
              "      <td>4601.000000</td>\n",
              "      <td>4601.000000</td>\n",
              "      <td>4601.000000</td>\n",
              "      <td>4601.000000</td>\n",
              "      <td>4601.000000</td>\n",
              "      <td>4601.000000</td>\n",
              "      <td>4601.000000</td>\n",
              "      <td>4601.000000</td>\n",
              "      <td>4601.000000</td>\n",
              "      <td>4601.000000</td>\n",
              "      <td>4601.000000</td>\n",
              "      <td>4601.000000</td>\n",
              "      <td>4601.000000</td>\n",
              "      <td>4601.000000</td>\n",
              "      <td>4601.000000</td>\n",
              "      <td>4601.000000</td>\n",
              "      <td>4601.000000</td>\n",
              "      <td>4601.000000</td>\n",
              "      <td>4601.000000</td>\n",
              "      <td>4601.000000</td>\n",
              "      <td>4601.000000</td>\n",
              "      <td>4601.000000</td>\n",
              "      <td>4601.000000</td>\n",
              "      <td>4601.000000</td>\n",
              "      <td>4601.000000</td>\n",
              "      <td>4601.000000</td>\n",
              "      <td>4601.000000</td>\n",
              "      <td>4601.000000</td>\n",
              "      <td>4601.000000</td>\n",
              "      <td>4601.000000</td>\n",
              "      <td>4601.000000</td>\n",
              "      <td>4601.000000</td>\n",
              "      <td>4601.000000</td>\n",
              "      <td>4601.000000</td>\n",
              "      <td>4601.000000</td>\n",
              "      <td>4601.000000</td>\n",
              "      <td>4601.000000</td>\n",
              "      <td>4601.000000</td>\n",
              "      <td>4601.000000</td>\n",
              "      <td>4601.000000</td>\n",
              "      <td>4601.000000</td>\n",
              "      <td>4601.000000</td>\n",
              "      <td>4601.000000</td>\n",
              "      <td>4601.000000</td>\n",
              "      <td>4601.000000</td>\n",
              "      <td>4601.000000</td>\n",
              "      <td>4601.000000</td>\n",
              "      <td>4601.000000</td>\n",
              "      <td>4601.000000</td>\n",
              "      <td>4601.000000</td>\n",
              "      <td>4601.000000</td>\n",
              "      <td>4601.000000</td>\n",
              "      <td>4601.000000</td>\n",
              "    </tr>\n",
              "    <tr>\n",
              "      <th>mean</th>\n",
              "      <td>0.104553</td>\n",
              "      <td>0.213015</td>\n",
              "      <td>0.280656</td>\n",
              "      <td>0.065425</td>\n",
              "      <td>0.312223</td>\n",
              "      <td>0.095901</td>\n",
              "      <td>0.114208</td>\n",
              "      <td>0.105295</td>\n",
              "      <td>0.090067</td>\n",
              "      <td>0.239413</td>\n",
              "      <td>0.059824</td>\n",
              "      <td>0.541702</td>\n",
              "      <td>0.093930</td>\n",
              "      <td>0.058626</td>\n",
              "      <td>0.049205</td>\n",
              "      <td>0.248848</td>\n",
              "      <td>0.142586</td>\n",
              "      <td>0.184745</td>\n",
              "      <td>1.662100</td>\n",
              "      <td>0.085577</td>\n",
              "      <td>0.809761</td>\n",
              "      <td>0.121202</td>\n",
              "      <td>0.101645</td>\n",
              "      <td>0.094269</td>\n",
              "      <td>0.549504</td>\n",
              "      <td>0.265384</td>\n",
              "      <td>0.767305</td>\n",
              "      <td>0.124845</td>\n",
              "      <td>0.098915</td>\n",
              "      <td>0.102852</td>\n",
              "      <td>0.064753</td>\n",
              "      <td>0.047048</td>\n",
              "      <td>0.097229</td>\n",
              "      <td>0.047835</td>\n",
              "      <td>0.105412</td>\n",
              "      <td>0.097477</td>\n",
              "      <td>0.136953</td>\n",
              "      <td>0.013201</td>\n",
              "      <td>0.078629</td>\n",
              "      <td>0.064834</td>\n",
              "      <td>0.043667</td>\n",
              "      <td>0.132339</td>\n",
              "      <td>0.046099</td>\n",
              "      <td>0.079196</td>\n",
              "      <td>0.301224</td>\n",
              "      <td>0.179824</td>\n",
              "      <td>0.005444</td>\n",
              "      <td>0.031869</td>\n",
              "      <td>0.038575</td>\n",
              "      <td>0.139030</td>\n",
              "      <td>0.016976</td>\n",
              "      <td>0.269071</td>\n",
              "      <td>0.075811</td>\n",
              "      <td>0.044238</td>\n",
              "      <td>5.191515</td>\n",
              "      <td>52.172789</td>\n",
              "      <td>283.289285</td>\n",
              "      <td>0.394045</td>\n",
              "    </tr>\n",
              "    <tr>\n",
              "      <th>std</th>\n",
              "      <td>0.305358</td>\n",
              "      <td>1.290575</td>\n",
              "      <td>0.504143</td>\n",
              "      <td>1.395151</td>\n",
              "      <td>0.672513</td>\n",
              "      <td>0.273824</td>\n",
              "      <td>0.391441</td>\n",
              "      <td>0.401071</td>\n",
              "      <td>0.278616</td>\n",
              "      <td>0.644755</td>\n",
              "      <td>0.201545</td>\n",
              "      <td>0.861698</td>\n",
              "      <td>0.301036</td>\n",
              "      <td>0.335184</td>\n",
              "      <td>0.258843</td>\n",
              "      <td>0.825792</td>\n",
              "      <td>0.444055</td>\n",
              "      <td>0.531122</td>\n",
              "      <td>1.775481</td>\n",
              "      <td>0.509767</td>\n",
              "      <td>1.200810</td>\n",
              "      <td>1.025756</td>\n",
              "      <td>0.350286</td>\n",
              "      <td>0.442636</td>\n",
              "      <td>1.671349</td>\n",
              "      <td>0.886955</td>\n",
              "      <td>3.367292</td>\n",
              "      <td>0.538576</td>\n",
              "      <td>0.593327</td>\n",
              "      <td>0.456682</td>\n",
              "      <td>0.403393</td>\n",
              "      <td>0.328559</td>\n",
              "      <td>0.555907</td>\n",
              "      <td>0.329445</td>\n",
              "      <td>0.532260</td>\n",
              "      <td>0.402623</td>\n",
              "      <td>0.423451</td>\n",
              "      <td>0.220651</td>\n",
              "      <td>0.434672</td>\n",
              "      <td>0.349916</td>\n",
              "      <td>0.361205</td>\n",
              "      <td>0.766819</td>\n",
              "      <td>0.223812</td>\n",
              "      <td>0.621976</td>\n",
              "      <td>1.011687</td>\n",
              "      <td>0.911119</td>\n",
              "      <td>0.076274</td>\n",
              "      <td>0.285735</td>\n",
              "      <td>0.243471</td>\n",
              "      <td>0.270355</td>\n",
              "      <td>0.109394</td>\n",
              "      <td>0.815672</td>\n",
              "      <td>0.245882</td>\n",
              "      <td>0.429342</td>\n",
              "      <td>31.729449</td>\n",
              "      <td>194.891310</td>\n",
              "      <td>606.347851</td>\n",
              "      <td>0.488698</td>\n",
              "    </tr>\n",
              "    <tr>\n",
              "      <th>min</th>\n",
              "      <td>0.000000</td>\n",
              "      <td>0.000000</td>\n",
              "      <td>0.000000</td>\n",
              "      <td>0.000000</td>\n",
              "      <td>0.000000</td>\n",
              "      <td>0.000000</td>\n",
              "      <td>0.000000</td>\n",
              "      <td>0.000000</td>\n",
              "      <td>0.000000</td>\n",
              "      <td>0.000000</td>\n",
              "      <td>0.000000</td>\n",
              "      <td>0.000000</td>\n",
              "      <td>0.000000</td>\n",
              "      <td>0.000000</td>\n",
              "      <td>0.000000</td>\n",
              "      <td>0.000000</td>\n",
              "      <td>0.000000</td>\n",
              "      <td>0.000000</td>\n",
              "      <td>0.000000</td>\n",
              "      <td>0.000000</td>\n",
              "      <td>0.000000</td>\n",
              "      <td>0.000000</td>\n",
              "      <td>0.000000</td>\n",
              "      <td>0.000000</td>\n",
              "      <td>0.000000</td>\n",
              "      <td>0.000000</td>\n",
              "      <td>0.000000</td>\n",
              "      <td>0.000000</td>\n",
              "      <td>0.000000</td>\n",
              "      <td>0.000000</td>\n",
              "      <td>0.000000</td>\n",
              "      <td>0.000000</td>\n",
              "      <td>0.000000</td>\n",
              "      <td>0.000000</td>\n",
              "      <td>0.000000</td>\n",
              "      <td>0.000000</td>\n",
              "      <td>0.000000</td>\n",
              "      <td>0.000000</td>\n",
              "      <td>0.000000</td>\n",
              "      <td>0.000000</td>\n",
              "      <td>0.000000</td>\n",
              "      <td>0.000000</td>\n",
              "      <td>0.000000</td>\n",
              "      <td>0.000000</td>\n",
              "      <td>0.000000</td>\n",
              "      <td>0.000000</td>\n",
              "      <td>0.000000</td>\n",
              "      <td>0.000000</td>\n",
              "      <td>0.000000</td>\n",
              "      <td>0.000000</td>\n",
              "      <td>0.000000</td>\n",
              "      <td>0.000000</td>\n",
              "      <td>0.000000</td>\n",
              "      <td>0.000000</td>\n",
              "      <td>1.000000</td>\n",
              "      <td>1.000000</td>\n",
              "      <td>1.000000</td>\n",
              "      <td>0.000000</td>\n",
              "    </tr>\n",
              "    <tr>\n",
              "      <th>25%</th>\n",
              "      <td>0.000000</td>\n",
              "      <td>0.000000</td>\n",
              "      <td>0.000000</td>\n",
              "      <td>0.000000</td>\n",
              "      <td>0.000000</td>\n",
              "      <td>0.000000</td>\n",
              "      <td>0.000000</td>\n",
              "      <td>0.000000</td>\n",
              "      <td>0.000000</td>\n",
              "      <td>0.000000</td>\n",
              "      <td>0.000000</td>\n",
              "      <td>0.000000</td>\n",
              "      <td>0.000000</td>\n",
              "      <td>0.000000</td>\n",
              "      <td>0.000000</td>\n",
              "      <td>0.000000</td>\n",
              "      <td>0.000000</td>\n",
              "      <td>0.000000</td>\n",
              "      <td>0.000000</td>\n",
              "      <td>0.000000</td>\n",
              "      <td>0.000000</td>\n",
              "      <td>0.000000</td>\n",
              "      <td>0.000000</td>\n",
              "      <td>0.000000</td>\n",
              "      <td>0.000000</td>\n",
              "      <td>0.000000</td>\n",
              "      <td>0.000000</td>\n",
              "      <td>0.000000</td>\n",
              "      <td>0.000000</td>\n",
              "      <td>0.000000</td>\n",
              "      <td>0.000000</td>\n",
              "      <td>0.000000</td>\n",
              "      <td>0.000000</td>\n",
              "      <td>0.000000</td>\n",
              "      <td>0.000000</td>\n",
              "      <td>0.000000</td>\n",
              "      <td>0.000000</td>\n",
              "      <td>0.000000</td>\n",
              "      <td>0.000000</td>\n",
              "      <td>0.000000</td>\n",
              "      <td>0.000000</td>\n",
              "      <td>0.000000</td>\n",
              "      <td>0.000000</td>\n",
              "      <td>0.000000</td>\n",
              "      <td>0.000000</td>\n",
              "      <td>0.000000</td>\n",
              "      <td>0.000000</td>\n",
              "      <td>0.000000</td>\n",
              "      <td>0.000000</td>\n",
              "      <td>0.000000</td>\n",
              "      <td>0.000000</td>\n",
              "      <td>0.000000</td>\n",
              "      <td>0.000000</td>\n",
              "      <td>0.000000</td>\n",
              "      <td>1.588000</td>\n",
              "      <td>6.000000</td>\n",
              "      <td>35.000000</td>\n",
              "      <td>0.000000</td>\n",
              "    </tr>\n",
              "    <tr>\n",
              "      <th>50%</th>\n",
              "      <td>0.000000</td>\n",
              "      <td>0.000000</td>\n",
              "      <td>0.000000</td>\n",
              "      <td>0.000000</td>\n",
              "      <td>0.000000</td>\n",
              "      <td>0.000000</td>\n",
              "      <td>0.000000</td>\n",
              "      <td>0.000000</td>\n",
              "      <td>0.000000</td>\n",
              "      <td>0.000000</td>\n",
              "      <td>0.000000</td>\n",
              "      <td>0.100000</td>\n",
              "      <td>0.000000</td>\n",
              "      <td>0.000000</td>\n",
              "      <td>0.000000</td>\n",
              "      <td>0.000000</td>\n",
              "      <td>0.000000</td>\n",
              "      <td>0.000000</td>\n",
              "      <td>1.310000</td>\n",
              "      <td>0.000000</td>\n",
              "      <td>0.220000</td>\n",
              "      <td>0.000000</td>\n",
              "      <td>0.000000</td>\n",
              "      <td>0.000000</td>\n",
              "      <td>0.000000</td>\n",
              "      <td>0.000000</td>\n",
              "      <td>0.000000</td>\n",
              "      <td>0.000000</td>\n",
              "      <td>0.000000</td>\n",
              "      <td>0.000000</td>\n",
              "      <td>0.000000</td>\n",
              "      <td>0.000000</td>\n",
              "      <td>0.000000</td>\n",
              "      <td>0.000000</td>\n",
              "      <td>0.000000</td>\n",
              "      <td>0.000000</td>\n",
              "      <td>0.000000</td>\n",
              "      <td>0.000000</td>\n",
              "      <td>0.000000</td>\n",
              "      <td>0.000000</td>\n",
              "      <td>0.000000</td>\n",
              "      <td>0.000000</td>\n",
              "      <td>0.000000</td>\n",
              "      <td>0.000000</td>\n",
              "      <td>0.000000</td>\n",
              "      <td>0.000000</td>\n",
              "      <td>0.000000</td>\n",
              "      <td>0.000000</td>\n",
              "      <td>0.000000</td>\n",
              "      <td>0.065000</td>\n",
              "      <td>0.000000</td>\n",
              "      <td>0.000000</td>\n",
              "      <td>0.000000</td>\n",
              "      <td>0.000000</td>\n",
              "      <td>2.276000</td>\n",
              "      <td>15.000000</td>\n",
              "      <td>95.000000</td>\n",
              "      <td>0.000000</td>\n",
              "    </tr>\n",
              "    <tr>\n",
              "      <th>75%</th>\n",
              "      <td>0.000000</td>\n",
              "      <td>0.000000</td>\n",
              "      <td>0.420000</td>\n",
              "      <td>0.000000</td>\n",
              "      <td>0.380000</td>\n",
              "      <td>0.000000</td>\n",
              "      <td>0.000000</td>\n",
              "      <td>0.000000</td>\n",
              "      <td>0.000000</td>\n",
              "      <td>0.160000</td>\n",
              "      <td>0.000000</td>\n",
              "      <td>0.800000</td>\n",
              "      <td>0.000000</td>\n",
              "      <td>0.000000</td>\n",
              "      <td>0.000000</td>\n",
              "      <td>0.100000</td>\n",
              "      <td>0.000000</td>\n",
              "      <td>0.000000</td>\n",
              "      <td>2.640000</td>\n",
              "      <td>0.000000</td>\n",
              "      <td>1.270000</td>\n",
              "      <td>0.000000</td>\n",
              "      <td>0.000000</td>\n",
              "      <td>0.000000</td>\n",
              "      <td>0.000000</td>\n",
              "      <td>0.000000</td>\n",
              "      <td>0.000000</td>\n",
              "      <td>0.000000</td>\n",
              "      <td>0.000000</td>\n",
              "      <td>0.000000</td>\n",
              "      <td>0.000000</td>\n",
              "      <td>0.000000</td>\n",
              "      <td>0.000000</td>\n",
              "      <td>0.000000</td>\n",
              "      <td>0.000000</td>\n",
              "      <td>0.000000</td>\n",
              "      <td>0.000000</td>\n",
              "      <td>0.000000</td>\n",
              "      <td>0.000000</td>\n",
              "      <td>0.000000</td>\n",
              "      <td>0.000000</td>\n",
              "      <td>0.000000</td>\n",
              "      <td>0.000000</td>\n",
              "      <td>0.000000</td>\n",
              "      <td>0.110000</td>\n",
              "      <td>0.000000</td>\n",
              "      <td>0.000000</td>\n",
              "      <td>0.000000</td>\n",
              "      <td>0.000000</td>\n",
              "      <td>0.188000</td>\n",
              "      <td>0.000000</td>\n",
              "      <td>0.315000</td>\n",
              "      <td>0.052000</td>\n",
              "      <td>0.000000</td>\n",
              "      <td>3.706000</td>\n",
              "      <td>43.000000</td>\n",
              "      <td>266.000000</td>\n",
              "      <td>1.000000</td>\n",
              "    </tr>\n",
              "    <tr>\n",
              "      <th>max</th>\n",
              "      <td>4.540000</td>\n",
              "      <td>14.280000</td>\n",
              "      <td>5.100000</td>\n",
              "      <td>42.810000</td>\n",
              "      <td>10.000000</td>\n",
              "      <td>5.880000</td>\n",
              "      <td>7.270000</td>\n",
              "      <td>11.110000</td>\n",
              "      <td>5.260000</td>\n",
              "      <td>18.180000</td>\n",
              "      <td>2.610000</td>\n",
              "      <td>9.670000</td>\n",
              "      <td>5.550000</td>\n",
              "      <td>10.000000</td>\n",
              "      <td>4.410000</td>\n",
              "      <td>20.000000</td>\n",
              "      <td>7.140000</td>\n",
              "      <td>9.090000</td>\n",
              "      <td>18.750000</td>\n",
              "      <td>18.180000</td>\n",
              "      <td>11.110000</td>\n",
              "      <td>17.100000</td>\n",
              "      <td>5.450000</td>\n",
              "      <td>12.500000</td>\n",
              "      <td>20.830000</td>\n",
              "      <td>16.660000</td>\n",
              "      <td>33.330000</td>\n",
              "      <td>9.090000</td>\n",
              "      <td>14.280000</td>\n",
              "      <td>5.880000</td>\n",
              "      <td>12.500000</td>\n",
              "      <td>4.760000</td>\n",
              "      <td>18.180000</td>\n",
              "      <td>4.760000</td>\n",
              "      <td>20.000000</td>\n",
              "      <td>7.690000</td>\n",
              "      <td>6.890000</td>\n",
              "      <td>8.330000</td>\n",
              "      <td>11.110000</td>\n",
              "      <td>4.760000</td>\n",
              "      <td>7.140000</td>\n",
              "      <td>14.280000</td>\n",
              "      <td>3.570000</td>\n",
              "      <td>20.000000</td>\n",
              "      <td>21.420000</td>\n",
              "      <td>22.050000</td>\n",
              "      <td>2.170000</td>\n",
              "      <td>10.000000</td>\n",
              "      <td>4.385000</td>\n",
              "      <td>9.752000</td>\n",
              "      <td>4.081000</td>\n",
              "      <td>32.478000</td>\n",
              "      <td>6.003000</td>\n",
              "      <td>19.829000</td>\n",
              "      <td>1102.500000</td>\n",
              "      <td>9989.000000</td>\n",
              "      <td>15841.000000</td>\n",
              "      <td>1.000000</td>\n",
              "    </tr>\n",
              "  </tbody>\n",
              "</table>\n",
              "</div>"
            ],
            "text/plain": [
              "       word_freq_make  word_freq_address  ...  capital_run_length_total         spam\n",
              "count     4601.000000        4601.000000  ...               4601.000000  4601.000000\n",
              "mean         0.104553           0.213015  ...                283.289285     0.394045\n",
              "std          0.305358           1.290575  ...                606.347851     0.488698\n",
              "min          0.000000           0.000000  ...                  1.000000     0.000000\n",
              "25%          0.000000           0.000000  ...                 35.000000     0.000000\n",
              "50%          0.000000           0.000000  ...                 95.000000     0.000000\n",
              "75%          0.000000           0.000000  ...                266.000000     1.000000\n",
              "max          4.540000          14.280000  ...              15841.000000     1.000000\n",
              "\n",
              "[8 rows x 58 columns]"
            ]
          },
          "metadata": {
            "tags": []
          },
          "execution_count": 14
        }
      ]
    },
    {
      "cell_type": "markdown",
      "metadata": {
        "id": "J5s_av4eH2ug"
      },
      "source": [
        "### Applying the min-max normalisation technique : \n",
        "- As the min-max data values of attributes are not same we have to normalize this data using Normalization Technique.\n",
        "<p align=\"center\">\n",
        "$x_{norm} = \\frac {(x – min)}{(max – min)} $\n",
        "</p>"
      ]
    },
    {
      "cell_type": "code",
      "metadata": {
        "id": "OuPFJcikYmSo"
      },
      "source": [
        "min_max_scaler = preprocessing.MinMaxScaler()# method used for min-max normalisation\n",
        "_scaled = min_max_scaler.fit_transform(df)\n",
        "df_normalized = pd.DataFrame(_scaled, columns=names)"
      ],
      "execution_count": 15,
      "outputs": []
    },
    {
      "cell_type": "code",
      "metadata": {
        "colab": {
          "base_uri": "https://localhost:8080/",
          "height": 317
        },
        "id": "dUDC_-ynHBcn",
        "outputId": "fa285bf5-8a76-472e-f9dc-a472ffa3e995"
      },
      "source": [
        "df_normalized.describe()# after normalisation max value of each attribute has values under same scale"
      ],
      "execution_count": 16,
      "outputs": [
        {
          "output_type": "execute_result",
          "data": {
            "text/html": [
              "<div>\n",
              "<style scoped>\n",
              "    .dataframe tbody tr th:only-of-type {\n",
              "        vertical-align: middle;\n",
              "    }\n",
              "\n",
              "    .dataframe tbody tr th {\n",
              "        vertical-align: top;\n",
              "    }\n",
              "\n",
              "    .dataframe thead th {\n",
              "        text-align: right;\n",
              "    }\n",
              "</style>\n",
              "<table border=\"1\" class=\"dataframe\">\n",
              "  <thead>\n",
              "    <tr style=\"text-align: right;\">\n",
              "      <th></th>\n",
              "      <th>word_freq_make</th>\n",
              "      <th>word_freq_address</th>\n",
              "      <th>word_freq_all</th>\n",
              "      <th>word_freq_3d</th>\n",
              "      <th>word_freq_our</th>\n",
              "      <th>word_freq_over</th>\n",
              "      <th>word_freq_remove</th>\n",
              "      <th>word_freq_internet</th>\n",
              "      <th>word_freq_order</th>\n",
              "      <th>word_freq_mail</th>\n",
              "      <th>word_freq_receive</th>\n",
              "      <th>word_freq_will</th>\n",
              "      <th>word_freq_people</th>\n",
              "      <th>word_freq_report</th>\n",
              "      <th>word_freq_addresses</th>\n",
              "      <th>word_freq_free</th>\n",
              "      <th>word_freq_business</th>\n",
              "      <th>word_freq_email</th>\n",
              "      <th>word_freq_you</th>\n",
              "      <th>word_freq_credit</th>\n",
              "      <th>word_freq_your</th>\n",
              "      <th>word_freq_font</th>\n",
              "      <th>word_freq_000</th>\n",
              "      <th>word_freq_money</th>\n",
              "      <th>word_freq_hp</th>\n",
              "      <th>word_freq_hpl</th>\n",
              "      <th>word_freq_george</th>\n",
              "      <th>word_freq_650</th>\n",
              "      <th>word_freq_lab</th>\n",
              "      <th>word_freq_labs</th>\n",
              "      <th>word_freq_telnet</th>\n",
              "      <th>word_freq_857</th>\n",
              "      <th>word_freq_data</th>\n",
              "      <th>word_freq_415</th>\n",
              "      <th>word_freq_85</th>\n",
              "      <th>word_freq_technology</th>\n",
              "      <th>word_freq_1999</th>\n",
              "      <th>word_freq_parts</th>\n",
              "      <th>word_freq_pm</th>\n",
              "      <th>word_freq_direct</th>\n",
              "      <th>word_freq_cs</th>\n",
              "      <th>word_freq_meeting</th>\n",
              "      <th>word_freq_original</th>\n",
              "      <th>word_freq_project</th>\n",
              "      <th>word_freq_re</th>\n",
              "      <th>word_freq_edu</th>\n",
              "      <th>word_freq_table</th>\n",
              "      <th>word_freq_conference</th>\n",
              "      <th>char_freq_;</th>\n",
              "      <th>char_freq_(</th>\n",
              "      <th>char_freq_[</th>\n",
              "      <th>char_freq_!</th>\n",
              "      <th>char_freq_$</th>\n",
              "      <th>char_freq_#</th>\n",
              "      <th>capital_run_length_average</th>\n",
              "      <th>capital_run_length_longest</th>\n",
              "      <th>capital_run_length_total</th>\n",
              "      <th>spam</th>\n",
              "    </tr>\n",
              "  </thead>\n",
              "  <tbody>\n",
              "    <tr>\n",
              "      <th>count</th>\n",
              "      <td>4601.000000</td>\n",
              "      <td>4601.000000</td>\n",
              "      <td>4601.000000</td>\n",
              "      <td>4601.000000</td>\n",
              "      <td>4601.000000</td>\n",
              "      <td>4601.000000</td>\n",
              "      <td>4601.000000</td>\n",
              "      <td>4601.000000</td>\n",
              "      <td>4601.000000</td>\n",
              "      <td>4601.000000</td>\n",
              "      <td>4601.000000</td>\n",
              "      <td>4601.000000</td>\n",
              "      <td>4601.000000</td>\n",
              "      <td>4601.000000</td>\n",
              "      <td>4601.000000</td>\n",
              "      <td>4601.000000</td>\n",
              "      <td>4601.000000</td>\n",
              "      <td>4601.000000</td>\n",
              "      <td>4601.000000</td>\n",
              "      <td>4601.000000</td>\n",
              "      <td>4601.000000</td>\n",
              "      <td>4601.000000</td>\n",
              "      <td>4601.000000</td>\n",
              "      <td>4601.000000</td>\n",
              "      <td>4601.000000</td>\n",
              "      <td>4601.000000</td>\n",
              "      <td>4601.000000</td>\n",
              "      <td>4601.000000</td>\n",
              "      <td>4601.000000</td>\n",
              "      <td>4601.000000</td>\n",
              "      <td>4601.000000</td>\n",
              "      <td>4601.000000</td>\n",
              "      <td>4601.000000</td>\n",
              "      <td>4601.000000</td>\n",
              "      <td>4601.000000</td>\n",
              "      <td>4601.000000</td>\n",
              "      <td>4601.000000</td>\n",
              "      <td>4601.000000</td>\n",
              "      <td>4601.000000</td>\n",
              "      <td>4601.000000</td>\n",
              "      <td>4601.000000</td>\n",
              "      <td>4601.000000</td>\n",
              "      <td>4601.000000</td>\n",
              "      <td>4601.000000</td>\n",
              "      <td>4601.000000</td>\n",
              "      <td>4601.000000</td>\n",
              "      <td>4601.000000</td>\n",
              "      <td>4601.000000</td>\n",
              "      <td>4601.000000</td>\n",
              "      <td>4601.000000</td>\n",
              "      <td>4601.000000</td>\n",
              "      <td>4601.000000</td>\n",
              "      <td>4601.000000</td>\n",
              "      <td>4601.000000</td>\n",
              "      <td>4601.000000</td>\n",
              "      <td>4601.000000</td>\n",
              "      <td>4601.000000</td>\n",
              "      <td>4601.000000</td>\n",
              "    </tr>\n",
              "    <tr>\n",
              "      <th>mean</th>\n",
              "      <td>0.023029</td>\n",
              "      <td>0.014917</td>\n",
              "      <td>0.055031</td>\n",
              "      <td>0.001528</td>\n",
              "      <td>0.031222</td>\n",
              "      <td>0.016310</td>\n",
              "      <td>0.015709</td>\n",
              "      <td>0.009477</td>\n",
              "      <td>0.017123</td>\n",
              "      <td>0.013169</td>\n",
              "      <td>0.022921</td>\n",
              "      <td>0.056019</td>\n",
              "      <td>0.016924</td>\n",
              "      <td>0.005863</td>\n",
              "      <td>0.011157</td>\n",
              "      <td>0.012442</td>\n",
              "      <td>0.019970</td>\n",
              "      <td>0.020324</td>\n",
              "      <td>0.088645</td>\n",
              "      <td>0.004707</td>\n",
              "      <td>0.072886</td>\n",
              "      <td>0.007088</td>\n",
              "      <td>0.018651</td>\n",
              "      <td>0.007541</td>\n",
              "      <td>0.026380</td>\n",
              "      <td>0.015929</td>\n",
              "      <td>0.023021</td>\n",
              "      <td>0.013734</td>\n",
              "      <td>0.006927</td>\n",
              "      <td>0.017492</td>\n",
              "      <td>0.005180</td>\n",
              "      <td>0.009884</td>\n",
              "      <td>0.005348</td>\n",
              "      <td>0.010049</td>\n",
              "      <td>0.005271</td>\n",
              "      <td>0.012676</td>\n",
              "      <td>0.019877</td>\n",
              "      <td>0.001585</td>\n",
              "      <td>0.007077</td>\n",
              "      <td>0.013621</td>\n",
              "      <td>0.006116</td>\n",
              "      <td>0.009267</td>\n",
              "      <td>0.012913</td>\n",
              "      <td>0.003960</td>\n",
              "      <td>0.014063</td>\n",
              "      <td>0.008155</td>\n",
              "      <td>0.002509</td>\n",
              "      <td>0.003187</td>\n",
              "      <td>0.008797</td>\n",
              "      <td>0.014257</td>\n",
              "      <td>0.004160</td>\n",
              "      <td>0.008285</td>\n",
              "      <td>0.012629</td>\n",
              "      <td>0.002231</td>\n",
              "      <td>0.003805</td>\n",
              "      <td>0.005123</td>\n",
              "      <td>0.017821</td>\n",
              "      <td>0.394045</td>\n",
              "    </tr>\n",
              "    <tr>\n",
              "      <th>std</th>\n",
              "      <td>0.067259</td>\n",
              "      <td>0.090376</td>\n",
              "      <td>0.098852</td>\n",
              "      <td>0.032589</td>\n",
              "      <td>0.067251</td>\n",
              "      <td>0.046569</td>\n",
              "      <td>0.053843</td>\n",
              "      <td>0.036100</td>\n",
              "      <td>0.052969</td>\n",
              "      <td>0.035465</td>\n",
              "      <td>0.077220</td>\n",
              "      <td>0.089110</td>\n",
              "      <td>0.054241</td>\n",
              "      <td>0.033518</td>\n",
              "      <td>0.058695</td>\n",
              "      <td>0.041290</td>\n",
              "      <td>0.062193</td>\n",
              "      <td>0.058429</td>\n",
              "      <td>0.094692</td>\n",
              "      <td>0.028040</td>\n",
              "      <td>0.108084</td>\n",
              "      <td>0.059986</td>\n",
              "      <td>0.064273</td>\n",
              "      <td>0.035411</td>\n",
              "      <td>0.080238</td>\n",
              "      <td>0.053239</td>\n",
              "      <td>0.101029</td>\n",
              "      <td>0.059249</td>\n",
              "      <td>0.041549</td>\n",
              "      <td>0.077667</td>\n",
              "      <td>0.032271</td>\n",
              "      <td>0.069025</td>\n",
              "      <td>0.030578</td>\n",
              "      <td>0.069211</td>\n",
              "      <td>0.026613</td>\n",
              "      <td>0.052357</td>\n",
              "      <td>0.061459</td>\n",
              "      <td>0.026489</td>\n",
              "      <td>0.039124</td>\n",
              "      <td>0.073512</td>\n",
              "      <td>0.050589</td>\n",
              "      <td>0.053699</td>\n",
              "      <td>0.062692</td>\n",
              "      <td>0.031099</td>\n",
              "      <td>0.047231</td>\n",
              "      <td>0.041321</td>\n",
              "      <td>0.035149</td>\n",
              "      <td>0.028573</td>\n",
              "      <td>0.055524</td>\n",
              "      <td>0.027723</td>\n",
              "      <td>0.026806</td>\n",
              "      <td>0.025115</td>\n",
              "      <td>0.040960</td>\n",
              "      <td>0.021652</td>\n",
              "      <td>0.028806</td>\n",
              "      <td>0.019513</td>\n",
              "      <td>0.038280</td>\n",
              "      <td>0.488698</td>\n",
              "    </tr>\n",
              "    <tr>\n",
              "      <th>min</th>\n",
              "      <td>0.000000</td>\n",
              "      <td>0.000000</td>\n",
              "      <td>0.000000</td>\n",
              "      <td>0.000000</td>\n",
              "      <td>0.000000</td>\n",
              "      <td>0.000000</td>\n",
              "      <td>0.000000</td>\n",
              "      <td>0.000000</td>\n",
              "      <td>0.000000</td>\n",
              "      <td>0.000000</td>\n",
              "      <td>0.000000</td>\n",
              "      <td>0.000000</td>\n",
              "      <td>0.000000</td>\n",
              "      <td>0.000000</td>\n",
              "      <td>0.000000</td>\n",
              "      <td>0.000000</td>\n",
              "      <td>0.000000</td>\n",
              "      <td>0.000000</td>\n",
              "      <td>0.000000</td>\n",
              "      <td>0.000000</td>\n",
              "      <td>0.000000</td>\n",
              "      <td>0.000000</td>\n",
              "      <td>0.000000</td>\n",
              "      <td>0.000000</td>\n",
              "      <td>0.000000</td>\n",
              "      <td>0.000000</td>\n",
              "      <td>0.000000</td>\n",
              "      <td>0.000000</td>\n",
              "      <td>0.000000</td>\n",
              "      <td>0.000000</td>\n",
              "      <td>0.000000</td>\n",
              "      <td>0.000000</td>\n",
              "      <td>0.000000</td>\n",
              "      <td>0.000000</td>\n",
              "      <td>0.000000</td>\n",
              "      <td>0.000000</td>\n",
              "      <td>0.000000</td>\n",
              "      <td>0.000000</td>\n",
              "      <td>0.000000</td>\n",
              "      <td>0.000000</td>\n",
              "      <td>0.000000</td>\n",
              "      <td>0.000000</td>\n",
              "      <td>0.000000</td>\n",
              "      <td>0.000000</td>\n",
              "      <td>0.000000</td>\n",
              "      <td>0.000000</td>\n",
              "      <td>0.000000</td>\n",
              "      <td>0.000000</td>\n",
              "      <td>0.000000</td>\n",
              "      <td>0.000000</td>\n",
              "      <td>0.000000</td>\n",
              "      <td>0.000000</td>\n",
              "      <td>0.000000</td>\n",
              "      <td>0.000000</td>\n",
              "      <td>0.000000</td>\n",
              "      <td>0.000000</td>\n",
              "      <td>0.000000</td>\n",
              "      <td>0.000000</td>\n",
              "    </tr>\n",
              "    <tr>\n",
              "      <th>25%</th>\n",
              "      <td>0.000000</td>\n",
              "      <td>0.000000</td>\n",
              "      <td>0.000000</td>\n",
              "      <td>0.000000</td>\n",
              "      <td>0.000000</td>\n",
              "      <td>0.000000</td>\n",
              "      <td>0.000000</td>\n",
              "      <td>0.000000</td>\n",
              "      <td>0.000000</td>\n",
              "      <td>0.000000</td>\n",
              "      <td>0.000000</td>\n",
              "      <td>0.000000</td>\n",
              "      <td>0.000000</td>\n",
              "      <td>0.000000</td>\n",
              "      <td>0.000000</td>\n",
              "      <td>0.000000</td>\n",
              "      <td>0.000000</td>\n",
              "      <td>0.000000</td>\n",
              "      <td>0.000000</td>\n",
              "      <td>0.000000</td>\n",
              "      <td>0.000000</td>\n",
              "      <td>0.000000</td>\n",
              "      <td>0.000000</td>\n",
              "      <td>0.000000</td>\n",
              "      <td>0.000000</td>\n",
              "      <td>0.000000</td>\n",
              "      <td>0.000000</td>\n",
              "      <td>0.000000</td>\n",
              "      <td>0.000000</td>\n",
              "      <td>0.000000</td>\n",
              "      <td>0.000000</td>\n",
              "      <td>0.000000</td>\n",
              "      <td>0.000000</td>\n",
              "      <td>0.000000</td>\n",
              "      <td>0.000000</td>\n",
              "      <td>0.000000</td>\n",
              "      <td>0.000000</td>\n",
              "      <td>0.000000</td>\n",
              "      <td>0.000000</td>\n",
              "      <td>0.000000</td>\n",
              "      <td>0.000000</td>\n",
              "      <td>0.000000</td>\n",
              "      <td>0.000000</td>\n",
              "      <td>0.000000</td>\n",
              "      <td>0.000000</td>\n",
              "      <td>0.000000</td>\n",
              "      <td>0.000000</td>\n",
              "      <td>0.000000</td>\n",
              "      <td>0.000000</td>\n",
              "      <td>0.000000</td>\n",
              "      <td>0.000000</td>\n",
              "      <td>0.000000</td>\n",
              "      <td>0.000000</td>\n",
              "      <td>0.000000</td>\n",
              "      <td>0.000534</td>\n",
              "      <td>0.000501</td>\n",
              "      <td>0.002146</td>\n",
              "      <td>0.000000</td>\n",
              "    </tr>\n",
              "    <tr>\n",
              "      <th>50%</th>\n",
              "      <td>0.000000</td>\n",
              "      <td>0.000000</td>\n",
              "      <td>0.000000</td>\n",
              "      <td>0.000000</td>\n",
              "      <td>0.000000</td>\n",
              "      <td>0.000000</td>\n",
              "      <td>0.000000</td>\n",
              "      <td>0.000000</td>\n",
              "      <td>0.000000</td>\n",
              "      <td>0.000000</td>\n",
              "      <td>0.000000</td>\n",
              "      <td>0.010341</td>\n",
              "      <td>0.000000</td>\n",
              "      <td>0.000000</td>\n",
              "      <td>0.000000</td>\n",
              "      <td>0.000000</td>\n",
              "      <td>0.000000</td>\n",
              "      <td>0.000000</td>\n",
              "      <td>0.069867</td>\n",
              "      <td>0.000000</td>\n",
              "      <td>0.019802</td>\n",
              "      <td>0.000000</td>\n",
              "      <td>0.000000</td>\n",
              "      <td>0.000000</td>\n",
              "      <td>0.000000</td>\n",
              "      <td>0.000000</td>\n",
              "      <td>0.000000</td>\n",
              "      <td>0.000000</td>\n",
              "      <td>0.000000</td>\n",
              "      <td>0.000000</td>\n",
              "      <td>0.000000</td>\n",
              "      <td>0.000000</td>\n",
              "      <td>0.000000</td>\n",
              "      <td>0.000000</td>\n",
              "      <td>0.000000</td>\n",
              "      <td>0.000000</td>\n",
              "      <td>0.000000</td>\n",
              "      <td>0.000000</td>\n",
              "      <td>0.000000</td>\n",
              "      <td>0.000000</td>\n",
              "      <td>0.000000</td>\n",
              "      <td>0.000000</td>\n",
              "      <td>0.000000</td>\n",
              "      <td>0.000000</td>\n",
              "      <td>0.000000</td>\n",
              "      <td>0.000000</td>\n",
              "      <td>0.000000</td>\n",
              "      <td>0.000000</td>\n",
              "      <td>0.000000</td>\n",
              "      <td>0.006665</td>\n",
              "      <td>0.000000</td>\n",
              "      <td>0.000000</td>\n",
              "      <td>0.000000</td>\n",
              "      <td>0.000000</td>\n",
              "      <td>0.001158</td>\n",
              "      <td>0.001402</td>\n",
              "      <td>0.005934</td>\n",
              "      <td>0.000000</td>\n",
              "    </tr>\n",
              "    <tr>\n",
              "      <th>75%</th>\n",
              "      <td>0.000000</td>\n",
              "      <td>0.000000</td>\n",
              "      <td>0.082353</td>\n",
              "      <td>0.000000</td>\n",
              "      <td>0.038000</td>\n",
              "      <td>0.000000</td>\n",
              "      <td>0.000000</td>\n",
              "      <td>0.000000</td>\n",
              "      <td>0.000000</td>\n",
              "      <td>0.008801</td>\n",
              "      <td>0.000000</td>\n",
              "      <td>0.082730</td>\n",
              "      <td>0.000000</td>\n",
              "      <td>0.000000</td>\n",
              "      <td>0.000000</td>\n",
              "      <td>0.005000</td>\n",
              "      <td>0.000000</td>\n",
              "      <td>0.000000</td>\n",
              "      <td>0.140800</td>\n",
              "      <td>0.000000</td>\n",
              "      <td>0.114311</td>\n",
              "      <td>0.000000</td>\n",
              "      <td>0.000000</td>\n",
              "      <td>0.000000</td>\n",
              "      <td>0.000000</td>\n",
              "      <td>0.000000</td>\n",
              "      <td>0.000000</td>\n",
              "      <td>0.000000</td>\n",
              "      <td>0.000000</td>\n",
              "      <td>0.000000</td>\n",
              "      <td>0.000000</td>\n",
              "      <td>0.000000</td>\n",
              "      <td>0.000000</td>\n",
              "      <td>0.000000</td>\n",
              "      <td>0.000000</td>\n",
              "      <td>0.000000</td>\n",
              "      <td>0.000000</td>\n",
              "      <td>0.000000</td>\n",
              "      <td>0.000000</td>\n",
              "      <td>0.000000</td>\n",
              "      <td>0.000000</td>\n",
              "      <td>0.000000</td>\n",
              "      <td>0.000000</td>\n",
              "      <td>0.000000</td>\n",
              "      <td>0.005135</td>\n",
              "      <td>0.000000</td>\n",
              "      <td>0.000000</td>\n",
              "      <td>0.000000</td>\n",
              "      <td>0.000000</td>\n",
              "      <td>0.019278</td>\n",
              "      <td>0.000000</td>\n",
              "      <td>0.009699</td>\n",
              "      <td>0.008662</td>\n",
              "      <td>0.000000</td>\n",
              "      <td>0.002457</td>\n",
              "      <td>0.004205</td>\n",
              "      <td>0.016730</td>\n",
              "      <td>1.000000</td>\n",
              "    </tr>\n",
              "    <tr>\n",
              "      <th>max</th>\n",
              "      <td>1.000000</td>\n",
              "      <td>1.000000</td>\n",
              "      <td>1.000000</td>\n",
              "      <td>1.000000</td>\n",
              "      <td>1.000000</td>\n",
              "      <td>1.000000</td>\n",
              "      <td>1.000000</td>\n",
              "      <td>1.000000</td>\n",
              "      <td>1.000000</td>\n",
              "      <td>1.000000</td>\n",
              "      <td>1.000000</td>\n",
              "      <td>1.000000</td>\n",
              "      <td>1.000000</td>\n",
              "      <td>1.000000</td>\n",
              "      <td>1.000000</td>\n",
              "      <td>1.000000</td>\n",
              "      <td>1.000000</td>\n",
              "      <td>1.000000</td>\n",
              "      <td>1.000000</td>\n",
              "      <td>1.000000</td>\n",
              "      <td>1.000000</td>\n",
              "      <td>1.000000</td>\n",
              "      <td>1.000000</td>\n",
              "      <td>1.000000</td>\n",
              "      <td>1.000000</td>\n",
              "      <td>1.000000</td>\n",
              "      <td>1.000000</td>\n",
              "      <td>1.000000</td>\n",
              "      <td>1.000000</td>\n",
              "      <td>1.000000</td>\n",
              "      <td>1.000000</td>\n",
              "      <td>1.000000</td>\n",
              "      <td>1.000000</td>\n",
              "      <td>1.000000</td>\n",
              "      <td>1.000000</td>\n",
              "      <td>1.000000</td>\n",
              "      <td>1.000000</td>\n",
              "      <td>1.000000</td>\n",
              "      <td>1.000000</td>\n",
              "      <td>1.000000</td>\n",
              "      <td>1.000000</td>\n",
              "      <td>1.000000</td>\n",
              "      <td>1.000000</td>\n",
              "      <td>1.000000</td>\n",
              "      <td>1.000000</td>\n",
              "      <td>1.000000</td>\n",
              "      <td>1.000000</td>\n",
              "      <td>1.000000</td>\n",
              "      <td>1.000000</td>\n",
              "      <td>1.000000</td>\n",
              "      <td>1.000000</td>\n",
              "      <td>1.000000</td>\n",
              "      <td>1.000000</td>\n",
              "      <td>1.000000</td>\n",
              "      <td>1.000000</td>\n",
              "      <td>1.000000</td>\n",
              "      <td>1.000000</td>\n",
              "      <td>1.000000</td>\n",
              "    </tr>\n",
              "  </tbody>\n",
              "</table>\n",
              "</div>"
            ],
            "text/plain": [
              "       word_freq_make  word_freq_address  ...  capital_run_length_total         spam\n",
              "count     4601.000000        4601.000000  ...               4601.000000  4601.000000\n",
              "mean         0.023029           0.014917  ...                  0.017821     0.394045\n",
              "std          0.067259           0.090376  ...                  0.038280     0.488698\n",
              "min          0.000000           0.000000  ...                  0.000000     0.000000\n",
              "25%          0.000000           0.000000  ...                  0.002146     0.000000\n",
              "50%          0.000000           0.000000  ...                  0.005934     0.000000\n",
              "75%          0.000000           0.000000  ...                  0.016730     1.000000\n",
              "max          1.000000           1.000000  ...                  1.000000     1.000000\n",
              "\n",
              "[8 rows x 58 columns]"
            ]
          },
          "metadata": {
            "tags": []
          },
          "execution_count": 16
        }
      ]
    },
    {
      "cell_type": "markdown",
      "metadata": {
        "id": "DShBCnKKMD85"
      },
      "source": [
        "### Dimension reduction"
      ]
    },
    {
      "cell_type": "code",
      "metadata": {
        "colab": {
          "base_uri": "https://localhost:8080/"
        },
        "id": "DjcFmeOvfaYe",
        "outputId": "15f72e98-9b30-4a93-b85d-9c5284f9956f"
      },
      "source": [
        "model = RandomForestRegressor(random_state=42, max_depth=(df.shape)[1])# creating random forest model\n",
        "\n",
        "df_normalized = pd.get_dummies(df_normalized)\n",
        "#training the random forest model\n",
        "model.fit(df_normalized[list(names[:-1])],\n",
        "          df_normalized[\"spam\"])"
      ],
      "execution_count": 17,
      "outputs": [
        {
          "output_type": "execute_result",
          "data": {
            "text/plain": [
              "RandomForestRegressor(bootstrap=True, ccp_alpha=0.0, criterion='mse',\n",
              "                      max_depth=58, max_features='auto', max_leaf_nodes=None,\n",
              "                      max_samples=None, min_impurity_decrease=0.0,\n",
              "                      min_impurity_split=None, min_samples_leaf=1,\n",
              "                      min_samples_split=2, min_weight_fraction_leaf=0.0,\n",
              "                      n_estimators=100, n_jobs=None, oob_score=False,\n",
              "                      random_state=42, verbose=0, warm_start=False)"
            ]
          },
          "metadata": {
            "tags": []
          },
          "execution_count": 17
        }
      ]
    },
    {
      "cell_type": "code",
      "metadata": {
        "colab": {
          "base_uri": "https://localhost:8080/",
          "height": 621
        },
        "id": "Z1WQO4b-gK0M",
        "outputId": "85ee45a3-e105-4d16-e6d8-9b88486fc782"
      },
      "source": [
        "# plotting top 15 attributes of dataset wrt importance(darker colour bar for attribute represents more importance)\n",
        "features = df.columns\n",
        "importances = model.feature_importances_\n",
        "indices = np.argsort(importances)[-15:]\n",
        "f = plt.figure(figsize=(8, 10))\n",
        "\n",
        "plt.barh(range(len(indices)), importances[indices], color=sns.color_palette(\"flare\", n_colors=indices.shape[0]), align='center')\n",
        "plt.yticks(range(len(indices)), [features[i] for i in indices])\n",
        "plt.xticks(np.arange(0, round(max(importances),2)+0.02, step=0.02))\n",
        "\n",
        "plt.xlabel('Relative Importance')\n",
        "plt.title(\"Top 15 attributes wrt importance\")\n",
        "plt.show()"
      ],
      "execution_count": 18,
      "outputs": [
        {
          "output_type": "display_data",
          "data": {
            "image/png": "[encoded data removed]",
            "text/plain": [
              "<Figure size 576x720 with 1 Axes>"
            ]
          },
          "metadata": {
            "tags": [],
            "needs_background": "light"
          }
        }
      ]
    },
    {
      "cell_type": "markdown",
      "metadata": {
        "id": "4JVr_Qgvlu2o"
      },
      "source": [
        "* Based on the above graph, we can hand pick the top-most features to reduce the \n",
        "dimensionality of the dataset. Alernatively, we can use the *SelectFromModel* of *sklearn* to do so. It selects the features based on the importance of their weights."
      ]
    },
    {
      "cell_type": "code",
      "metadata": {
        "colab": {
          "base_uri": "https://localhost:8080/"
        },
        "id": "4gA1M6U7QLNA",
        "outputId": "177e6b75-9768-4c1c-ff12-b131868f78fb"
      },
      "source": [
        "indices # top 15 attributes index"
      ],
      "execution_count": 19,
      "outputs": [
        {
          "output_type": "execute_result",
          "data": {
            "text/plain": [
              "array([16, 23, 20, 26, 18,  4, 45, 56, 55, 15, 54, 24,  6, 52, 51])"
            ]
          },
          "metadata": {
            "tags": []
          },
          "execution_count": 19
        }
      ]
    },
    {
      "cell_type": "code",
      "metadata": {
        "colab": {
          "base_uri": "https://localhost:8080/"
        },
        "id": "s63W2z0Azfsh",
        "outputId": "1915e858-a952-4b88-ffb8-20a6f368ad22"
      },
      "source": [
        "red_col_name = [features[i] for i in indices]\n",
        "red_col_name.append('spam')\n",
        "print(red_col_name)"
      ],
      "execution_count": 20,
      "outputs": [
        {
          "output_type": "stream",
          "text": [
            "['word_freq_business', 'word_freq_money', 'word_freq_your', 'word_freq_george', 'word_freq_you', 'word_freq_our', 'word_freq_edu', 'capital_run_length_total', 'capital_run_length_longest', 'word_freq_free', 'capital_run_length_average', 'word_freq_hp', 'word_freq_remove', 'char_freq_$', 'char_freq_!', 'spam']\n"
          ],
          "name": "stdout"
        }
      ]
    },
    {
      "cell_type": "code",
      "metadata": {
        "id": "gimV1x5xylU9"
      },
      "source": [
        "df_red_normalised = df_normalized[red_col_name].copy()# removing excess attributes from dataframe"
      ],
      "execution_count": 21,
      "outputs": []
    },
    {
      "cell_type": "code",
      "metadata": {
        "colab": {
          "base_uri": "https://localhost:8080/",
          "height": 224
        },
        "id": "2vsHdTJk0651",
        "outputId": "5ea82fcf-f547-467d-90ef-77a0d423b4a7"
      },
      "source": [
        "# Final Normalized Dataframe\n",
        "df_red_normalised.head()"
      ],
      "execution_count": 22,
      "outputs": [
        {
          "output_type": "execute_result",
          "data": {
            "text/html": [
              "<div>\n",
              "<style scoped>\n",
              "    .dataframe tbody tr th:only-of-type {\n",
              "        vertical-align: middle;\n",
              "    }\n",
              "\n",
              "    .dataframe tbody tr th {\n",
              "        vertical-align: top;\n",
              "    }\n",
              "\n",
              "    .dataframe thead th {\n",
              "        text-align: right;\n",
              "    }\n",
              "</style>\n",
              "<table border=\"1\" class=\"dataframe\">\n",
              "  <thead>\n",
              "    <tr style=\"text-align: right;\">\n",
              "      <th></th>\n",
              "      <th>word_freq_business</th>\n",
              "      <th>word_freq_money</th>\n",
              "      <th>word_freq_your</th>\n",
              "      <th>word_freq_george</th>\n",
              "      <th>word_freq_you</th>\n",
              "      <th>word_freq_our</th>\n",
              "      <th>word_freq_edu</th>\n",
              "      <th>capital_run_length_total</th>\n",
              "      <th>capital_run_length_longest</th>\n",
              "      <th>word_freq_free</th>\n",
              "      <th>capital_run_length_average</th>\n",
              "      <th>word_freq_hp</th>\n",
              "      <th>word_freq_remove</th>\n",
              "      <th>char_freq_$</th>\n",
              "      <th>char_freq_!</th>\n",
              "      <th>spam</th>\n",
              "    </tr>\n",
              "  </thead>\n",
              "  <tbody>\n",
              "    <tr>\n",
              "      <th>0</th>\n",
              "      <td>0.000000</td>\n",
              "      <td>0.0000</td>\n",
              "      <td>0.086409</td>\n",
              "      <td>0.0</td>\n",
              "      <td>0.102933</td>\n",
              "      <td>0.032</td>\n",
              "      <td>0.000000</td>\n",
              "      <td>0.017487</td>\n",
              "      <td>0.006007</td>\n",
              "      <td>0.0160</td>\n",
              "      <td>0.002502</td>\n",
              "      <td>0.0</td>\n",
              "      <td>0.000000</td>\n",
              "      <td>0.000000</td>\n",
              "      <td>0.023955</td>\n",
              "      <td>1.0</td>\n",
              "    </tr>\n",
              "    <tr>\n",
              "      <th>1</th>\n",
              "      <td>0.009804</td>\n",
              "      <td>0.0344</td>\n",
              "      <td>0.143114</td>\n",
              "      <td>0.0</td>\n",
              "      <td>0.185067</td>\n",
              "      <td>0.014</td>\n",
              "      <td>0.000000</td>\n",
              "      <td>0.064836</td>\n",
              "      <td>0.010012</td>\n",
              "      <td>0.0070</td>\n",
              "      <td>0.003735</td>\n",
              "      <td>0.0</td>\n",
              "      <td>0.028886</td>\n",
              "      <td>0.029985</td>\n",
              "      <td>0.011454</td>\n",
              "      <td>1.0</td>\n",
              "    </tr>\n",
              "    <tr>\n",
              "      <th>2</th>\n",
              "      <td>0.008403</td>\n",
              "      <td>0.0048</td>\n",
              "      <td>0.045905</td>\n",
              "      <td>0.0</td>\n",
              "      <td>0.072533</td>\n",
              "      <td>0.123</td>\n",
              "      <td>0.002721</td>\n",
              "      <td>0.142551</td>\n",
              "      <td>0.048458</td>\n",
              "      <td>0.0030</td>\n",
              "      <td>0.008008</td>\n",
              "      <td>0.0</td>\n",
              "      <td>0.026135</td>\n",
              "      <td>0.030651</td>\n",
              "      <td>0.008498</td>\n",
              "      <td>1.0</td>\n",
              "    </tr>\n",
              "    <tr>\n",
              "      <th>3</th>\n",
              "      <td>0.000000</td>\n",
              "      <td>0.0000</td>\n",
              "      <td>0.027903</td>\n",
              "      <td>0.0</td>\n",
              "      <td>0.169600</td>\n",
              "      <td>0.063</td>\n",
              "      <td>0.000000</td>\n",
              "      <td>0.011995</td>\n",
              "      <td>0.003905</td>\n",
              "      <td>0.0155</td>\n",
              "      <td>0.002303</td>\n",
              "      <td>0.0</td>\n",
              "      <td>0.042641</td>\n",
              "      <td>0.000000</td>\n",
              "      <td>0.004218</td>\n",
              "      <td>1.0</td>\n",
              "    </tr>\n",
              "    <tr>\n",
              "      <th>4</th>\n",
              "      <td>0.000000</td>\n",
              "      <td>0.0000</td>\n",
              "      <td>0.027903</td>\n",
              "      <td>0.0</td>\n",
              "      <td>0.169600</td>\n",
              "      <td>0.063</td>\n",
              "      <td>0.000000</td>\n",
              "      <td>0.011995</td>\n",
              "      <td>0.003905</td>\n",
              "      <td>0.0155</td>\n",
              "      <td>0.002303</td>\n",
              "      <td>0.0</td>\n",
              "      <td>0.042641</td>\n",
              "      <td>0.000000</td>\n",
              "      <td>0.004157</td>\n",
              "      <td>1.0</td>\n",
              "    </tr>\n",
              "  </tbody>\n",
              "</table>\n",
              "</div>"
            ],
            "text/plain": [
              "   word_freq_business  word_freq_money  ...  char_freq_!  spam\n",
              "0            0.000000           0.0000  ...     0.023955   1.0\n",
              "1            0.009804           0.0344  ...     0.011454   1.0\n",
              "2            0.008403           0.0048  ...     0.008498   1.0\n",
              "3            0.000000           0.0000  ...     0.004218   1.0\n",
              "4            0.000000           0.0000  ...     0.004157   1.0\n",
              "\n",
              "[5 rows x 16 columns]"
            ]
          },
          "metadata": {
            "tags": []
          },
          "execution_count": 22
        }
      ]
    },
    {
      "cell_type": "code",
      "metadata": {
        "colab": {
          "base_uri": "https://localhost:8080/"
        },
        "id": "vBpe8ouM7TgT",
        "outputId": "08331089-d323-4696-d9f1-c85b892577e3"
      },
      "source": [
        "df_red_normalised.shape # size of the final data frame"
      ],
      "execution_count": 23,
      "outputs": [
        {
          "output_type": "execute_result",
          "data": {
            "text/plain": [
              "(4601, 16)"
            ]
          },
          "metadata": {
            "tags": []
          },
          "execution_count": 23
        }
      ]
    },
    {
      "cell_type": "markdown",
      "metadata": {
        "id": "Y60v9oDSreKr"
      },
      "source": [
        "### Finding the optimal value of $k$ for k-nearest-neighbours\n",
        "- In the base paper, no such method is defined for finding the optimal _k_. They have randomly choosen $k=5$.\n",
        "- Thus we will devise different methods for finding the optimal value of _k_ for KNN as our contribution to the project.\n",
        "- Methods : Elbow method; Silhoutte Method"
      ]
    },
    {
      "cell_type": "code",
      "metadata": {
        "id": "xoQBT7a38bJW"
      },
      "source": [
        "X = df_red_normalised.iloc[:, :-1]"
      ],
      "execution_count": 24,
      "outputs": []
    },
    {
      "cell_type": "code",
      "metadata": {
        "id": "-6VQJ10E4b3L"
      },
      "source": [
        "distortions = []\n",
        "inertias = []\n",
        "\n",
        "K = range(2, 10)\n",
        "\n",
        "for k in K:\n",
        "    kmeanModel = KMeans(n_clusters=k)\n",
        "    kmeanModel = kmeanModel.fit(X)\n",
        "    \n",
        "    distortions.append(sum(np.min(cdist(X, kmeanModel.cluster_centers_, 'euclidean'), axis=1)) / X.shape[0])\n",
        "    inertias.append(kmeanModel.inertia_)"
      ],
      "execution_count": 25,
      "outputs": []
    },
    {
      "cell_type": "markdown",
      "metadata": {
        "id": "Eg2bYeAOrr-b"
      },
      "source": [
        "### Elbow method\n",
        "* Distortion: It is calculated as the average of the squared distances from the\n",
        "cluster centers of the respective clusters.\n",
        "* Inertia: It is the sum of squared distances of samples to their closest cluster center."
      ]
    },
    {
      "cell_type": "code",
      "metadata": {
        "colab": {
          "base_uri": "https://localhost:8080/",
          "height": 295
        },
        "id": "NDJRs5JI5ZFB",
        "outputId": "f7baece8-2c2f-48f1-d1a8-406faa197ff5"
      },
      "source": [
        "plt.plot(K, distortions, 'bs-')\n",
        "plt.xlabel('Values of K')\n",
        "plt.ylabel('Distortion')\n",
        "plt.title('The Elbow Method using Distortion')\n",
        "plt.show()"
      ],
      "execution_count": 26,
      "outputs": [
        {
          "output_type": "display_data",
          "data": {
            "image/png": "[encoded data removed]",
            "text/plain": [
              "<Figure size 432x288 with 1 Axes>"
            ]
          },
          "metadata": {
            "tags": [],
            "needs_background": "light"
          }
        }
      ]
    },
    {
      "cell_type": "code",
      "metadata": {
        "colab": {
          "base_uri": "https://localhost:8080/",
          "height": 295
        },
        "id": "9KEee1_V5f0d",
        "outputId": "acf50d74-408c-4a4c-9aa1-9792d9e0ed38"
      },
      "source": [
        "plt.plot(K, inertias, 'bs-')\n",
        "plt.xlabel('Values of K')\n",
        "plt.ylabel('Inertia')\n",
        "plt.title('The Elbow Method using Inertia')\n",
        "plt.show()\n"
      ],
      "execution_count": 27,
      "outputs": [
        {
          "output_type": "display_data",
          "data": {
            "image/png": "[encoded data removed]",
            "text/plain": [
              "<Figure size 432x288 with 1 Axes>"
            ]
          },
          "metadata": {
            "tags": [],
            "needs_background": "light"
          }
        }
      ]
    },
    {
      "cell_type": "markdown",
      "metadata": {
        "id": "Onvtfn3At5UX"
      },
      "source": [
        "> From the above plots guessing the optimal value of _k_ can be  ambiguous. The value can be **5** or **6**. Thus we will use **silhouette method** to calculate silhouette coefficient and thus finding the exact _k_."
      ]
    },
    {
      "cell_type": "markdown",
      "metadata": {
        "id": "BJGsw2HkvLQn"
      },
      "source": [
        "### Silhoutte Method"
      ]
    },
    {
      "cell_type": "code",
      "metadata": {
        "id": "DQ6cCA_a53uz"
      },
      "source": [
        "# finding the optimal 'k' using silhouette method\n",
        "sil = []\n",
        "kmax = 10\n",
        "\n",
        "for k in range(2, kmax):\n",
        "  kmeans = KMeans(n_clusters = k).fit(X)\n",
        "  labels = kmeans.labels_\n",
        "  sil.append(silhouette_score(X, labels))"
      ],
      "execution_count": 28,
      "outputs": []
    },
    {
      "cell_type": "code",
      "metadata": {
        "colab": {
          "base_uri": "https://localhost:8080/"
        },
        "id": "paQZuSDn2OqL",
        "outputId": "bb00ee84-f806-445d-ff21-1dc8236abfb5"
      },
      "source": [
        "sil"
      ],
      "execution_count": 29,
      "outputs": [
        {
          "output_type": "execute_result",
          "data": {
            "text/plain": [
              "[0.26363480055321675,\n",
              " 0.3039979636138543,\n",
              " 0.2682039962650861,\n",
              " 0.2918830429358563,\n",
              " 0.2909677331876152,\n",
              " 0.3045848739763055,\n",
              " 0.2951412490855594,\n",
              " 0.23936218759728606]"
            ]
          },
          "metadata": {
            "tags": []
          },
          "execution_count": 29
        }
      ]
    },
    {
      "cell_type": "code",
      "metadata": {
        "colab": {
          "base_uri": "https://localhost:8080/",
          "height": 295
        },
        "id": "gqgLHH-C6DXd",
        "outputId": "c83a9f99-40da-4088-a24d-cde4da8a9c9a"
      },
      "source": [
        "# ploting the Silhouette coefficient wrt to different k's\n",
        "plt.plot(K, sil, 'ms-')\n",
        "plt.xlabel('Values of K')\n",
        "plt.ylabel('Silhouette coefficient')\n",
        "plt.title('Silhouette method')\n",
        "plt.show()"
      ],
      "execution_count": 30,
      "outputs": [
        {
          "output_type": "display_data",
          "data": {
            "image/png": "[encoded data removed]",
            "text/plain": [
              "<Figure size 432x288 with 1 Axes>"
            ]
          },
          "metadata": {
            "tags": [],
            "needs_background": "light"
          }
        }
      ]
    },
    {
      "cell_type": "markdown",
      "metadata": {
        "id": "SO1iwL5lwNm4"
      },
      "source": [
        "### Conclusion\n",
        "\n",
        "- Thus from the above we can conclude that the optimal value of _k_ should we **6**. Thus the same will be used further."
      ]
    },
    {
      "cell_type": "markdown",
      "metadata": {
        "id": "-L5arui5XPIr"
      },
      "source": [
        "### Training part"
      ]
    },
    {
      "cell_type": "code",
      "metadata": {
        "id": "A3IYeQUJz6wJ"
      },
      "source": [
        "X = df_red_normalised.iloc[:, :-1]\n",
        "y = df_red_normalised['spam']"
      ],
      "execution_count": 31,
      "outputs": []
    },
    {
      "cell_type": "code",
      "metadata": {
        "id": "8UCcCQSeRZUR"
      },
      "source": [
        "#spliting the data into train and test as required \n",
        "D_train, D_test, B_train, B_test = train_test_split(X, y, test_size=0.2, random_state=42, shuffle=True)"
      ],
      "execution_count": 32,
      "outputs": []
    },
    {
      "cell_type": "code",
      "metadata": {
        "id": "qu1CYl5eR5O8",
        "colab": {
          "base_uri": "https://localhost:8080/"
        },
        "outputId": "3784c1b7-7bcb-42dd-e089-89e4d555332b"
      },
      "source": [
        "print(D_train.shape)\n",
        "print(D_test.shape)\n",
        "\n",
        "print(B_train.shape)\n",
        "print(B_test.shape)"
      ],
      "execution_count": 33,
      "outputs": [
        {
          "output_type": "stream",
          "text": [
            "(3680, 15)\n",
            "(921, 15)\n",
            "(3680,)\n",
            "(921,)\n"
          ],
          "name": "stdout"
        }
      ]
    },
    {
      "cell_type": "markdown",
      "metadata": {
        "id": "wFyr7efcxkxz"
      },
      "source": [
        "### Using the different distance metrices for the knn "
      ]
    },
    {
      "cell_type": "markdown",
      "metadata": {
        "id": "sV5JAZhY09Yc"
      },
      "source": [
        "- Euclidean distance: The Euclidean distance between two points _x_ and *y* in either the plane or 3-dimensional space measures the length of a line segment connecting these two points.\n",
        "\n",
        "$$\n",
        "d(x,y) =\\sqrt{\\sum_{i=1}^{n}(x_i-y_i)^2}\n",
        "$$\n",
        "\n",
        "- Manhattan distance: It is defined as the sum of the absolute values of the differences between the coordinates of x and y.\n",
        "\n",
        "$$\n",
        "d(x,y) =\\sum_{i=1}^{n} |x_i-y_i|\n",
        "$$\n",
        "\n",
        "- Chebyshev distance: Here the distance between two vectors is the greatest of their differences along any coordinate dimension.\n",
        "\n",
        "$$\n",
        "d(x,y) = \\max_{i}|a_i-b_i|\n",
        "$$\n",
        "\n",
        "\n",
        "\n"
      ]
    },
    {
      "cell_type": "code",
      "metadata": {
        "id": "TQdC4XzGSQ7n",
        "colab": {
          "base_uri": "https://localhost:8080/"
        },
        "outputId": "efb9355d-cd63-43d8-98cc-ee2cbca487e4"
      },
      "source": [
        "k = 6 # concluded optimum value \n",
        "\n",
        "knn_eu = KNeighborsClassifier(n_neighbors=k, metric='euclidean', p=2) #  Euclidean distance\n",
        "print(knn_eu.fit(D_train, B_train))\n",
        "\n",
        "knn_mn = KNeighborsClassifier(n_neighbors=k, metric='manhattan', p=1) # using Manhattan distance\n",
        "print(knn_mn.fit(D_train, B_train))\n",
        "\n",
        "knn_ch = KNeighborsClassifier(n_neighbors=k, metric='chebyshev') # chebyshev distance\n",
        "print(knn_ch.fit(D_train, B_train))"
      ],
      "execution_count": 34,
      "outputs": [
        {
          "output_type": "stream",
          "text": [
            "KNeighborsClassifier(algorithm='auto', leaf_size=30, metric='euclidean',\n",
            "                     metric_params=None, n_jobs=None, n_neighbors=6, p=2,\n",
            "                     weights='uniform')\n",
            "KNeighborsClassifier(algorithm='auto', leaf_size=30, metric='manhattan',\n",
            "                     metric_params=None, n_jobs=None, n_neighbors=6, p=1,\n",
            "                     weights='uniform')\n",
            "KNeighborsClassifier(algorithm='auto', leaf_size=30, metric='chebyshev',\n",
            "                     metric_params=None, n_jobs=None, n_neighbors=6, p=2,\n",
            "                     weights='uniform')\n"
          ],
          "name": "stdout"
        }
      ]
    },
    {
      "cell_type": "markdown",
      "metadata": {
        "id": "rsk7v_A6zxIZ"
      },
      "source": [
        "### Testing the model"
      ]
    },
    {
      "cell_type": "markdown",
      "metadata": {
        "id": "AQli-eTkYNqA"
      },
      "source": [
        "Evaluation parameters used for testing.\n",
        "\n",
        "- precision: It is the number of true positive results divided by the number of all positive results.\n",
        "\n",
        "$$Precision: \\frac{tp}{tp+fp}$$\n",
        "\n",
        "- recall: It is the number of true positive results divided by the number of all samples that should have been identified as positive.\n",
        "\n",
        "$$Recall: \\frac{tp}{tp+fn}$$\n",
        "\n",
        "- F1 Score: It is measure of Test Accuracy.It is a harmonic mean of precision and recall.\n",
        "\n",
        "$$F1: \\frac{2 \\times precision \\times recall}{precision + recall}$$"
      ]
    },
    {
      "cell_type": "code",
      "metadata": {
        "id": "8S1ToFoRVGHc"
      },
      "source": [
        "y_predict_eu = knn_eu.predict(D_test)\n",
        "y_predict_mn = knn_mn.predict(D_test)\n",
        "y_predict_ch = knn_ch.predict(D_test)"
      ],
      "execution_count": 35,
      "outputs": []
    },
    {
      "cell_type": "markdown",
      "metadata": {
        "id": "wWNa00Ut75fQ"
      },
      "source": [
        "- **Euclidean**"
      ]
    },
    {
      "cell_type": "code",
      "metadata": {
        "id": "a3LrxLcg7lKa",
        "colab": {
          "base_uri": "https://localhost:8080/"
        },
        "outputId": "402bd79c-a5b5-459c-b688-04bae2f17219"
      },
      "source": [
        "cf_matrix = confusion_matrix(B_test, y_predict_eu)\n",
        "print(\"Confusion Matrix :\", cf_matrix) # confusion matrix using euclidean distance\n",
        "print(classification_report(B_test, y_predict_eu)) # Accuracy of the model"
      ],
      "execution_count": 36,
      "outputs": [
        {
          "output_type": "stream",
          "text": [
            "Confusion Matrix : [[501  30]\n",
            " [ 79 311]]\n",
            "              precision    recall  f1-score   support\n",
            "\n",
            "         0.0       0.86      0.94      0.90       531\n",
            "         1.0       0.91      0.80      0.85       390\n",
            "\n",
            "    accuracy                           0.88       921\n",
            "   macro avg       0.89      0.87      0.88       921\n",
            "weighted avg       0.88      0.88      0.88       921\n",
            "\n"
          ],
          "name": "stdout"
        }
      ]
    },
    {
      "cell_type": "code",
      "metadata": {
        "id": "F0ggXHpHl-lF",
        "colab": {
          "base_uri": "https://localhost:8080/",
          "height": 245
        },
        "outputId": "8632da15-b304-4b32-f9fb-25bfc8759a43"
      },
      "source": [
        "# Visualizing the confusion matrix\n",
        "spam_categories = ['legitimate', 'spam']\n",
        "print(\"Confusion Matrix for KNN using Euclidean Distance\")\n",
        "\n",
        "plt.figure(figsize = (4,3))\n",
        "sns.heatmap(cf_matrix/np.sum(cf_matrix), annot=True, square=True, fmt='.2%', xticklabels=spam_categories,yticklabels=spam_categories, cmap=\"YlOrRd\")\n",
        "plt.plot()"
      ],
      "execution_count": 37,
      "outputs": [
        {
          "output_type": "stream",
          "text": [
            "Confusion Matrix for KNN using Euclidean Distance\n"
          ],
          "name": "stdout"
        },
        {
          "output_type": "execute_result",
          "data": {
            "text/plain": [
              "[]"
            ]
          },
          "metadata": {
            "tags": []
          },
          "execution_count": 37
        },
        {
          "output_type": "display_data",
          "data": {
            "image/png": "[encoded data removed]",
            "text/plain": [
              "<Figure size 288x216 with 2 Axes>"
            ]
          },
          "metadata": {
            "tags": [],
            "needs_background": "light"
          }
        }
      ]
    },
    {
      "cell_type": "markdown",
      "metadata": {
        "id": "K3CHASoh79TF"
      },
      "source": [
        "- **Manhattan**"
      ]
    },
    {
      "cell_type": "code",
      "metadata": {
        "id": "_pkV_1K37_SQ",
        "colab": {
          "base_uri": "https://localhost:8080/"
        },
        "outputId": "776688e5-1388-47d6-c8ce-eaf708382675"
      },
      "source": [
        "cf_matrix = confusion_matrix(B_test, y_predict_mn)\n",
        "print(\"Confusion Matrix:\",cf_matrix)  # confusion mat. using Manhattan distance\n",
        "print(classification_report(B_test, y_predict_mn))"
      ],
      "execution_count": 38,
      "outputs": [
        {
          "output_type": "stream",
          "text": [
            "Confusion Matrix: [[513  18]\n",
            " [ 78 312]]\n",
            "              precision    recall  f1-score   support\n",
            "\n",
            "         0.0       0.87      0.97      0.91       531\n",
            "         1.0       0.95      0.80      0.87       390\n",
            "\n",
            "    accuracy                           0.90       921\n",
            "   macro avg       0.91      0.88      0.89       921\n",
            "weighted avg       0.90      0.90      0.89       921\n",
            "\n"
          ],
          "name": "stdout"
        }
      ]
    },
    {
      "cell_type": "code",
      "metadata": {
        "colab": {
          "base_uri": "https://localhost:8080/",
          "height": 245
        },
        "id": "1mIFoysp4tbU",
        "outputId": "667be352-003a-410e-e844-84d47dbe0122"
      },
      "source": [
        "print(\"Confusion Matrix for KNN using Manhattan Distance\")\n",
        "\n",
        "plt.figure(figsize = (4,3))\n",
        "sns.heatmap(cf_matrix/np.sum(cf_matrix), annot=True, square=True, fmt='.2%', xticklabels=spam_categories,yticklabels=spam_categories, cmap=\"YlOrRd\")\n",
        "plt.plot()"
      ],
      "execution_count": 39,
      "outputs": [
        {
          "output_type": "stream",
          "text": [
            "Confusion Matrix for KNN using Manhattan Distance\n"
          ],
          "name": "stdout"
        },
        {
          "output_type": "execute_result",
          "data": {
            "text/plain": [
              "[]"
            ]
          },
          "metadata": {
            "tags": []
          },
          "execution_count": 39
        },
        {
          "output_type": "display_data",
          "data": {
            "image/png": "[encoded data removed]",
            "text/plain": [
              "<Figure size 288x216 with 2 Axes>"
            ]
          },
          "metadata": {
            "tags": [],
            "needs_background": "light"
          }
        }
      ]
    },
    {
      "cell_type": "markdown",
      "metadata": {
        "id": "cG-jCOZF8BiO"
      },
      "source": [
        "- **Chebyshev**"
      ]
    },
    {
      "cell_type": "code",
      "metadata": {
        "id": "0f_p7JtD8Fso",
        "colab": {
          "base_uri": "https://localhost:8080/"
        },
        "outputId": "b74da320-86b1-4df1-ef12-75bb6462bdf4"
      },
      "source": [
        "cf_matrix = confusion_matrix(B_test, y_predict_ch)\n",
        "print(\"Confusion Matrix:\", cf_matrix) # confusion matrix for the KNN model using chebyshev distance\n",
        "print(classification_report(B_test, y_predict_ch))"
      ],
      "execution_count": 40,
      "outputs": [
        {
          "output_type": "stream",
          "text": [
            "Confusion Matrix: [[489  42]\n",
            " [ 71 319]]\n",
            "              precision    recall  f1-score   support\n",
            "\n",
            "         0.0       0.87      0.92      0.90       531\n",
            "         1.0       0.88      0.82      0.85       390\n",
            "\n",
            "    accuracy                           0.88       921\n",
            "   macro avg       0.88      0.87      0.87       921\n",
            "weighted avg       0.88      0.88      0.88       921\n",
            "\n"
          ],
          "name": "stdout"
        }
      ]
    },
    {
      "cell_type": "code",
      "metadata": {
        "id": "HFRtMLplo80K",
        "colab": {
          "base_uri": "https://localhost:8080/",
          "height": 245
        },
        "outputId": "8820055b-345e-4f8b-ddf6-b701934ef4e2"
      },
      "source": [
        "print(\"Confusion Matrix for KNN using Chebyshev Distance\")\n",
        "\n",
        "plt.figure(figsize = (4,3))\n",
        "sns.heatmap(cf_matrix/np.sum(cf_matrix), annot=True, square=True, fmt='.2%', xticklabels=spam_categories,yticklabels=spam_categories, cmap=\"YlOrRd\")\n",
        "plt.plot()"
      ],
      "execution_count": 41,
      "outputs": [
        {
          "output_type": "stream",
          "text": [
            "Confusion Matrix for KNN using Chebyshev Distance\n"
          ],
          "name": "stdout"
        },
        {
          "output_type": "execute_result",
          "data": {
            "text/plain": [
              "[]"
            ]
          },
          "metadata": {
            "tags": []
          },
          "execution_count": 41
        },
        {
          "output_type": "display_data",
          "data": {
            "image/png": "[encoded data removed]",
            "text/plain": [
              "<Figure size 288x216 with 2 Axes>"
            ]
          },
          "metadata": {
            "tags": [],
            "needs_background": "light"
          }
        }
      ]
    },
    {
      "cell_type": "markdown",
      "metadata": {
        "id": "yTJyljL14xzl"
      },
      "source": [
        "### Conclusion\n",
        "\n",
        "- knn with the Manhattan distance metric is giving the best model accuracy"
      ]
    },
    {
      "cell_type": "markdown",
      "metadata": {
        "id": "XJDspJeoe4rm"
      },
      "source": [
        "\n",
        "\n",
        "---\n",
        "\n"
      ]
    },
    {
      "cell_type": "markdown",
      "metadata": {
        "id": "wkwL2H4q4GX_"
      },
      "source": [
        "### Bio-inspired algorithm\n",
        "\n",
        "- We will further apply the bio-inspired optimisation algorithm along with the basic knn, and thus compare the model accuracy with the previous one."
      ]
    },
    {
      "cell_type": "code",
      "metadata": {
        "id": "CTGsOhkkBDaw"
      },
      "source": [
        "X = D_train.to_numpy()\n",
        "y = B_train.to_numpy()"
      ],
      "execution_count": null,
      "outputs": []
    },
    {
      "cell_type": "markdown",
      "metadata": {
        "id": "QSNOWnbIQ3Zo"
      },
      "source": [
        "### Binary-PSO"
      ]
    },
    {
      "cell_type": "markdown",
      "metadata": {
        "id": "1eUwKjkWe63Z"
      },
      "source": [
        "**About :**\n",
        "\n",
        "\n",
        "* Particle Swarm Optimization is a population-based optimization\n",
        "algorithm that is motivated by the simulation of social behavior\n",
        "such as of the flock of birds and school of fish. \n",
        "* In BPSO, the velocity is still updated in the same fashion as\n",
        "in the standard PSO. However, variables can only\n",
        "have the values 0 or 1.\n",
        "Below are the initial values of the parameters of this optimization algorithm: \n",
        "* c1 (cognitive parameter) = 0.5\n",
        "* c2 (social parameter)= 0.5\n",
        "* w (Inertia Weight) = 0.9\n",
        "* Number of Particles = 30\n",
        "* p(The sum of absolute values) = 2\n",
        "\n"
      ]
    },
    {
      "cell_type": "code",
      "metadata": {
        "id": "MO2fjsY__sJk"
      },
      "source": [
        "#binary-pso parameters\n",
        "options = {'c1': 0.5, 'c2': 0.5, 'w':0.9, 'k': 30, 'p':2}\n",
        "\n",
        "#objective func.\n",
        "def f_per_particle(m, alpha): \n",
        "    total_features = 15\n",
        "    X_subset = X if np.count_nonzero(m)==0 else X[:,m==1]\n",
        "    classifier.fit(X_subset, y)\n",
        "    P = (classifier.predict(X_subset) == y).mean()\n",
        "    j = (alpha *(1.0-P) + (1.0-alpha) * (1 - (X_subset.shape[1] / total_features)))\n",
        "    return j\n",
        "\n",
        "def f(x, alpha=0.88):\n",
        "    n_particles = x.shape[0]\n",
        "    j = [f_per_particle(x[i], alpha) for i in range(n_particles)]\n",
        "    return np.array(j)"
      ],
      "execution_count": null,
      "outputs": []
    },
    {
      "cell_type": "markdown",
      "metadata": {
        "id": "7esF0eJJQRZf"
      },
      "source": [
        "### knn with euclidean distance"
      ]
    },
    {
      "cell_type": "code",
      "metadata": {
        "colab": {
          "base_uri": "https://localhost:8080/"
        },
        "id": "ux4yF2sTA6Yz",
        "outputId": "a7b75665-0188-44ac-ff6d-d2a491ee6a52"
      },
      "source": [
        "classifier = knn_eu\n",
        "optimizer = ps.discrete.BinaryPSO(n_particles=30, dimensions=15, options=options)\n",
        "cost, pos = optimizer.optimize(f, iters=100, verbose=1)\n",
        "optimizer.reset()"
      ],
      "execution_count": null,
      "outputs": [
        {
          "output_type": "stream",
          "text": [
            "2021-05-14 10:29:49,109 - pyswarms.discrete.binary - INFO - Optimize for 100 iters with {'c1': 0.5, 'c2': 0.5, 'w': 0.9, 'k': 30, 'p': 2}\n",
            "\n",
            "pyswarms.discrete.binary:   0%|          |0/100\u001b[A\n",
            "pyswarms.discrete.binary:   0%|          |0/100, best_cost=0.0927\u001b[A\n",
            "pyswarms.discrete.binary:   1%|          |1/100, best_cost=0.0927\u001b[A\n",
            "pyswarms.discrete.binary:   1%|          |1/100, best_cost=0.0874\u001b[A\n",
            "pyswarms.discrete.binary:   2%|▏         |2/100, best_cost=0.0874\u001b[A\n",
            "pyswarms.discrete.binary:   2%|▏         |2/100, best_cost=0.0874\u001b[A\n",
            "pyswarms.discrete.binary:   3%|▎         |3/100, best_cost=0.0874\u001b[A\n",
            "pyswarms.discrete.binary:   3%|▎         |3/100, best_cost=0.0874\u001b[A\n",
            "pyswarms.discrete.binary:   4%|▍         |4/100, best_cost=0.0874\u001b[A\n",
            "pyswarms.discrete.binary:   4%|▍         |4/100, best_cost=0.0874\u001b[A\n",
            "pyswarms.discrete.binary:   5%|▌         |5/100, best_cost=0.0874\u001b[A\n",
            "pyswarms.discrete.binary:   5%|▌         |5/100, best_cost=0.0874\u001b[A\n",
            "pyswarms.discrete.binary:   6%|▌         |6/100, best_cost=0.0874\u001b[A\n",
            "pyswarms.discrete.binary:   6%|▌         |6/100, best_cost=0.0839\u001b[A\n",
            "pyswarms.discrete.binary:   7%|▋         |7/100, best_cost=0.0839\u001b[A\n",
            "pyswarms.discrete.binary:   7%|▋         |7/100, best_cost=0.0839\u001b[A\n",
            "pyswarms.discrete.binary:   8%|▊         |8/100, best_cost=0.0839\u001b[A\n",
            "pyswarms.discrete.binary:   8%|▊         |8/100, best_cost=0.0839\u001b[A\n",
            "pyswarms.discrete.binary:   9%|▉         |9/100, best_cost=0.0839\u001b[A\n",
            "pyswarms.discrete.binary:   9%|▉         |9/100, best_cost=0.0839\u001b[A\n",
            "pyswarms.discrete.binary:  10%|█         |10/100, best_cost=0.0839\u001b[A\n",
            "pyswarms.discrete.binary:  10%|█         |10/100, best_cost=0.0764\u001b[A\n",
            "pyswarms.discrete.binary:  11%|█         |11/100, best_cost=0.0764\u001b[A\n",
            "pyswarms.discrete.binary:  11%|█         |11/100, best_cost=0.0764\u001b[A\n",
            "pyswarms.discrete.binary:  12%|█▏        |12/100, best_cost=0.0764\u001b[A\n",
            "pyswarms.discrete.binary:  12%|█▏        |12/100, best_cost=0.0764\u001b[A\n",
            "pyswarms.discrete.binary:  13%|█▎        |13/100, best_cost=0.0764\u001b[A\n",
            "pyswarms.discrete.binary:  13%|█▎        |13/100, best_cost=0.0764\u001b[A\n",
            "pyswarms.discrete.binary:  14%|█▍        |14/100, best_cost=0.0764\u001b[A\n",
            "pyswarms.discrete.binary:  14%|█▍        |14/100, best_cost=0.0764\u001b[A\n",
            "pyswarms.discrete.binary:  15%|█▌        |15/100, best_cost=0.0764\u001b[A\n",
            "pyswarms.discrete.binary:  15%|█▌        |15/100, best_cost=0.0764\u001b[A\n",
            "pyswarms.discrete.binary:  16%|█▌        |16/100, best_cost=0.0764\u001b[A\n",
            "pyswarms.discrete.binary:  16%|█▌        |16/100, best_cost=0.0764\u001b[A\n",
            "pyswarms.discrete.binary:  17%|█▋        |17/100, best_cost=0.0764\u001b[A\n",
            "pyswarms.discrete.binary:  17%|█▋        |17/100, best_cost=0.0764\u001b[A\n",
            "pyswarms.discrete.binary:  18%|█▊        |18/100, best_cost=0.0764\u001b[A\n",
            "pyswarms.discrete.binary:  18%|█▊        |18/100, best_cost=0.0764\u001b[A\n",
            "pyswarms.discrete.binary:  19%|█▉        |19/100, best_cost=0.0764\u001b[A\n",
            "pyswarms.discrete.binary:  19%|█▉        |19/100, best_cost=0.0764\u001b[A\n",
            "pyswarms.discrete.binary:  20%|██        |20/100, best_cost=0.0764\u001b[A\n",
            "pyswarms.discrete.binary:  20%|██        |20/100, best_cost=0.0764\u001b[A\n",
            "pyswarms.discrete.binary:  21%|██        |21/100, best_cost=0.0764\u001b[A\n",
            "pyswarms.discrete.binary:  21%|██        |21/100, best_cost=0.0764\u001b[A\n",
            "pyswarms.discrete.binary:  22%|██▏       |22/100, best_cost=0.0764\u001b[A\n",
            "pyswarms.discrete.binary:  22%|██▏       |22/100, best_cost=0.0764\u001b[A\n",
            "pyswarms.discrete.binary:  23%|██▎       |23/100, best_cost=0.0764\u001b[A\n",
            "pyswarms.discrete.binary:  23%|██▎       |23/100, best_cost=0.0764\u001b[A\n",
            "pyswarms.discrete.binary:  24%|██▍       |24/100, best_cost=0.0764\u001b[A\n",
            "pyswarms.discrete.binary:  24%|██▍       |24/100, best_cost=0.0764\u001b[A\n",
            "pyswarms.discrete.binary:  25%|██▌       |25/100, best_cost=0.0764\u001b[A\n",
            "pyswarms.discrete.binary:  25%|██▌       |25/100, best_cost=0.0764\u001b[A\n",
            "pyswarms.discrete.binary:  26%|██▌       |26/100, best_cost=0.0764\u001b[A\n",
            "pyswarms.discrete.binary:  26%|██▌       |26/100, best_cost=0.0764\u001b[A\n",
            "pyswarms.discrete.binary:  27%|██▋       |27/100, best_cost=0.0764\u001b[A\n",
            "pyswarms.discrete.binary:  27%|██▋       |27/100, best_cost=0.0764\u001b[A\n",
            "pyswarms.discrete.binary:  28%|██▊       |28/100, best_cost=0.0764\u001b[A\n",
            "pyswarms.discrete.binary:  28%|██▊       |28/100, best_cost=0.0764\u001b[A\n",
            "pyswarms.discrete.binary:  29%|██▉       |29/100, best_cost=0.0764\u001b[A\n",
            "pyswarms.discrete.binary:  29%|██▉       |29/100, best_cost=0.0764\u001b[A\n",
            "pyswarms.discrete.binary:  30%|███       |30/100, best_cost=0.0764\u001b[A\n",
            "pyswarms.discrete.binary:  30%|███       |30/100, best_cost=0.0764\u001b[A\n",
            "pyswarms.discrete.binary:  31%|███       |31/100, best_cost=0.0764\u001b[A\n",
            "pyswarms.discrete.binary:  31%|███       |31/100, best_cost=0.0764\u001b[A\n",
            "pyswarms.discrete.binary:  32%|███▏      |32/100, best_cost=0.0764\u001b[A\n",
            "pyswarms.discrete.binary:  32%|███▏      |32/100, best_cost=0.0764\u001b[A\n",
            "pyswarms.discrete.binary:  33%|███▎      |33/100, best_cost=0.0764\u001b[A\n",
            "pyswarms.discrete.binary:  33%|███▎      |33/100, best_cost=0.0764\u001b[A\n",
            "pyswarms.discrete.binary:  34%|███▍      |34/100, best_cost=0.0764\u001b[A\n",
            "pyswarms.discrete.binary:  34%|███▍      |34/100, best_cost=0.0764\u001b[A\n",
            "pyswarms.discrete.binary:  35%|███▌      |35/100, best_cost=0.0764\u001b[A\n",
            "pyswarms.discrete.binary:  35%|███▌      |35/100, best_cost=0.0764\u001b[A\n",
            "pyswarms.discrete.binary:  36%|███▌      |36/100, best_cost=0.0764\u001b[A\n",
            "pyswarms.discrete.binary:  36%|███▌      |36/100, best_cost=0.0764\u001b[A\n",
            "pyswarms.discrete.binary:  37%|███▋      |37/100, best_cost=0.0764\u001b[A\n",
            "pyswarms.discrete.binary:  37%|███▋      |37/100, best_cost=0.0764\u001b[A\n",
            "pyswarms.discrete.binary:  38%|███▊      |38/100, best_cost=0.0764\u001b[A\n",
            "pyswarms.discrete.binary:  38%|███▊      |38/100, best_cost=0.0764\u001b[A\n",
            "pyswarms.discrete.binary:  39%|███▉      |39/100, best_cost=0.0764\u001b[A\n",
            "pyswarms.discrete.binary:  39%|███▉      |39/100, best_cost=0.0764\u001b[A\n",
            "pyswarms.discrete.binary:  40%|████      |40/100, best_cost=0.0764\u001b[A\n",
            "pyswarms.discrete.binary:  40%|████      |40/100, best_cost=0.0764\u001b[A\n",
            "pyswarms.discrete.binary:  41%|████      |41/100, best_cost=0.0764\u001b[A\n",
            "pyswarms.discrete.binary:  41%|████      |41/100, best_cost=0.0764\u001b[A\n",
            "pyswarms.discrete.binary:  42%|████▏     |42/100, best_cost=0.0764\u001b[A\n",
            "pyswarms.discrete.binary:  42%|████▏     |42/100, best_cost=0.0764\u001b[A\n",
            "pyswarms.discrete.binary:  43%|████▎     |43/100, best_cost=0.0764\u001b[A\n",
            "pyswarms.discrete.binary:  43%|████▎     |43/100, best_cost=0.0764\u001b[A\n",
            "pyswarms.discrete.binary:  44%|████▍     |44/100, best_cost=0.0764\u001b[A\n",
            "pyswarms.discrete.binary:  44%|████▍     |44/100, best_cost=0.0764\u001b[A\n",
            "pyswarms.discrete.binary:  45%|████▌     |45/100, best_cost=0.0764\u001b[A\n",
            "pyswarms.discrete.binary:  45%|████▌     |45/100, best_cost=0.0764\u001b[A\n",
            "pyswarms.discrete.binary:  46%|████▌     |46/100, best_cost=0.0764\u001b[A\n",
            "pyswarms.discrete.binary:  46%|████▌     |46/100, best_cost=0.074 \u001b[A\n",
            "pyswarms.discrete.binary:  47%|████▋     |47/100, best_cost=0.074\u001b[A\n",
            "pyswarms.discrete.binary:  47%|████▋     |47/100, best_cost=0.074\u001b[A\n",
            "pyswarms.discrete.binary:  48%|████▊     |48/100, best_cost=0.074\u001b[A\n",
            "pyswarms.discrete.binary:  48%|████▊     |48/100, best_cost=0.074\u001b[A\n",
            "pyswarms.discrete.binary:  49%|████▉     |49/100, best_cost=0.074\u001b[A\n",
            "pyswarms.discrete.binary:  49%|████▉     |49/100, best_cost=0.074\u001b[A\n",
            "pyswarms.discrete.binary:  50%|█████     |50/100, best_cost=0.074\u001b[A\n",
            "pyswarms.discrete.binary:  50%|█████     |50/100, best_cost=0.074\u001b[A\n",
            "pyswarms.discrete.binary:  51%|█████     |51/100, best_cost=0.074\u001b[A\n",
            "pyswarms.discrete.binary:  51%|█████     |51/100, best_cost=0.074\u001b[A\n",
            "pyswarms.discrete.binary:  52%|█████▏    |52/100, best_cost=0.074\u001b[A\n",
            "pyswarms.discrete.binary:  52%|█████▏    |52/100, best_cost=0.074\u001b[A\n",
            "pyswarms.discrete.binary:  53%|█████▎    |53/100, best_cost=0.074\u001b[A\n",
            "pyswarms.discrete.binary:  53%|█████▎    |53/100, best_cost=0.074\u001b[A\n",
            "pyswarms.discrete.binary:  54%|█████▍    |54/100, best_cost=0.074\u001b[A\n",
            "pyswarms.discrete.binary:  54%|█████▍    |54/100, best_cost=0.074\u001b[A\n",
            "pyswarms.discrete.binary:  55%|█████▌    |55/100, best_cost=0.074\u001b[A\n",
            "pyswarms.discrete.binary:  55%|█████▌    |55/100, best_cost=0.074\u001b[A\n",
            "pyswarms.discrete.binary:  56%|█████▌    |56/100, best_cost=0.074\u001b[A\n",
            "pyswarms.discrete.binary:  56%|█████▌    |56/100, best_cost=0.074\u001b[A\n",
            "pyswarms.discrete.binary:  57%|█████▋    |57/100, best_cost=0.074\u001b[A\n",
            "pyswarms.discrete.binary:  57%|█████▋    |57/100, best_cost=0.074\u001b[A\n",
            "pyswarms.discrete.binary:  58%|█████▊    |58/100, best_cost=0.074\u001b[A\n",
            "pyswarms.discrete.binary:  58%|█████▊    |58/100, best_cost=0.074\u001b[A\n",
            "pyswarms.discrete.binary:  59%|█████▉    |59/100, best_cost=0.074\u001b[A\n",
            "pyswarms.discrete.binary:  59%|█████▉    |59/100, best_cost=0.074\u001b[A\n",
            "pyswarms.discrete.binary:  60%|██████    |60/100, best_cost=0.074\u001b[A\n",
            "pyswarms.discrete.binary:  60%|██████    |60/100, best_cost=0.074\u001b[A\n",
            "pyswarms.discrete.binary:  61%|██████    |61/100, best_cost=0.074\u001b[A\n",
            "pyswarms.discrete.binary:  61%|██████    |61/100, best_cost=0.074\u001b[A\n",
            "pyswarms.discrete.binary:  62%|██████▏   |62/100, best_cost=0.074\u001b[A\n",
            "pyswarms.discrete.binary:  62%|██████▏   |62/100, best_cost=0.074\u001b[A\n",
            "pyswarms.discrete.binary:  63%|██████▎   |63/100, best_cost=0.074\u001b[A\n",
            "pyswarms.discrete.binary:  63%|██████▎   |63/100, best_cost=0.074\u001b[A\n",
            "pyswarms.discrete.binary:  64%|██████▍   |64/100, best_cost=0.074\u001b[A\n",
            "pyswarms.discrete.binary:  64%|██████▍   |64/100, best_cost=0.074\u001b[A\n",
            "pyswarms.discrete.binary:  65%|██████▌   |65/100, best_cost=0.074\u001b[A\n",
            "pyswarms.discrete.binary:  65%|██████▌   |65/100, best_cost=0.074\u001b[A\n",
            "pyswarms.discrete.binary:  66%|██████▌   |66/100, best_cost=0.074\u001b[A\n",
            "pyswarms.discrete.binary:  66%|██████▌   |66/100, best_cost=0.074\u001b[A\n",
            "pyswarms.discrete.binary:  67%|██████▋   |67/100, best_cost=0.074\u001b[A\n",
            "pyswarms.discrete.binary:  67%|██████▋   |67/100, best_cost=0.074\u001b[A\n",
            "pyswarms.discrete.binary:  68%|██████▊   |68/100, best_cost=0.074\u001b[A\n",
            "pyswarms.discrete.binary:  68%|██████▊   |68/100, best_cost=0.074\u001b[A\n",
            "pyswarms.discrete.binary:  69%|██████▉   |69/100, best_cost=0.074\u001b[A\n",
            "pyswarms.discrete.binary:  69%|██████▉   |69/100, best_cost=0.074\u001b[A\n",
            "pyswarms.discrete.binary:  70%|███████   |70/100, best_cost=0.074\u001b[A\n",
            "pyswarms.discrete.binary:  70%|███████   |70/100, best_cost=0.074\u001b[A\n",
            "pyswarms.discrete.binary:  71%|███████   |71/100, best_cost=0.074\u001b[A\n",
            "pyswarms.discrete.binary:  71%|███████   |71/100, best_cost=0.074\u001b[A\n",
            "pyswarms.discrete.binary:  72%|███████▏  |72/100, best_cost=0.074\u001b[A\n",
            "pyswarms.discrete.binary:  72%|███████▏  |72/100, best_cost=0.074\u001b[A\n",
            "pyswarms.discrete.binary:  73%|███████▎  |73/100, best_cost=0.074\u001b[A\n",
            "pyswarms.discrete.binary:  73%|███████▎  |73/100, best_cost=0.074\u001b[A\n",
            "pyswarms.discrete.binary:  74%|███████▍  |74/100, best_cost=0.074\u001b[A\n",
            "pyswarms.discrete.binary:  74%|███████▍  |74/100, best_cost=0.074\u001b[A\n",
            "pyswarms.discrete.binary:  75%|███████▌  |75/100, best_cost=0.074\u001b[A\n",
            "pyswarms.discrete.binary:  75%|███████▌  |75/100, best_cost=0.074\u001b[A\n",
            "pyswarms.discrete.binary:  76%|███████▌  |76/100, best_cost=0.074\u001b[A\n",
            "pyswarms.discrete.binary:  76%|███████▌  |76/100, best_cost=0.074\u001b[A\n",
            "pyswarms.discrete.binary:  77%|███████▋  |77/100, best_cost=0.074\u001b[A\n",
            "pyswarms.discrete.binary:  77%|███████▋  |77/100, best_cost=0.074\u001b[A\n",
            "pyswarms.discrete.binary:  78%|███████▊  |78/100, best_cost=0.074\u001b[A\n",
            "pyswarms.discrete.binary:  78%|███████▊  |78/100, best_cost=0.074\u001b[A\n",
            "pyswarms.discrete.binary:  79%|███████▉  |79/100, best_cost=0.074\u001b[A\n",
            "pyswarms.discrete.binary:  79%|███████▉  |79/100, best_cost=0.074\u001b[A\n",
            "pyswarms.discrete.binary:  80%|████████  |80/100, best_cost=0.074\u001b[A\n",
            "pyswarms.discrete.binary:  80%|████████  |80/100, best_cost=0.074\u001b[A\n",
            "pyswarms.discrete.binary:  81%|████████  |81/100, best_cost=0.074\u001b[A\n",
            "pyswarms.discrete.binary:  81%|████████  |81/100, best_cost=0.074\u001b[A\n",
            "pyswarms.discrete.binary:  82%|████████▏ |82/100, best_cost=0.074\u001b[A\n",
            "pyswarms.discrete.binary:  82%|████████▏ |82/100, best_cost=0.074\u001b[A\n",
            "pyswarms.discrete.binary:  83%|████████▎ |83/100, best_cost=0.074\u001b[A\n",
            "pyswarms.discrete.binary:  83%|████████▎ |83/100, best_cost=0.074\u001b[A\n",
            "pyswarms.discrete.binary:  84%|████████▍ |84/100, best_cost=0.074\u001b[A\n",
            "pyswarms.discrete.binary:  84%|████████▍ |84/100, best_cost=0.074\u001b[A\n",
            "pyswarms.discrete.binary:  85%|████████▌ |85/100, best_cost=0.074\u001b[A\n",
            "pyswarms.discrete.binary:  85%|████████▌ |85/100, best_cost=0.074\u001b[A\n",
            "pyswarms.discrete.binary:  86%|████████▌ |86/100, best_cost=0.074\u001b[A\n",
            "pyswarms.discrete.binary:  86%|████████▌ |86/100, best_cost=0.074\u001b[A\n",
            "pyswarms.discrete.binary:  87%|████████▋ |87/100, best_cost=0.074\u001b[A\n",
            "pyswarms.discrete.binary:  87%|████████▋ |87/100, best_cost=0.074\u001b[A\n",
            "pyswarms.discrete.binary:  88%|████████▊ |88/100, best_cost=0.074\u001b[A\n",
            "pyswarms.discrete.binary:  88%|████████▊ |88/100, best_cost=0.074\u001b[A\n",
            "pyswarms.discrete.binary:  89%|████████▉ |89/100, best_cost=0.074\u001b[A\n",
            "pyswarms.discrete.binary:  89%|████████▉ |89/100, best_cost=0.074\u001b[A\n",
            "pyswarms.discrete.binary:  90%|█████████ |90/100, best_cost=0.074\u001b[A\n",
            "pyswarms.discrete.binary:  90%|█████████ |90/100, best_cost=0.074\u001b[A\n",
            "pyswarms.discrete.binary:  91%|█████████ |91/100, best_cost=0.074\u001b[A\n",
            "pyswarms.discrete.binary:  91%|█████████ |91/100, best_cost=0.074\u001b[A\n",
            "pyswarms.discrete.binary:  92%|█████████▏|92/100, best_cost=0.074\u001b[A\n",
            "pyswarms.discrete.binary:  92%|█████████▏|92/100, best_cost=0.074\u001b[A\n",
            "pyswarms.discrete.binary:  93%|█████████▎|93/100, best_cost=0.074\u001b[A\n",
            "pyswarms.discrete.binary:  93%|█████████▎|93/100, best_cost=0.074\u001b[A\n",
            "pyswarms.discrete.binary:  94%|█████████▍|94/100, best_cost=0.074\u001b[A\n",
            "pyswarms.discrete.binary:  94%|█████████▍|94/100, best_cost=0.0677\u001b[A\n",
            "pyswarms.discrete.binary:  95%|█████████▌|95/100, best_cost=0.0677\u001b[A\n",
            "pyswarms.discrete.binary:  95%|█████████▌|95/100, best_cost=0.0677\u001b[A\n",
            "pyswarms.discrete.binary:  96%|█████████▌|96/100, best_cost=0.0677\u001b[A\n",
            "pyswarms.discrete.binary:  96%|█████████▌|96/100, best_cost=0.0677\u001b[A\n",
            "pyswarms.discrete.binary:  97%|█████████▋|97/100, best_cost=0.0677\u001b[A\n",
            "pyswarms.discrete.binary:  97%|█████████▋|97/100, best_cost=0.0677\u001b[A\n",
            "pyswarms.discrete.binary:  98%|█████████▊|98/100, best_cost=0.0677\u001b[A\n",
            "pyswarms.discrete.binary:  98%|█████████▊|98/100, best_cost=0.0677\u001b[A\n",
            "pyswarms.discrete.binary:  99%|█████████▉|99/100, best_cost=0.0677\u001b[A\n",
            "pyswarms.discrete.binary:  99%|█████████▉|99/100, best_cost=0.0677\u001b[A\n",
            "pyswarms.discrete.binary: 100%|██████████|100/100, best_cost=0.0677\n",
            "2021-05-14 10:42:15,385 - pyswarms.discrete.binary - INFO - Optimization finished | best cost: 0.06767391304347822, best pos: [1 1 1 1 1 1 1 1 1 1 1 1 1 1 1]\n"
          ],
          "name": "stderr"
        }
      ]
    },
    {
      "cell_type": "code",
      "metadata": {
        "id": "b3dZvXMQTUHw"
      },
      "source": [
        ""
      ],
      "execution_count": null,
      "outputs": []
    },
    {
      "cell_type": "code",
      "metadata": {
        "id": "CMY9VPOuceGc"
      },
      "source": [
        "# cost##with 57 attributes 0.803385"
      ],
      "execution_count": null,
      "outputs": []
    },
    {
      "cell_type": "code",
      "metadata": {
        "colab": {
          "base_uri": "https://localhost:8080/"
        },
        "id": "bMUaqL5PEFkw",
        "outputId": "f9ac1be7-2560-4af6-bc88-7426b526919b"
      },
      "source": [
        "#selected features from the final positions\n",
        "X_selected_features = X[:,pos==1]\n",
        "#perform classification\n",
        "knn_eu.fit(X_selected_features, y)\n",
        "# Compute performance\n",
        "subset_performance = (knn_eu.predict(X_selected_features) == y).mean()\n",
        "\n",
        "print(\"Subset performance/accuracy:\",round((subset_performance),3))"
      ],
      "execution_count": null,
      "outputs": [
        {
          "output_type": "stream",
          "text": [
            "Subset performance/accuracy: 0.923\n"
          ],
          "name": "stdout"
        }
      ]
    },
    {
      "cell_type": "code",
      "metadata": {
        "id": "qCXnQa_vFC2x"
      },
      "source": [
        "y_pred = knn_eu.predict(X_selected_features)\n",
        "cf_matrix = confusion_matrix(y_pred,y)"
      ],
      "execution_count": null,
      "outputs": []
    },
    {
      "cell_type": "code",
      "metadata": {
        "colab": {
          "base_uri": "https://localhost:8080/",
          "height": 245
        },
        "id": "gehlUd9FM3_u",
        "outputId": "556b9dbb-9e4b-45a6-bffe-dd5d77cb1773"
      },
      "source": [
        "print(\"knn(distance=euclidean) with binary-PSO\")\n",
        "\n",
        "plt.figure(figsize = (4,3))\n",
        "sns.heatmap(cf_matrix/np.sum(cf_matrix), annot=True, square=True, fmt='.2%', xticklabels=spam_categories, yticklabels=spam_categories, cmap=\"YlGnBu\")\n",
        "plt.plot()"
      ],
      "execution_count": null,
      "outputs": [
        {
          "output_type": "stream",
          "text": [
            "knn(distance=euclidean) with binary-PSO\n"
          ],
          "name": "stdout"
        },
        {
          "output_type": "execute_result",
          "data": {
            "text/plain": [
              "[]"
            ]
          },
          "metadata": {
            "tags": []
          },
          "execution_count": 294
        },
        {
          "output_type": "display_data",
          "data": {
            "image/png": "[encoded data removed]",
            "text/plain": [
              "<Figure size 288x216 with 2 Axes>"
            ]
          },
          "metadata": {
            "tags": [],
            "needs_background": "light"
          }
        }
      ]
    },
    {
      "cell_type": "markdown",
      "metadata": {
        "id": "gd7xNLgNQayN"
      },
      "source": [
        "### knn with manhattan distance"
      ]
    },
    {
      "cell_type": "code",
      "metadata": {
        "colab": {
          "base_uri": "https://localhost:8080/"
        },
        "id": "6Sh8GPIEQeE-",
        "outputId": "d5e1baa9-76a1-46f5-fe38-27bad0f029cd"
      },
      "source": [
        "classifier = knn_mn\n",
        "optimizer.reset()\n",
        "optimizer = ps.discrete.BinaryPSO(n_particles=30, dimensions=15, options=options)\n",
        "cost, pos = optimizer.optimize(f, iters=100, verbose=1)\n",
        "optimizer.reset()"
      ],
      "execution_count": null,
      "outputs": [
        {
          "output_type": "stream",
          "text": [
            "2021-05-14 10:42:16,649 - pyswarms.discrete.binary - INFO - Optimize for 100 iters with {'c1': 0.5, 'c2': 0.5, 'w': 0.9, 'k': 30, 'p': 2}\n",
            "\n",
            "pyswarms.discrete.binary:   0%|          |0/100\u001b[A\n",
            "pyswarms.discrete.binary:   0%|          |0/100, best_cost=0.102\u001b[A\n",
            "pyswarms.discrete.binary:   1%|          |1/100, best_cost=0.102\u001b[A\n",
            "pyswarms.discrete.binary:   1%|          |1/100, best_cost=0.102\u001b[A\n",
            "pyswarms.discrete.binary:   2%|▏         |2/100, best_cost=0.102\u001b[A\n",
            "pyswarms.discrete.binary:   2%|▏         |2/100, best_cost=0.0966\u001b[A\n",
            "pyswarms.discrete.binary:   3%|▎         |3/100, best_cost=0.0966\u001b[A\n",
            "pyswarms.discrete.binary:   3%|▎         |3/100, best_cost=0.0966\u001b[A\n",
            "pyswarms.discrete.binary:   4%|▍         |4/100, best_cost=0.0966\u001b[A\n",
            "pyswarms.discrete.binary:   4%|▍         |4/100, best_cost=0.0966\u001b[A\n",
            "pyswarms.discrete.binary:   5%|▌         |5/100, best_cost=0.0966\u001b[A\n",
            "pyswarms.discrete.binary:   5%|▌         |5/100, best_cost=0.0906\u001b[A\n",
            "pyswarms.discrete.binary:   6%|▌         |6/100, best_cost=0.0906\u001b[A\n",
            "pyswarms.discrete.binary:   6%|▌         |6/100, best_cost=0.0906\u001b[A\n",
            "pyswarms.discrete.binary:   7%|▋         |7/100, best_cost=0.0906\u001b[A\n",
            "pyswarms.discrete.binary:   7%|▋         |7/100, best_cost=0.0906\u001b[A\n",
            "pyswarms.discrete.binary:   8%|▊         |8/100, best_cost=0.0906\u001b[A\n",
            "pyswarms.discrete.binary:   8%|▊         |8/100, best_cost=0.0906\u001b[A\n",
            "pyswarms.discrete.binary:   9%|▉         |9/100, best_cost=0.0906\u001b[A\n",
            "pyswarms.discrete.binary:   9%|▉         |9/100, best_cost=0.0906\u001b[A\n",
            "pyswarms.discrete.binary:  10%|█         |10/100, best_cost=0.0906\u001b[A\n",
            "pyswarms.discrete.binary:  10%|█         |10/100, best_cost=0.0809\u001b[A\n",
            "pyswarms.discrete.binary:  11%|█         |11/100, best_cost=0.0809\u001b[A\n",
            "pyswarms.discrete.binary:  11%|█         |11/100, best_cost=0.0809\u001b[A\n",
            "pyswarms.discrete.binary:  12%|█▏        |12/100, best_cost=0.0809\u001b[A\n",
            "pyswarms.discrete.binary:  12%|█▏        |12/100, best_cost=0.0809\u001b[A\n",
            "pyswarms.discrete.binary:  13%|█▎        |13/100, best_cost=0.0809\u001b[A\n",
            "pyswarms.discrete.binary:  13%|█▎        |13/100, best_cost=0.0809\u001b[A\n",
            "pyswarms.discrete.binary:  14%|█▍        |14/100, best_cost=0.0809\u001b[A\n",
            "pyswarms.discrete.binary:  14%|█▍        |14/100, best_cost=0.0809\u001b[A\n",
            "pyswarms.discrete.binary:  15%|█▌        |15/100, best_cost=0.0809\u001b[A\n",
            "pyswarms.discrete.binary:  15%|█▌        |15/100, best_cost=0.0809\u001b[A\n",
            "pyswarms.discrete.binary:  16%|█▌        |16/100, best_cost=0.0809\u001b[A\n",
            "pyswarms.discrete.binary:  16%|█▌        |16/100, best_cost=0.0809\u001b[A\n",
            "pyswarms.discrete.binary:  17%|█▋        |17/100, best_cost=0.0809\u001b[A\n",
            "pyswarms.discrete.binary:  17%|█▋        |17/100, best_cost=0.0809\u001b[A\n",
            "pyswarms.discrete.binary:  18%|█▊        |18/100, best_cost=0.0809\u001b[A\n",
            "pyswarms.discrete.binary:  18%|█▊        |18/100, best_cost=0.0809\u001b[A\n",
            "pyswarms.discrete.binary:  19%|█▉        |19/100, best_cost=0.0809\u001b[A\n",
            "pyswarms.discrete.binary:  19%|█▉        |19/100, best_cost=0.0809\u001b[A\n",
            "pyswarms.discrete.binary:  20%|██        |20/100, best_cost=0.0809\u001b[A\n",
            "pyswarms.discrete.binary:  20%|██        |20/100, best_cost=0.0809\u001b[A\n",
            "pyswarms.discrete.binary:  21%|██        |21/100, best_cost=0.0809\u001b[A\n",
            "pyswarms.discrete.binary:  21%|██        |21/100, best_cost=0.0809\u001b[A\n",
            "pyswarms.discrete.binary:  22%|██▏       |22/100, best_cost=0.0809\u001b[A\n",
            "pyswarms.discrete.binary:  22%|██▏       |22/100, best_cost=0.0809\u001b[A\n",
            "pyswarms.discrete.binary:  23%|██▎       |23/100, best_cost=0.0809\u001b[A\n",
            "pyswarms.discrete.binary:  23%|██▎       |23/100, best_cost=0.0809\u001b[A\n",
            "pyswarms.discrete.binary:  24%|██▍       |24/100, best_cost=0.0809\u001b[A\n",
            "pyswarms.discrete.binary:  24%|██▍       |24/100, best_cost=0.0809\u001b[A\n",
            "pyswarms.discrete.binary:  25%|██▌       |25/100, best_cost=0.0809\u001b[A\n",
            "pyswarms.discrete.binary:  25%|██▌       |25/100, best_cost=0.0809\u001b[A\n",
            "pyswarms.discrete.binary:  26%|██▌       |26/100, best_cost=0.0809\u001b[A\n",
            "pyswarms.discrete.binary:  26%|██▌       |26/100, best_cost=0.0809\u001b[A\n",
            "pyswarms.discrete.binary:  27%|██▋       |27/100, best_cost=0.0809\u001b[A\n",
            "pyswarms.discrete.binary:  27%|██▋       |27/100, best_cost=0.0795\u001b[A\n",
            "pyswarms.discrete.binary:  28%|██▊       |28/100, best_cost=0.0795\u001b[A\n",
            "pyswarms.discrete.binary:  28%|██▊       |28/100, best_cost=0.0795\u001b[A\n",
            "pyswarms.discrete.binary:  29%|██▉       |29/100, best_cost=0.0795\u001b[A\n",
            "pyswarms.discrete.binary:  29%|██▉       |29/100, best_cost=0.0795\u001b[A\n",
            "pyswarms.discrete.binary:  30%|███       |30/100, best_cost=0.0795\u001b[A\n",
            "pyswarms.discrete.binary:  30%|███       |30/100, best_cost=0.0733\u001b[A\n",
            "pyswarms.discrete.binary:  31%|███       |31/100, best_cost=0.0733\u001b[A\n",
            "pyswarms.discrete.binary:  31%|███       |31/100, best_cost=0.0733\u001b[A\n",
            "pyswarms.discrete.binary:  32%|███▏      |32/100, best_cost=0.0733\u001b[A\n",
            "pyswarms.discrete.binary:  32%|███▏      |32/100, best_cost=0.0733\u001b[A\n",
            "pyswarms.discrete.binary:  33%|███▎      |33/100, best_cost=0.0733\u001b[A\n",
            "pyswarms.discrete.binary:  33%|███▎      |33/100, best_cost=0.0733\u001b[A\n",
            "pyswarms.discrete.binary:  34%|███▍      |34/100, best_cost=0.0733\u001b[A\n",
            "pyswarms.discrete.binary:  34%|███▍      |34/100, best_cost=0.0733\u001b[A\n",
            "pyswarms.discrete.binary:  35%|███▌      |35/100, best_cost=0.0733\u001b[A\n",
            "pyswarms.discrete.binary:  35%|███▌      |35/100, best_cost=0.0733\u001b[A\n",
            "pyswarms.discrete.binary:  36%|███▌      |36/100, best_cost=0.0733\u001b[A\n",
            "pyswarms.discrete.binary:  36%|███▌      |36/100, best_cost=0.0733\u001b[A\n",
            "pyswarms.discrete.binary:  37%|███▋      |37/100, best_cost=0.0733\u001b[A\n",
            "pyswarms.discrete.binary:  37%|███▋      |37/100, best_cost=0.0697\u001b[A\n",
            "pyswarms.discrete.binary:  38%|███▊      |38/100, best_cost=0.0697\u001b[A\n",
            "pyswarms.discrete.binary:  38%|███▊      |38/100, best_cost=0.0697\u001b[A\n",
            "pyswarms.discrete.binary:  39%|███▉      |39/100, best_cost=0.0697\u001b[A\n",
            "pyswarms.discrete.binary:  39%|███▉      |39/100, best_cost=0.0697\u001b[A\n",
            "pyswarms.discrete.binary:  40%|████      |40/100, best_cost=0.0697\u001b[A\n",
            "pyswarms.discrete.binary:  40%|████      |40/100, best_cost=0.0697\u001b[A\n",
            "pyswarms.discrete.binary:  41%|████      |41/100, best_cost=0.0697\u001b[A\n",
            "pyswarms.discrete.binary:  41%|████      |41/100, best_cost=0.0697\u001b[A\n",
            "pyswarms.discrete.binary:  42%|████▏     |42/100, best_cost=0.0697\u001b[A\n",
            "pyswarms.discrete.binary:  42%|████▏     |42/100, best_cost=0.0697\u001b[A\n",
            "pyswarms.discrete.binary:  43%|████▎     |43/100, best_cost=0.0697\u001b[A\n",
            "pyswarms.discrete.binary:  43%|████▎     |43/100, best_cost=0.0697\u001b[A\n",
            "pyswarms.discrete.binary:  44%|████▍     |44/100, best_cost=0.0697\u001b[A\n",
            "pyswarms.discrete.binary:  44%|████▍     |44/100, best_cost=0.0697\u001b[A\n",
            "pyswarms.discrete.binary:  45%|████▌     |45/100, best_cost=0.0697\u001b[A\n",
            "pyswarms.discrete.binary:  45%|████▌     |45/100, best_cost=0.0697\u001b[A\n",
            "pyswarms.discrete.binary:  46%|████▌     |46/100, best_cost=0.0697\u001b[A\n",
            "pyswarms.discrete.binary:  46%|████▌     |46/100, best_cost=0.0697\u001b[A\n",
            "pyswarms.discrete.binary:  47%|████▋     |47/100, best_cost=0.0697\u001b[A\n",
            "pyswarms.discrete.binary:  47%|████▋     |47/100, best_cost=0.0697\u001b[A\n",
            "pyswarms.discrete.binary:  48%|████▊     |48/100, best_cost=0.0697\u001b[A\n",
            "pyswarms.discrete.binary:  48%|████▊     |48/100, best_cost=0.0697\u001b[A\n",
            "pyswarms.discrete.binary:  49%|████▉     |49/100, best_cost=0.0697\u001b[A\n",
            "pyswarms.discrete.binary:  49%|████▉     |49/100, best_cost=0.0697\u001b[A\n",
            "pyswarms.discrete.binary:  50%|█████     |50/100, best_cost=0.0697\u001b[A\n",
            "pyswarms.discrete.binary:  50%|█████     |50/100, best_cost=0.0697\u001b[A\n",
            "pyswarms.discrete.binary:  51%|█████     |51/100, best_cost=0.0697\u001b[A\n",
            "pyswarms.discrete.binary:  51%|█████     |51/100, best_cost=0.0697\u001b[A\n",
            "pyswarms.discrete.binary:  52%|█████▏    |52/100, best_cost=0.0697\u001b[A\n",
            "pyswarms.discrete.binary:  52%|█████▏    |52/100, best_cost=0.0697\u001b[A\n",
            "pyswarms.discrete.binary:  53%|█████▎    |53/100, best_cost=0.0697\u001b[A\n",
            "pyswarms.discrete.binary:  53%|█████▎    |53/100, best_cost=0.0697\u001b[A\n",
            "pyswarms.discrete.binary:  54%|█████▍    |54/100, best_cost=0.0697\u001b[A\n",
            "pyswarms.discrete.binary:  54%|█████▍    |54/100, best_cost=0.0697\u001b[A\n",
            "pyswarms.discrete.binary:  55%|█████▌    |55/100, best_cost=0.0697\u001b[A\n",
            "pyswarms.discrete.binary:  55%|█████▌    |55/100, best_cost=0.0697\u001b[A\n",
            "pyswarms.discrete.binary:  56%|█████▌    |56/100, best_cost=0.0697\u001b[A\n",
            "pyswarms.discrete.binary:  56%|█████▌    |56/100, best_cost=0.0697\u001b[A\n",
            "pyswarms.discrete.binary:  57%|█████▋    |57/100, best_cost=0.0697\u001b[A\n",
            "pyswarms.discrete.binary:  57%|█████▋    |57/100, best_cost=0.0697\u001b[A\n",
            "pyswarms.discrete.binary:  58%|█████▊    |58/100, best_cost=0.0697\u001b[A\n",
            "pyswarms.discrete.binary:  58%|█████▊    |58/100, best_cost=0.0697\u001b[A\n",
            "pyswarms.discrete.binary:  59%|█████▉    |59/100, best_cost=0.0697\u001b[A\n",
            "pyswarms.discrete.binary:  59%|█████▉    |59/100, best_cost=0.0697\u001b[A\n",
            "pyswarms.discrete.binary:  60%|██████    |60/100, best_cost=0.0697\u001b[A\n",
            "pyswarms.discrete.binary:  60%|██████    |60/100, best_cost=0.0697\u001b[A\n",
            "pyswarms.discrete.binary:  61%|██████    |61/100, best_cost=0.0697\u001b[A\n",
            "pyswarms.discrete.binary:  61%|██████    |61/100, best_cost=0.0697\u001b[A\n",
            "pyswarms.discrete.binary:  62%|██████▏   |62/100, best_cost=0.0697\u001b[A\n",
            "pyswarms.discrete.binary:  62%|██████▏   |62/100, best_cost=0.0697\u001b[A\n",
            "pyswarms.discrete.binary:  63%|██████▎   |63/100, best_cost=0.0697\u001b[A\n",
            "pyswarms.discrete.binary:  63%|██████▎   |63/100, best_cost=0.0697\u001b[A\n",
            "pyswarms.discrete.binary:  64%|██████▍   |64/100, best_cost=0.0697\u001b[A\n",
            "pyswarms.discrete.binary:  64%|██████▍   |64/100, best_cost=0.0697\u001b[A\n",
            "pyswarms.discrete.binary:  65%|██████▌   |65/100, best_cost=0.0697\u001b[A\n",
            "pyswarms.discrete.binary:  65%|██████▌   |65/100, best_cost=0.0697\u001b[A\n",
            "pyswarms.discrete.binary:  66%|██████▌   |66/100, best_cost=0.0697\u001b[A\n",
            "pyswarms.discrete.binary:  66%|██████▌   |66/100, best_cost=0.0697\u001b[A\n",
            "pyswarms.discrete.binary:  67%|██████▋   |67/100, best_cost=0.0697\u001b[A\n",
            "pyswarms.discrete.binary:  67%|██████▋   |67/100, best_cost=0.0697\u001b[A\n",
            "pyswarms.discrete.binary:  68%|██████▊   |68/100, best_cost=0.0697\u001b[A\n",
            "pyswarms.discrete.binary:  68%|██████▊   |68/100, best_cost=0.0697\u001b[A\n",
            "pyswarms.discrete.binary:  69%|██████▉   |69/100, best_cost=0.0697\u001b[A\n",
            "pyswarms.discrete.binary:  69%|██████▉   |69/100, best_cost=0.0697\u001b[A\n",
            "pyswarms.discrete.binary:  70%|███████   |70/100, best_cost=0.0697\u001b[A\n",
            "pyswarms.discrete.binary:  70%|███████   |70/100, best_cost=0.0697\u001b[A\n",
            "pyswarms.discrete.binary:  71%|███████   |71/100, best_cost=0.0697\u001b[A\n",
            "pyswarms.discrete.binary:  71%|███████   |71/100, best_cost=0.0697\u001b[A\n",
            "pyswarms.discrete.binary:  72%|███████▏  |72/100, best_cost=0.0697\u001b[A\n",
            "pyswarms.discrete.binary:  72%|███████▏  |72/100, best_cost=0.0697\u001b[A\n",
            "pyswarms.discrete.binary:  73%|███████▎  |73/100, best_cost=0.0697\u001b[A\n",
            "pyswarms.discrete.binary:  73%|███████▎  |73/100, best_cost=0.0697\u001b[A\n",
            "pyswarms.discrete.binary:  74%|███████▍  |74/100, best_cost=0.0697\u001b[A\n",
            "pyswarms.discrete.binary:  74%|███████▍  |74/100, best_cost=0.0697\u001b[A\n",
            "pyswarms.discrete.binary:  75%|███████▌  |75/100, best_cost=0.0697\u001b[A\n",
            "pyswarms.discrete.binary:  75%|███████▌  |75/100, best_cost=0.0697\u001b[A\n",
            "pyswarms.discrete.binary:  76%|███████▌  |76/100, best_cost=0.0697\u001b[A\n",
            "pyswarms.discrete.binary:  76%|███████▌  |76/100, best_cost=0.0697\u001b[A\n",
            "pyswarms.discrete.binary:  77%|███████▋  |77/100, best_cost=0.0697\u001b[A\n",
            "pyswarms.discrete.binary:  77%|███████▋  |77/100, best_cost=0.0697\u001b[A\n",
            "pyswarms.discrete.binary:  78%|███████▊  |78/100, best_cost=0.0697\u001b[A\n",
            "pyswarms.discrete.binary:  78%|███████▊  |78/100, best_cost=0.0697\u001b[A\n",
            "pyswarms.discrete.binary:  79%|███████▉  |79/100, best_cost=0.0697\u001b[A\n",
            "pyswarms.discrete.binary:  79%|███████▉  |79/100, best_cost=0.0697\u001b[A\n",
            "pyswarms.discrete.binary:  80%|████████  |80/100, best_cost=0.0697\u001b[A\n",
            "pyswarms.discrete.binary:  80%|████████  |80/100, best_cost=0.0697\u001b[A\n",
            "pyswarms.discrete.binary:  81%|████████  |81/100, best_cost=0.0697\u001b[A\n",
            "pyswarms.discrete.binary:  81%|████████  |81/100, best_cost=0.0697\u001b[A\n",
            "pyswarms.discrete.binary:  82%|████████▏ |82/100, best_cost=0.0697\u001b[A\n",
            "pyswarms.discrete.binary:  82%|████████▏ |82/100, best_cost=0.0697\u001b[A\n",
            "pyswarms.discrete.binary:  83%|████████▎ |83/100, best_cost=0.0697\u001b[A\n",
            "pyswarms.discrete.binary:  83%|████████▎ |83/100, best_cost=0.0697\u001b[A\n",
            "pyswarms.discrete.binary:  84%|████████▍ |84/100, best_cost=0.0697\u001b[A\n",
            "pyswarms.discrete.binary:  84%|████████▍ |84/100, best_cost=0.0697\u001b[A\n",
            "pyswarms.discrete.binary:  85%|████████▌ |85/100, best_cost=0.0697\u001b[A\n",
            "pyswarms.discrete.binary:  85%|████████▌ |85/100, best_cost=0.0697\u001b[A\n",
            "pyswarms.discrete.binary:  86%|████████▌ |86/100, best_cost=0.0697\u001b[A\n",
            "pyswarms.discrete.binary:  86%|████████▌ |86/100, best_cost=0.0697\u001b[A\n",
            "pyswarms.discrete.binary:  87%|████████▋ |87/100, best_cost=0.0697\u001b[A\n",
            "pyswarms.discrete.binary:  87%|████████▋ |87/100, best_cost=0.0697\u001b[A\n",
            "pyswarms.discrete.binary:  88%|████████▊ |88/100, best_cost=0.0697\u001b[A\n",
            "pyswarms.discrete.binary:  88%|████████▊ |88/100, best_cost=0.0697\u001b[A\n",
            "pyswarms.discrete.binary:  89%|████████▉ |89/100, best_cost=0.0697\u001b[A\n",
            "pyswarms.discrete.binary:  89%|████████▉ |89/100, best_cost=0.0697\u001b[A\n",
            "pyswarms.discrete.binary:  90%|█████████ |90/100, best_cost=0.0697\u001b[A\n",
            "pyswarms.discrete.binary:  90%|█████████ |90/100, best_cost=0.0697\u001b[A\n",
            "pyswarms.discrete.binary:  91%|█████████ |91/100, best_cost=0.0697\u001b[A\n",
            "pyswarms.discrete.binary:  91%|█████████ |91/100, best_cost=0.0697\u001b[A\n",
            "pyswarms.discrete.binary:  92%|█████████▏|92/100, best_cost=0.0697\u001b[A\n",
            "pyswarms.discrete.binary:  92%|█████████▏|92/100, best_cost=0.0697\u001b[A\n",
            "pyswarms.discrete.binary:  93%|█████████▎|93/100, best_cost=0.0697\u001b[A\n",
            "pyswarms.discrete.binary:  93%|█████████▎|93/100, best_cost=0.0697\u001b[A\n",
            "pyswarms.discrete.binary:  94%|█████████▍|94/100, best_cost=0.0697\u001b[A\n",
            "pyswarms.discrete.binary:  94%|█████████▍|94/100, best_cost=0.0697\u001b[A\n",
            "pyswarms.discrete.binary:  95%|█████████▌|95/100, best_cost=0.0697\u001b[A\n",
            "pyswarms.discrete.binary:  95%|█████████▌|95/100, best_cost=0.0697\u001b[A\n",
            "pyswarms.discrete.binary:  96%|█████████▌|96/100, best_cost=0.0697\u001b[A\n",
            "pyswarms.discrete.binary:  96%|█████████▌|96/100, best_cost=0.0697\u001b[A\n",
            "pyswarms.discrete.binary:  97%|█████████▋|97/100, best_cost=0.0697\u001b[A\n",
            "pyswarms.discrete.binary:  97%|█████████▋|97/100, best_cost=0.0697\u001b[A\n",
            "pyswarms.discrete.binary:  98%|█████████▊|98/100, best_cost=0.0697\u001b[A\n",
            "pyswarms.discrete.binary:  98%|█████████▊|98/100, best_cost=0.0697\u001b[A\n",
            "pyswarms.discrete.binary:  99%|█████████▉|99/100, best_cost=0.0697\u001b[A\n",
            "pyswarms.discrete.binary:  99%|█████████▉|99/100, best_cost=0.0697\u001b[A\n",
            "pyswarms.discrete.binary: 100%|██████████|100/100, best_cost=0.0697\n",
            "2021-05-14 10:56:53,309 - pyswarms.discrete.binary - INFO - Optimization finished | best cost: 0.06969565217391305, best pos: [1 1 0 1 1 1 1 1 1 1 1 1 1 1 1]\n"
          ],
          "name": "stderr"
        }
      ]
    },
    {
      "cell_type": "code",
      "metadata": {
        "colab": {
          "base_uri": "https://localhost:8080/"
        },
        "id": "TWQNvAFQRRXC",
        "outputId": "07b6f60e-2305-46ed-91cb-0b3dac132870"
      },
      "source": [
        "#selected features from the final positions\n",
        "X_selected_features = X[:,pos==1]\n",
        "#perform classification\n",
        "knn_mn.fit(X_selected_features, y)\n",
        "# Compute performance\n",
        "subset_performance = (knn_mn.predict(X_selected_features) == y).mean()\n",
        "\n",
        "print(\"Subset performance/accuracy:\", round((subset_performance),3))"
      ],
      "execution_count": null,
      "outputs": [
        {
          "output_type": "stream",
          "text": [
            "Subset performance/accuracy: 0.93\n"
          ],
          "name": "stdout"
        }
      ]
    },
    {
      "cell_type": "code",
      "metadata": {
        "id": "o1jbCyXNU0yf"
      },
      "source": [
        "y_pred = knn_mn.predict(X_selected_features)\n",
        "cf_matrix = confusion_matrix(y_pred,y)"
      ],
      "execution_count": null,
      "outputs": []
    },
    {
      "cell_type": "code",
      "metadata": {
        "colab": {
          "base_uri": "https://localhost:8080/",
          "height": 245
        },
        "id": "ndPuDJmRW5Xb",
        "outputId": "77e86d48-5153-4fab-b217-847518a3526b"
      },
      "source": [
        "print(\"knn(distance=manhattan) with binary-PSO\")\n",
        "\n",
        "plt.figure(figsize = (4,3))\n",
        "sns.heatmap(cf_matrix/np.sum(cf_matrix), annot=True, square=True, fmt='.2%', xticklabels=spam_categories, yticklabels=spam_categories, cmap=\"YlGnBu\")\n",
        "plt.plot()"
      ],
      "execution_count": null,
      "outputs": [
        {
          "output_type": "stream",
          "text": [
            "knn(distance=manhattan) with binary-PSO\n"
          ],
          "name": "stdout"
        },
        {
          "output_type": "execute_result",
          "data": {
            "text/plain": [
              "[]"
            ]
          },
          "metadata": {
            "tags": []
          },
          "execution_count": 298
        },
        {
          "output_type": "display_data",
          "data": {
            "image/png": "[encoded data removed]",
            "text/plain": [
              "<Figure size 288x216 with 2 Axes>"
            ]
          },
          "metadata": {
            "tags": [],
            "needs_background": "light"
          }
        }
      ]
    },
    {
      "cell_type": "markdown",
      "metadata": {
        "id": "qk4I6EsdSCf_"
      },
      "source": [
        "### knn with chebyshev distance"
      ]
    },
    {
      "cell_type": "code",
      "metadata": {
        "colab": {
          "base_uri": "https://localhost:8080/"
        },
        "id": "cJTmamjFSWpd",
        "outputId": "a1ca6abe-cef7-4b37-a220-45647111c26e"
      },
      "source": [
        "#binary pso parameters\n",
        "classifier = knn_ch\n",
        "optimizer.reset()\n",
        "optimizer = ps.discrete.BinaryPSO(n_particles=30, dimensions=15, options=options)\n",
        "cost, pos = optimizer.optimize(f, iters=100, verbose=1)\n",
        "optimizer.reset()"
      ],
      "execution_count": null,
      "outputs": [
        {
          "output_type": "stream",
          "text": [
            "2021-05-14 10:56:54,396 - pyswarms.discrete.binary - INFO - Optimize for 100 iters with {'c1': 0.5, 'c2': 0.5, 'w': 0.9, 'k': 30, 'p': 2}\n",
            "\n",
            "pyswarms.discrete.binary:   0%|          |0/100\u001b[A\n",
            "pyswarms.discrete.binary:   0%|          |0/100, best_cost=0.104\u001b[A\n",
            "pyswarms.discrete.binary:   1%|          |1/100, best_cost=0.104\u001b[A\n",
            "pyswarms.discrete.binary:   1%|          |1/100, best_cost=0.104\u001b[A\n",
            "pyswarms.discrete.binary:   2%|▏         |2/100, best_cost=0.104\u001b[A\n",
            "pyswarms.discrete.binary:   2%|▏         |2/100, best_cost=0.102\u001b[A\n",
            "pyswarms.discrete.binary:   3%|▎         |3/100, best_cost=0.102\u001b[A\n",
            "pyswarms.discrete.binary:   3%|▎         |3/100, best_cost=0.102\u001b[A\n",
            "pyswarms.discrete.binary:   4%|▍         |4/100, best_cost=0.102\u001b[A\n",
            "pyswarms.discrete.binary:   4%|▍         |4/100, best_cost=0.0916\u001b[A\n",
            "pyswarms.discrete.binary:   5%|▌         |5/100, best_cost=0.0916\u001b[A\n",
            "pyswarms.discrete.binary:   5%|▌         |5/100, best_cost=0.0916\u001b[A\n",
            "pyswarms.discrete.binary:   6%|▌         |6/100, best_cost=0.0916\u001b[A\n",
            "pyswarms.discrete.binary:   6%|▌         |6/100, best_cost=0.0916\u001b[A\n",
            "pyswarms.discrete.binary:   7%|▋         |7/100, best_cost=0.0916\u001b[A\n",
            "pyswarms.discrete.binary:   7%|▋         |7/100, best_cost=0.0916\u001b[A\n",
            "pyswarms.discrete.binary:   8%|▊         |8/100, best_cost=0.0916\u001b[A\n",
            "pyswarms.discrete.binary:   8%|▊         |8/100, best_cost=0.0916\u001b[A\n",
            "pyswarms.discrete.binary:   9%|▉         |9/100, best_cost=0.0916\u001b[A\n",
            "pyswarms.discrete.binary:   9%|▉         |9/100, best_cost=0.0916\u001b[A\n",
            "pyswarms.discrete.binary:  10%|█         |10/100, best_cost=0.0916\u001b[A\n",
            "pyswarms.discrete.binary:  10%|█         |10/100, best_cost=0.0916\u001b[A\n",
            "pyswarms.discrete.binary:  11%|█         |11/100, best_cost=0.0916\u001b[A\n",
            "pyswarms.discrete.binary:  11%|█         |11/100, best_cost=0.0916\u001b[A\n",
            "pyswarms.discrete.binary:  12%|█▏        |12/100, best_cost=0.0916\u001b[A\n",
            "pyswarms.discrete.binary:  12%|█▏        |12/100, best_cost=0.0845\u001b[A\n",
            "pyswarms.discrete.binary:  13%|█▎        |13/100, best_cost=0.0845\u001b[A\n",
            "pyswarms.discrete.binary:  13%|█▎        |13/100, best_cost=0.0845\u001b[A\n",
            "pyswarms.discrete.binary:  14%|█▍        |14/100, best_cost=0.0845\u001b[A\n",
            "pyswarms.discrete.binary:  14%|█▍        |14/100, best_cost=0.0845\u001b[A\n",
            "pyswarms.discrete.binary:  15%|█▌        |15/100, best_cost=0.0845\u001b[A\n",
            "pyswarms.discrete.binary:  15%|█▌        |15/100, best_cost=0.0845\u001b[A\n",
            "pyswarms.discrete.binary:  16%|█▌        |16/100, best_cost=0.0845\u001b[A\n",
            "pyswarms.discrete.binary:  16%|█▌        |16/100, best_cost=0.0837\u001b[A\n",
            "pyswarms.discrete.binary:  17%|█▋        |17/100, best_cost=0.0837\u001b[A\n",
            "pyswarms.discrete.binary:  17%|█▋        |17/100, best_cost=0.0837\u001b[A\n",
            "pyswarms.discrete.binary:  18%|█▊        |18/100, best_cost=0.0837\u001b[A\n",
            "pyswarms.discrete.binary:  18%|█▊        |18/100, best_cost=0.0837\u001b[A\n",
            "pyswarms.discrete.binary:  19%|█▉        |19/100, best_cost=0.0837\u001b[A\n",
            "pyswarms.discrete.binary:  19%|█▉        |19/100, best_cost=0.0837\u001b[A\n",
            "pyswarms.discrete.binary:  20%|██        |20/100, best_cost=0.0837\u001b[A\n",
            "pyswarms.discrete.binary:  20%|██        |20/100, best_cost=0.0837\u001b[A\n",
            "pyswarms.discrete.binary:  21%|██        |21/100, best_cost=0.0837\u001b[A\n",
            "pyswarms.discrete.binary:  21%|██        |21/100, best_cost=0.0766\u001b[A\n",
            "pyswarms.discrete.binary:  22%|██▏       |22/100, best_cost=0.0766\u001b[A\n",
            "pyswarms.discrete.binary:  22%|██▏       |22/100, best_cost=0.0766\u001b[A\n",
            "pyswarms.discrete.binary:  23%|██▎       |23/100, best_cost=0.0766\u001b[A\n",
            "pyswarms.discrete.binary:  23%|██▎       |23/100, best_cost=0.0766\u001b[A\n",
            "pyswarms.discrete.binary:  24%|██▍       |24/100, best_cost=0.0766\u001b[A\n",
            "pyswarms.discrete.binary:  24%|██▍       |24/100, best_cost=0.0766\u001b[A\n",
            "pyswarms.discrete.binary:  25%|██▌       |25/100, best_cost=0.0766\u001b[A\n",
            "pyswarms.discrete.binary:  25%|██▌       |25/100, best_cost=0.075 \u001b[A\n",
            "pyswarms.discrete.binary:  26%|██▌       |26/100, best_cost=0.075\u001b[A\n",
            "pyswarms.discrete.binary:  26%|██▌       |26/100, best_cost=0.075\u001b[A\n",
            "pyswarms.discrete.binary:  27%|██▋       |27/100, best_cost=0.075\u001b[A\n",
            "pyswarms.discrete.binary:  27%|██▋       |27/100, best_cost=0.075\u001b[A\n",
            "pyswarms.discrete.binary:  28%|██▊       |28/100, best_cost=0.075\u001b[A\n",
            "pyswarms.discrete.binary:  28%|██▊       |28/100, best_cost=0.075\u001b[A\n",
            "pyswarms.discrete.binary:  29%|██▉       |29/100, best_cost=0.075\u001b[A\n",
            "pyswarms.discrete.binary:  29%|██▉       |29/100, best_cost=0.075\u001b[A\n",
            "pyswarms.discrete.binary:  30%|███       |30/100, best_cost=0.075\u001b[A\n",
            "pyswarms.discrete.binary:  30%|███       |30/100, best_cost=0.075\u001b[A\n",
            "pyswarms.discrete.binary:  31%|███       |31/100, best_cost=0.075\u001b[A\n",
            "pyswarms.discrete.binary:  31%|███       |31/100, best_cost=0.075\u001b[A\n",
            "pyswarms.discrete.binary:  32%|███▏      |32/100, best_cost=0.075\u001b[A\n",
            "pyswarms.discrete.binary:  32%|███▏      |32/100, best_cost=0.075\u001b[A\n",
            "pyswarms.discrete.binary:  33%|███▎      |33/100, best_cost=0.075\u001b[A\n",
            "pyswarms.discrete.binary:  33%|███▎      |33/100, best_cost=0.075\u001b[A\n",
            "pyswarms.discrete.binary:  34%|███▍      |34/100, best_cost=0.075\u001b[A\n",
            "pyswarms.discrete.binary:  34%|███▍      |34/100, best_cost=0.075\u001b[A\n",
            "pyswarms.discrete.binary:  35%|███▌      |35/100, best_cost=0.075\u001b[A\n",
            "pyswarms.discrete.binary:  35%|███▌      |35/100, best_cost=0.075\u001b[A\n",
            "pyswarms.discrete.binary:  36%|███▌      |36/100, best_cost=0.075\u001b[A\n",
            "pyswarms.discrete.binary:  36%|███▌      |36/100, best_cost=0.075\u001b[A\n",
            "pyswarms.discrete.binary:  37%|███▋      |37/100, best_cost=0.075\u001b[A\n",
            "pyswarms.discrete.binary:  37%|███▋      |37/100, best_cost=0.075\u001b[A\n",
            "pyswarms.discrete.binary:  38%|███▊      |38/100, best_cost=0.075\u001b[A\n",
            "pyswarms.discrete.binary:  38%|███▊      |38/100, best_cost=0.075\u001b[A\n",
            "pyswarms.discrete.binary:  39%|███▉      |39/100, best_cost=0.075\u001b[A\n",
            "pyswarms.discrete.binary:  39%|███▉      |39/100, best_cost=0.075\u001b[A\n",
            "pyswarms.discrete.binary:  40%|████      |40/100, best_cost=0.075\u001b[A\n",
            "pyswarms.discrete.binary:  40%|████      |40/100, best_cost=0.075\u001b[A\n",
            "pyswarms.discrete.binary:  41%|████      |41/100, best_cost=0.075\u001b[A\n",
            "pyswarms.discrete.binary:  41%|████      |41/100, best_cost=0.075\u001b[A\n",
            "pyswarms.discrete.binary:  42%|████▏     |42/100, best_cost=0.075\u001b[A\n",
            "pyswarms.discrete.binary:  42%|████▏     |42/100, best_cost=0.075\u001b[A\n",
            "pyswarms.discrete.binary:  43%|████▎     |43/100, best_cost=0.075\u001b[A\n",
            "pyswarms.discrete.binary:  43%|████▎     |43/100, best_cost=0.075\u001b[A\n",
            "pyswarms.discrete.binary:  44%|████▍     |44/100, best_cost=0.075\u001b[A\n",
            "pyswarms.discrete.binary:  44%|████▍     |44/100, best_cost=0.075\u001b[A\n",
            "pyswarms.discrete.binary:  45%|████▌     |45/100, best_cost=0.075\u001b[A\n",
            "pyswarms.discrete.binary:  45%|████▌     |45/100, best_cost=0.075\u001b[A\n",
            "pyswarms.discrete.binary:  46%|████▌     |46/100, best_cost=0.075\u001b[A\n",
            "pyswarms.discrete.binary:  46%|████▌     |46/100, best_cost=0.075\u001b[A\n",
            "pyswarms.discrete.binary:  47%|████▋     |47/100, best_cost=0.075\u001b[A\n",
            "pyswarms.discrete.binary:  47%|████▋     |47/100, best_cost=0.075\u001b[A\n",
            "pyswarms.discrete.binary:  48%|████▊     |48/100, best_cost=0.075\u001b[A\n",
            "pyswarms.discrete.binary:  48%|████▊     |48/100, best_cost=0.075\u001b[A\n",
            "pyswarms.discrete.binary:  49%|████▉     |49/100, best_cost=0.075\u001b[A\n",
            "pyswarms.discrete.binary:  49%|████▉     |49/100, best_cost=0.075\u001b[A\n",
            "pyswarms.discrete.binary:  50%|█████     |50/100, best_cost=0.075\u001b[A\n",
            "pyswarms.discrete.binary:  50%|█████     |50/100, best_cost=0.075\u001b[A\n",
            "pyswarms.discrete.binary:  51%|█████     |51/100, best_cost=0.075\u001b[A\n",
            "pyswarms.discrete.binary:  51%|█████     |51/100, best_cost=0.075\u001b[A\n",
            "pyswarms.discrete.binary:  52%|█████▏    |52/100, best_cost=0.075\u001b[A\n",
            "pyswarms.discrete.binary:  52%|█████▏    |52/100, best_cost=0.075\u001b[A\n",
            "pyswarms.discrete.binary:  53%|█████▎    |53/100, best_cost=0.075\u001b[A\n",
            "pyswarms.discrete.binary:  53%|█████▎    |53/100, best_cost=0.075\u001b[A\n",
            "pyswarms.discrete.binary:  54%|█████▍    |54/100, best_cost=0.075\u001b[A\n",
            "pyswarms.discrete.binary:  54%|█████▍    |54/100, best_cost=0.075\u001b[A\n",
            "pyswarms.discrete.binary:  55%|█████▌    |55/100, best_cost=0.075\u001b[A\n",
            "pyswarms.discrete.binary:  55%|█████▌    |55/100, best_cost=0.075\u001b[A\n",
            "pyswarms.discrete.binary:  56%|█████▌    |56/100, best_cost=0.075\u001b[A\n",
            "pyswarms.discrete.binary:  56%|█████▌    |56/100, best_cost=0.075\u001b[A\n",
            "pyswarms.discrete.binary:  57%|█████▋    |57/100, best_cost=0.075\u001b[A\n",
            "pyswarms.discrete.binary:  57%|█████▋    |57/100, best_cost=0.075\u001b[A\n",
            "pyswarms.discrete.binary:  58%|█████▊    |58/100, best_cost=0.075\u001b[A\n",
            "pyswarms.discrete.binary:  58%|█████▊    |58/100, best_cost=0.075\u001b[A\n",
            "pyswarms.discrete.binary:  59%|█████▉    |59/100, best_cost=0.075\u001b[A\n",
            "pyswarms.discrete.binary:  59%|█████▉    |59/100, best_cost=0.075\u001b[A\n",
            "pyswarms.discrete.binary:  60%|██████    |60/100, best_cost=0.075\u001b[A\n",
            "pyswarms.discrete.binary:  60%|██████    |60/100, best_cost=0.075\u001b[A\n",
            "pyswarms.discrete.binary:  61%|██████    |61/100, best_cost=0.075\u001b[A\n",
            "pyswarms.discrete.binary:  61%|██████    |61/100, best_cost=0.075\u001b[A\n",
            "pyswarms.discrete.binary:  62%|██████▏   |62/100, best_cost=0.075\u001b[A\n",
            "pyswarms.discrete.binary:  62%|██████▏   |62/100, best_cost=0.075\u001b[A\n",
            "pyswarms.discrete.binary:  63%|██████▎   |63/100, best_cost=0.075\u001b[A\n",
            "pyswarms.discrete.binary:  63%|██████▎   |63/100, best_cost=0.075\u001b[A\n",
            "pyswarms.discrete.binary:  64%|██████▍   |64/100, best_cost=0.075\u001b[A\n",
            "pyswarms.discrete.binary:  64%|██████▍   |64/100, best_cost=0.075\u001b[A\n",
            "pyswarms.discrete.binary:  65%|██████▌   |65/100, best_cost=0.075\u001b[A\n",
            "pyswarms.discrete.binary:  65%|██████▌   |65/100, best_cost=0.075\u001b[A\n",
            "pyswarms.discrete.binary:  66%|██████▌   |66/100, best_cost=0.075\u001b[A\n",
            "pyswarms.discrete.binary:  66%|██████▌   |66/100, best_cost=0.075\u001b[A\n",
            "pyswarms.discrete.binary:  67%|██████▋   |67/100, best_cost=0.075\u001b[A\n",
            "pyswarms.discrete.binary:  67%|██████▋   |67/100, best_cost=0.075\u001b[A\n",
            "pyswarms.discrete.binary:  68%|██████▊   |68/100, best_cost=0.075\u001b[A\n",
            "pyswarms.discrete.binary:  68%|██████▊   |68/100, best_cost=0.075\u001b[A\n",
            "pyswarms.discrete.binary:  69%|██████▉   |69/100, best_cost=0.075\u001b[A\n",
            "pyswarms.discrete.binary:  69%|██████▉   |69/100, best_cost=0.075\u001b[A\n",
            "pyswarms.discrete.binary:  70%|███████   |70/100, best_cost=0.075\u001b[A\n",
            "pyswarms.discrete.binary:  70%|███████   |70/100, best_cost=0.075\u001b[A\n",
            "pyswarms.discrete.binary:  71%|███████   |71/100, best_cost=0.075\u001b[A\n",
            "pyswarms.discrete.binary:  71%|███████   |71/100, best_cost=0.075\u001b[A\n",
            "pyswarms.discrete.binary:  72%|███████▏  |72/100, best_cost=0.075\u001b[A\n",
            "pyswarms.discrete.binary:  72%|███████▏  |72/100, best_cost=0.075\u001b[A\n",
            "pyswarms.discrete.binary:  73%|███████▎  |73/100, best_cost=0.075\u001b[A\n",
            "pyswarms.discrete.binary:  73%|███████▎  |73/100, best_cost=0.075\u001b[A\n",
            "pyswarms.discrete.binary:  74%|███████▍  |74/100, best_cost=0.075\u001b[A\n",
            "pyswarms.discrete.binary:  74%|███████▍  |74/100, best_cost=0.075\u001b[A\n",
            "pyswarms.discrete.binary:  75%|███████▌  |75/100, best_cost=0.075\u001b[A\n",
            "pyswarms.discrete.binary:  75%|███████▌  |75/100, best_cost=0.075\u001b[A\n",
            "pyswarms.discrete.binary:  76%|███████▌  |76/100, best_cost=0.075\u001b[A\n",
            "pyswarms.discrete.binary:  76%|███████▌  |76/100, best_cost=0.075\u001b[A\n",
            "pyswarms.discrete.binary:  77%|███████▋  |77/100, best_cost=0.075\u001b[A\n",
            "pyswarms.discrete.binary:  77%|███████▋  |77/100, best_cost=0.075\u001b[A\n",
            "pyswarms.discrete.binary:  78%|███████▊  |78/100, best_cost=0.075\u001b[A\n",
            "pyswarms.discrete.binary:  78%|███████▊  |78/100, best_cost=0.075\u001b[A\n",
            "pyswarms.discrete.binary:  79%|███████▉  |79/100, best_cost=0.075\u001b[A\n",
            "pyswarms.discrete.binary:  79%|███████▉  |79/100, best_cost=0.075\u001b[A\n",
            "pyswarms.discrete.binary:  80%|████████  |80/100, best_cost=0.075\u001b[A\n",
            "pyswarms.discrete.binary:  80%|████████  |80/100, best_cost=0.075\u001b[A\n",
            "pyswarms.discrete.binary:  81%|████████  |81/100, best_cost=0.075\u001b[A\n",
            "pyswarms.discrete.binary:  81%|████████  |81/100, best_cost=0.075\u001b[A\n",
            "pyswarms.discrete.binary:  82%|████████▏ |82/100, best_cost=0.075\u001b[A\n",
            "pyswarms.discrete.binary:  82%|████████▏ |82/100, best_cost=0.075\u001b[A\n",
            "pyswarms.discrete.binary:  83%|████████▎ |83/100, best_cost=0.075\u001b[A\n",
            "pyswarms.discrete.binary:  83%|████████▎ |83/100, best_cost=0.075\u001b[A\n",
            "pyswarms.discrete.binary:  84%|████████▍ |84/100, best_cost=0.075\u001b[A\n",
            "pyswarms.discrete.binary:  84%|████████▍ |84/100, best_cost=0.075\u001b[A\n",
            "pyswarms.discrete.binary:  85%|████████▌ |85/100, best_cost=0.075\u001b[A\n",
            "pyswarms.discrete.binary:  85%|████████▌ |85/100, best_cost=0.075\u001b[A\n",
            "pyswarms.discrete.binary:  86%|████████▌ |86/100, best_cost=0.075\u001b[A\n",
            "pyswarms.discrete.binary:  86%|████████▌ |86/100, best_cost=0.075\u001b[A\n",
            "pyswarms.discrete.binary:  87%|████████▋ |87/100, best_cost=0.075\u001b[A\n",
            "pyswarms.discrete.binary:  87%|████████▋ |87/100, best_cost=0.075\u001b[A\n",
            "pyswarms.discrete.binary:  88%|████████▊ |88/100, best_cost=0.075\u001b[A\n",
            "pyswarms.discrete.binary:  88%|████████▊ |88/100, best_cost=0.075\u001b[A\n",
            "pyswarms.discrete.binary:  89%|████████▉ |89/100, best_cost=0.075\u001b[A\n",
            "pyswarms.discrete.binary:  89%|████████▉ |89/100, best_cost=0.075\u001b[A\n",
            "pyswarms.discrete.binary:  90%|█████████ |90/100, best_cost=0.075\u001b[A\n",
            "pyswarms.discrete.binary:  90%|█████████ |90/100, best_cost=0.075\u001b[A\n",
            "pyswarms.discrete.binary:  91%|█████████ |91/100, best_cost=0.075\u001b[A\n",
            "pyswarms.discrete.binary:  91%|█████████ |91/100, best_cost=0.075\u001b[A\n",
            "pyswarms.discrete.binary:  92%|█████████▏|92/100, best_cost=0.075\u001b[A\n",
            "pyswarms.discrete.binary:  92%|█████████▏|92/100, best_cost=0.075\u001b[A\n",
            "pyswarms.discrete.binary:  93%|█████████▎|93/100, best_cost=0.075\u001b[A\n",
            "pyswarms.discrete.binary:  93%|█████████▎|93/100, best_cost=0.075\u001b[A\n",
            "pyswarms.discrete.binary:  94%|█████████▍|94/100, best_cost=0.075\u001b[A\n",
            "pyswarms.discrete.binary:  94%|█████████▍|94/100, best_cost=0.075\u001b[A\n",
            "pyswarms.discrete.binary:  95%|█████████▌|95/100, best_cost=0.075\u001b[A\n",
            "pyswarms.discrete.binary:  95%|█████████▌|95/100, best_cost=0.075\u001b[A\n",
            "pyswarms.discrete.binary:  96%|█████████▌|96/100, best_cost=0.075\u001b[A\n",
            "pyswarms.discrete.binary:  96%|█████████▌|96/100, best_cost=0.075\u001b[A\n",
            "pyswarms.discrete.binary:  97%|█████████▋|97/100, best_cost=0.075\u001b[A\n",
            "pyswarms.discrete.binary:  97%|█████████▋|97/100, best_cost=0.075\u001b[A\n",
            "pyswarms.discrete.binary:  98%|█████████▊|98/100, best_cost=0.075\u001b[A\n",
            "pyswarms.discrete.binary:  98%|█████████▊|98/100, best_cost=0.075\u001b[A\n",
            "pyswarms.discrete.binary:  99%|█████████▉|99/100, best_cost=0.075\u001b[A\n",
            "pyswarms.discrete.binary:  99%|█████████▉|99/100, best_cost=0.075\u001b[A\n",
            "pyswarms.discrete.binary: 100%|██████████|100/100, best_cost=0.075\n",
            "2021-05-14 11:08:36,622 - pyswarms.discrete.binary - INFO - Optimization finished | best cost: 0.07495652173913044, best pos: [1 1 1 1 0 1 1 1 1 1 1 1 1 1 1]\n"
          ],
          "name": "stderr"
        }
      ]
    },
    {
      "cell_type": "code",
      "metadata": {
        "colab": {
          "base_uri": "https://localhost:8080/"
        },
        "id": "nnnUDDh5SLG8",
        "outputId": "3132e1f2-8e77-47af-b6bd-6bc3a697a6ae"
      },
      "source": [
        "#selected features from the final positions\n",
        "X_selected_features = X[:,pos==1]\n",
        "#perform classification\n",
        "knn_ch.fit(X_selected_features, y)\n",
        "# Compute performance\n",
        "subset_performance = (knn_ch.predict(X_selected_features) == y).mean()\n",
        "\n",
        "print(\"Subset performance/accuracy:\", round((subset_performance),3))"
      ],
      "execution_count": null,
      "outputs": [
        {
          "output_type": "stream",
          "text": [
            "Subset performance/accuracy: 0.924\n"
          ],
          "name": "stdout"
        }
      ]
    },
    {
      "cell_type": "code",
      "metadata": {
        "id": "YapAaaqeZs47"
      },
      "source": [
        "y_pred = knn_ch.predict(X_selected_features)\n",
        "cf_matrix = confusion_matrix(y_pred, y)"
      ],
      "execution_count": null,
      "outputs": []
    },
    {
      "cell_type": "code",
      "metadata": {
        "colab": {
          "base_uri": "https://localhost:8080/",
          "height": 245
        },
        "id": "utD3oHfKZ0fk",
        "outputId": "d623f75a-d337-4217-bf37-b3be8a079241"
      },
      "source": [
        "print(\"knn(distance=chebyshev) with binary-PSO\")\n",
        "\n",
        "plt.figure(figsize = (4,3))\n",
        "sns.heatmap(cf_matrix/np.sum(cf_matrix), annot=True, square=True, fmt='.2%', xticklabels=spam_categories, yticklabels=spam_categories, cmap=\"YlGnBu\")\n",
        "plt.plot()"
      ],
      "execution_count": null,
      "outputs": [
        {
          "output_type": "stream",
          "text": [
            "knn(distance=chebyshev) with binary-PSO\n"
          ],
          "name": "stdout"
        },
        {
          "output_type": "execute_result",
          "data": {
            "text/plain": [
              "[]"
            ]
          },
          "metadata": {
            "tags": []
          },
          "execution_count": 302
        },
        {
          "output_type": "display_data",
          "data": {
            "image/png": "[encoded data removed]",
            "text/plain": [
              "<Figure size 288x216 with 2 Axes>"
            ]
          },
          "metadata": {
            "tags": [],
            "needs_background": "light"
          }
        }
      ]
    },
    {
      "cell_type": "markdown",
      "metadata": {
        "id": "7khdU0qAgZ8C"
      },
      "source": [
        "\n",
        "\n",
        "---\n",
        "\n"
      ]
    },
    {
      "cell_type": "markdown",
      "metadata": {
        "id": "-uIZY_9s6Eis"
      },
      "source": [
        "### Grey Wolf Optimization with KNN"
      ]
    },
    {
      "cell_type": "markdown",
      "metadata": {
        "id": "eGa_S_VOgb1x"
      },
      "source": [
        "**About :**\n",
        "\n",
        "GWO is a meta-heuristic optimization algorithm that employs an\n",
        "approach inspired by the predatory nature of grey wolves in nature\n",
        "by mimicking their hunting mechanisms. The\n",
        "search agent with the best resultant fitness value is termed as the alpha,\n",
        "while the second-best fitness value is termed as beta and third-best fitness\n",
        "value is termed as the delta.\n",
        "\n",
        "- number of clusters(Number of packs considered)=1\n",
        "- Number of Iterations = 500"
      ]
    },
    {
      "cell_type": "code",
      "metadata": {
        "id": "BXQKIRQACm1u"
      },
      "source": [
        "from pyriad.agents import  GWOAgent\n",
        "from pyriad.swarms import Swarm\n",
        "from pyriad.populations import Population\n",
        "import torch"
      ],
      "execution_count": 42,
      "outputs": []
    },
    {
      "cell_type": "code",
      "metadata": {
        "id": "Q9jFGXhUCm1y"
      },
      "source": [
        "df_wolabel = df_red_normalised.drop(columns=['spam'])"
      ],
      "execution_count": 43,
      "outputs": []
    },
    {
      "cell_type": "code",
      "metadata": {
        "id": "iWvqKoutDieT"
      },
      "source": [
        "tensor_data_wo = torch.tensor(df_wolabel.values).float()"
      ],
      "execution_count": 44,
      "outputs": []
    },
    {
      "cell_type": "code",
      "metadata": {
        "id": "I8L3owTWDWCg"
      },
      "source": [
        "agent = GWOAgent(n_clusters=1)\n",
        "gwo_swarm = Swarm(memory_size=3)\n",
        "gwo_swarm.populate(agent,2)"
      ],
      "execution_count": 45,
      "outputs": []
    },
    {
      "cell_type": "code",
      "metadata": {
        "colab": {
          "base_uri": "https://localhost:8080/"
        },
        "id": "GbZMXrmaDWCh",
        "outputId": "df479369-bd64-4225-a3eb-52b297d36abf"
      },
      "source": [
        "gwo_swarm.train(tensor_data_wo, 500)"
      ],
      "execution_count": 46,
      "outputs": [
        {
          "output_type": "stream",
          "text": [
            "Episode 50\tAverage Score: 356.32\n",
            "Episode 100\tAverage Score: 283.61\n",
            "Episode 150\tAverage Score: 279.68\n",
            "Episode 200\tAverage Score: 279.20\n",
            "Episode 250\tAverage Score: 276.83\n",
            "Episode 300\tAverage Score: 275.92\n",
            "Episode 350\tAverage Score: 275.08\n",
            "Episode 400\tAverage Score: 274.01\n",
            "Episode 450\tAverage Score: 273.54\n",
            "Episode 500\tAverage Score: 273.28\n"
          ],
          "name": "stdout"
        }
      ]
    },
    {
      "cell_type": "code",
      "metadata": {
        "id": "b14q_fO4DWCi"
      },
      "source": [
        "labels, score = gwo_swarm.predict(tensor_data_wo)\n",
        "df2=df_red_normalised\n",
        "df2[\"Position\"]=labels\n"
      ],
      "execution_count": 47,
      "outputs": []
    },
    {
      "cell_type": "code",
      "metadata": {
        "id": "K3hI2PepYicK",
        "colab": {
          "base_uri": "https://localhost:8080/"
        },
        "outputId": "22ee7519-c709-4e27-9ec3-ce74408757d6"
      },
      "source": [
        "df2=df2.loc[df2['Position'] == 0]\n",
        "y=df2[\"spam\"]"
      ],
      "execution_count": 48,
      "outputs": [
        {
          "output_type": "stream",
          "text": [
            "2021-05-15 14:28:47,015 - numexpr.utils - INFO - NumExpr defaulting to 2 threads.\n"
          ],
          "name": "stderr"
        }
      ]
    },
    {
      "cell_type": "code",
      "metadata": {
        "id": "vBVmRGM1YzYq"
      },
      "source": [
        "del df2[\"spam\"]\n",
        "del df2[\"Position\"]"
      ],
      "execution_count": 49,
      "outputs": []
    },
    {
      "cell_type": "markdown",
      "metadata": {
        "id": "5qgtyK6EZa_V"
      },
      "source": [
        "**KNN With Euclidean Distance**"
      ]
    },
    {
      "cell_type": "code",
      "metadata": {
        "colab": {
          "base_uri": "https://localhost:8080/"
        },
        "id": "jPR3sfp6LeRQ",
        "outputId": "ea8e05e2-9691-47eb-8d03-1726ede550a9"
      },
      "source": [
        "\n",
        "knn_eu.fit(df2, y)\n",
        "subset_performance = (knn_eu.predict(D_test) == B_test).mean()\n",
        "print(\"Subset performance/accuracy:\", round((subset_performance),3))"
      ],
      "execution_count": 50,
      "outputs": [
        {
          "output_type": "stream",
          "text": [
            "Subset performance/accuracy: 0.912\n"
          ],
          "name": "stdout"
        }
      ]
    },
    {
      "cell_type": "code",
      "metadata": {
        "id": "O4Yp7gpAZItO"
      },
      "source": [
        "y_pred = knn_eu.predict(D_test)\n",
        "cf_matrix = confusion_matrix(y_pred, B_test)"
      ],
      "execution_count": 51,
      "outputs": []
    },
    {
      "cell_type": "code",
      "metadata": {
        "colab": {
          "base_uri": "https://localhost:8080/",
          "height": 245
        },
        "id": "SHDluz_8ZAu2",
        "outputId": "466b4b9c-afe2-42e8-a10f-8d86258cf90e"
      },
      "source": [
        "print(\"knn(distance=euclidean) with GWO\")\n",
        "\n",
        "plt.figure(figsize = (4,3))\n",
        "sns.heatmap(cf_matrix/np.sum(cf_matrix), annot=True, square=True, fmt='.2%', xticklabels=spam_categories, yticklabels=spam_categories, cmap=\"YlGnBu\")\n",
        "plt.plot()"
      ],
      "execution_count": 52,
      "outputs": [
        {
          "output_type": "stream",
          "text": [
            "knn(distance=euclidean) with GWO\n"
          ],
          "name": "stdout"
        },
        {
          "output_type": "execute_result",
          "data": {
            "text/plain": [
              "[]"
            ]
          },
          "metadata": {
            "tags": []
          },
          "execution_count": 52
        },
        {
          "output_type": "display_data",
          "data": {
            "image/png": "[encoded data removed]",
            "text/plain": [
              "<Figure size 288x216 with 2 Axes>"
            ]
          },
          "metadata": {
            "tags": [],
            "needs_background": "light"
          }
        }
      ]
    },
    {
      "cell_type": "markdown",
      "metadata": {
        "id": "g4FFi9NFZckr"
      },
      "source": [
        "**KNN With Manhattan Distance**"
      ]
    },
    {
      "cell_type": "code",
      "metadata": {
        "colab": {
          "base_uri": "https://localhost:8080/"
        },
        "id": "IZOel3BwZfT-",
        "outputId": "0bb6a0ab-f80c-49ee-8b63-6d345ab1890f"
      },
      "source": [
        "knn_mn.fit(df2, y)\n",
        "subset_performance = (knn_mn.predict(D_test) == B_test).mean()\n",
        "print(\"Subset performance/accuracy:\", round((subset_performance),3))"
      ],
      "execution_count": 53,
      "outputs": [
        {
          "output_type": "stream",
          "text": [
            "Subset performance/accuracy: 0.917\n"
          ],
          "name": "stdout"
        }
      ]
    },
    {
      "cell_type": "code",
      "metadata": {
        "id": "blgT6suSZfUL"
      },
      "source": [
        "y_pred = knn_mn.predict(D_test)\n",
        "cf_matrix = confusion_matrix(y_pred, B_test)"
      ],
      "execution_count": 54,
      "outputs": []
    },
    {
      "cell_type": "code",
      "metadata": {
        "colab": {
          "base_uri": "https://localhost:8080/",
          "height": 245
        },
        "id": "G0gz2rzUZfUM",
        "outputId": "6f1b7bf5-8e1f-4a16-ec20-9782b0ff08fe"
      },
      "source": [
        "print(\"knn(distance=Manhattan) with GWO\")\n",
        "\n",
        "plt.figure(figsize = (4,3))\n",
        "sns.heatmap(cf_matrix/np.sum(cf_matrix), annot=True, square=True, fmt='.2%', xticklabels=spam_categories, yticklabels=spam_categories, cmap=\"YlGnBu\")\n",
        "plt.plot()"
      ],
      "execution_count": 55,
      "outputs": [
        {
          "output_type": "stream",
          "text": [
            "knn(distance=Manhattan) with GWO\n"
          ],
          "name": "stdout"
        },
        {
          "output_type": "execute_result",
          "data": {
            "text/plain": [
              "[]"
            ]
          },
          "metadata": {
            "tags": []
          },
          "execution_count": 55
        },
        {
          "output_type": "display_data",
          "data": {
            "image/png": "[encoded data removed]",
            "text/plain": [
              "<Figure size 288x216 with 2 Axes>"
            ]
          },
          "metadata": {
            "tags": [],
            "needs_background": "light"
          }
        }
      ]
    },
    {
      "cell_type": "markdown",
      "metadata": {
        "id": "H2QjXqUOZmZ6"
      },
      "source": [
        "**KNN With Chebyshev Distance**"
      ]
    },
    {
      "cell_type": "code",
      "metadata": {
        "colab": {
          "base_uri": "https://localhost:8080/"
        },
        "id": "5TKzZYLeZnIV",
        "outputId": "ac7ab0ff-ceba-4011-dfb5-f48996ca1d73"
      },
      "source": [
        "knn_ch.fit(df2, y)\n",
        "subset_performance = (knn_ch.predict(D_test) == B_test).mean()\n",
        "print(\"Subset performance/accuracy:\", round((subset_performance),3))"
      ],
      "execution_count": 56,
      "outputs": [
        {
          "output_type": "stream",
          "text": [
            "Subset performance/accuracy: 0.917\n"
          ],
          "name": "stdout"
        }
      ]
    },
    {
      "cell_type": "code",
      "metadata": {
        "id": "X8X4_GetZnIX"
      },
      "source": [
        "y_pred = knn_ch.predict(D_test)\n",
        "cf_matrix = confusion_matrix(y_pred, B_test)"
      ],
      "execution_count": 57,
      "outputs": []
    },
    {
      "cell_type": "code",
      "metadata": {
        "colab": {
          "base_uri": "https://localhost:8080/",
          "height": 245
        },
        "id": "PhsPisCwZnIY",
        "outputId": "d1967602-9160-409d-d136-20078a3b26f1"
      },
      "source": [
        "print(\"knn(distance=chebyshev) with GWO\")\n",
        "\n",
        "plt.figure(figsize = (4,3))\n",
        "sns.heatmap(cf_matrix/np.sum(cf_matrix), annot=True, square=True, fmt='.2%', xticklabels=spam_categories, yticklabels=spam_categories, cmap=\"YlGnBu\")\n",
        "plt.plot()"
      ],
      "execution_count": 58,
      "outputs": [
        {
          "output_type": "stream",
          "text": [
            "knn(distance=chebyshev) with GWO\n"
          ],
          "name": "stdout"
        },
        {
          "output_type": "execute_result",
          "data": {
            "text/plain": [
              "[]"
            ]
          },
          "metadata": {
            "tags": []
          },
          "execution_count": 58
        },
        {
          "output_type": "display_data",
          "data": {
            "image/png": "[encoded data removed]",
            "text/plain": [
              "<Figure size 288x216 with 2 Axes>"
            ]
          },
          "metadata": {
            "tags": [],
            "needs_background": "light"
          }
        }
      ]
    },
    {
      "cell_type": "code",
      "metadata": {
        "id": "JMflOzzbZ4zf"
      },
      "source": [
        ""
      ],
      "execution_count": null,
      "outputs": []
    },
    {
      "cell_type": "markdown",
      "metadata": {
        "id": "I0Udf3k4lpx7"
      },
      "source": [
        "\n",
        "\n",
        "---\n",
        "\n"
      ]
    },
    {
      "cell_type": "markdown",
      "metadata": {
        "id": "c4HPh5welroF"
      },
      "source": [
        "# Conclusion\n",
        "![final result Cyber_proj.jpeg](data:image/jpeg;base64,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)"
      ]
    },
    {
      "cell_type": "markdown",
      "metadata": {
        "id": "IaGcadBZl8_Z"
      },
      "source": [
        "* Binary PSO gave best result among these three different methods.\n",
        "\n"
      ]
    }
  ]
}